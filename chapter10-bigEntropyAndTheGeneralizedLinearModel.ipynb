{
 "cells": [
  {
   "cell_type": "markdown",
   "metadata": {},
   "source": [
    "# Chapter 10 - Big Entropy and the Generalized Linear Model\n",
    "\n",
    "- Entropy: things that can happen vastly more ways are more likely\n",
    "- Entropy can help us to chose our priors and likelihoods\n",
    "- When going beyond the conventional, it's helpful to have a principle to guide us. One principle: choose the distribution with the highest entropy. 3 Justifications:\n",
    "    - Distribution with the biggest entropy is the widest and least informative distribution that is still consistent with what we believe.\n",
    "    - Nature tends to produce empirical distributions with high entropy. E.g. lots of things are normally distributed; normal distribution contains no information *except* the mean and variance; any other distribution would entail making more assumptions. Natural processes other than addition also tend to produce maximum entropy distributions, but they're not normal.\n",
    "    - Regardless of why it works, it tends to work.\n",
    "- This chapter is an introduction to **Generalized Linear Models** and the principle of **Maximum Entropy**. A **GLM** is much like the linear regression we've already looked at. It's a model that replaces a parameter of a likelihood function with a linear model. *GLMs** need not use **Gaussian** likelihoods. Any likelihood function can be used, and linear models can be attached to any / all of the parameters.\n",
    "- Principle of **Maximum Entropy** can help us to choose likelihood functions\n",
    "\n",
    "## Maximum Entropy\n",
    "in **Chapter 7** we looked at the basics of information theory. Reminder: unique measure of the uncertainty of a probability distribution $p$ is is the *information entropy*\n",
    "\n",
    "$$\n",
    "H(p) = -\\sum p_i \\log(p_i)\n",
    "$$\n",
    "\n",
    "Simple way to state the maximum entropy principle:\n",
    "\n",
    "> The distribution that can happen the most ways is also the distribution with the biggest information entropy. The distribution with the biggest entropy is the most conservative distribution that obeys its constraints.\n",
    "\n",
    "To build some intuition:\n",
    "\n",
    "Imagine 5 buckets and a pile of 10 individually numbered pebbles. You stand and toss all 10 pebbles such that each pebble is equally likely to land in any of the buckets. Every arrangement of the pebbles is equally likely - equal probability to get all 10 in bucket 3 as to get pebble 1 in bucket 2, 2-9 in bucket 3, and pebble 10 in bucket 4.\n",
    "\n",
    "Despite this, some arrangements are far more likely. There is only 1 way to get all pebbles in bucket 3, but 90 ways to get 1 in bucket 2, 2-9 in bucket 3, and 10 in bucket 4."
   ]
  },
  {
   "cell_type": "code",
   "execution_count": 1,
   "metadata": {
    "vscode": {
     "languageId": "r"
    }
   },
   "outputs": [
    {
     "data": {
      "text/html": [
       "<style>\n",
       ".dl-inline {width: auto; margin:0; padding: 0}\n",
       ".dl-inline>dt, .dl-inline>dd {float: none; width: auto; display: inline-block}\n",
       ".dl-inline>dt::after {content: \":\\0020\"; padding-right: .5ex}\n",
       ".dl-inline>dt:not(:first-of-type) {padding-left: .5ex}\n",
       "</style><dl class=dl-inline><dt>A</dt><dd>0</dd><dt>B</dt><dd>0.639031859650177</dd><dt>C</dt><dd>0.950270539233235</dd><dt>D</dt><dd>1.47080847632211</dd><dt>E</dt><dd>1.6094379124341</dd></dl>\n"
      ],
      "text/latex": [
       "\\begin{description*}\n",
       "\\item[A] 0\n",
       "\\item[B] 0.639031859650177\n",
       "\\item[C] 0.950270539233235\n",
       "\\item[D] 1.47080847632211\n",
       "\\item[E] 1.6094379124341\n",
       "\\end{description*}\n"
      ],
      "text/markdown": [
       "A\n",
       ":   0B\n",
       ":   0.639031859650177C\n",
       ":   0.950270539233235D\n",
       ":   1.47080847632211E\n",
       ":   1.6094379124341\n",
       "\n"
      ],
      "text/plain": [
       "        A         B         C         D         E \n",
       "0.0000000 0.6390319 0.9502705 1.4708085 1.6094379 "
      ]
     },
     "metadata": {},
     "output_type": "display_data"
    }
   ],
   "source": [
    "p <- list()\n",
    "p$A <- c(0, 0, 10, 0, 0)\n",
    "p$B <- c(0, 1, 8, 1, 0)\n",
    "p$C <- c(0, 2, 6, 2, 0)\n",
    "p$D <- c(1, 2, 4, 2, 1)\n",
    "p$E <- c(2, 2, 2, 2, 2)\n",
    "\n",
    "# normalize so it's a probability distribution\n",
    "p_norm <- lapply(p, function(q) q / sum(q))\n",
    "\n",
    "# compute the information entropy, remembering L'Hopital's Rule (for when $p=0$)\n",
    "H <- sapply(p_norm, function(q) -sum(ifelse(q==0, 0, q*log(q))))\n",
    "H"
   ]
  },
  {
   "cell_type": "markdown",
   "metadata": {},
   "source": [
    "E, the one with the most ways of being realized, has the highest entropy. Let's see why: compute the logarithm of the number of ways each can be realized, then divide the logarithm by 10, the number of pebbles. This gives us the log ways per pebble for each distribution:"
   ]
  },
  {
   "cell_type": "code",
   "execution_count": 2,
   "metadata": {
    "vscode": {
     "languageId": "r"
    }
   },
   "outputs": [],
   "source": [
    "ways <- c(1, 90, 1260, 37800, 113400)\n",
    "logwayspp <- log(ways) / 10"
   ]
  },
  {
   "cell_type": "code",
   "execution_count": 3,
   "metadata": {
    "vscode": {
     "languageId": "r"
    }
   },
   "outputs": [
    {
     "data": {
      "text/html": [
       "<table class=\"dataframe\">\n",
       "<caption>A data.frame: 5 × 3</caption>\n",
       "<thead>\n",
       "\t<tr><th></th><th scope=col>label</th><th scope=col>entropy</th><th scope=col>logwayspp</th></tr>\n",
       "\t<tr><th></th><th scope=col>&lt;chr&gt;</th><th scope=col>&lt;dbl&gt;</th><th scope=col>&lt;dbl&gt;</th></tr>\n",
       "</thead>\n",
       "<tbody>\n",
       "\t<tr><th scope=row>A</th><td>A</td><td>0.0000000</td><td>0.0000000</td></tr>\n",
       "\t<tr><th scope=row>B</th><td>B</td><td>0.6390319</td><td>0.4499810</td></tr>\n",
       "\t<tr><th scope=row>C</th><td>C</td><td>0.9502705</td><td>0.7138867</td></tr>\n",
       "\t<tr><th scope=row>D</th><td>D</td><td>1.4708085</td><td>1.0540064</td></tr>\n",
       "\t<tr><th scope=row>E</th><td>E</td><td>1.6094379</td><td>1.1638677</td></tr>\n",
       "</tbody>\n",
       "</table>\n"
      ],
      "text/latex": [
       "A data.frame: 5 × 3\n",
       "\\begin{tabular}{r|lll}\n",
       "  & label & entropy & logwayspp\\\\\n",
       "  & <chr> & <dbl> & <dbl>\\\\\n",
       "\\hline\n",
       "\tA & A & 0.0000000 & 0.0000000\\\\\n",
       "\tB & B & 0.6390319 & 0.4499810\\\\\n",
       "\tC & C & 0.9502705 & 0.7138867\\\\\n",
       "\tD & D & 1.4708085 & 1.0540064\\\\\n",
       "\tE & E & 1.6094379 & 1.1638677\\\\\n",
       "\\end{tabular}\n"
      ],
      "text/markdown": [
       "\n",
       "A data.frame: 5 × 3\n",
       "\n",
       "| <!--/--> | label &lt;chr&gt; | entropy &lt;dbl&gt; | logwayspp &lt;dbl&gt; |\n",
       "|---|---|---|---|\n",
       "| A | A | 0.0000000 | 0.0000000 |\n",
       "| B | B | 0.6390319 | 0.4499810 |\n",
       "| C | C | 0.9502705 | 0.7138867 |\n",
       "| D | D | 1.4708085 | 1.0540064 |\n",
       "| E | E | 1.6094379 | 1.1638677 |\n",
       "\n"
      ],
      "text/plain": [
       "  label entropy   logwayspp\n",
       "A A     0.0000000 0.0000000\n",
       "B B     0.6390319 0.4499810\n",
       "C C     0.9502705 0.7138867\n",
       "D D     1.4708085 1.0540064\n",
       "E E     1.6094379 1.1638677"
      ]
     },
     "metadata": {},
     "output_type": "display_data"
    }
   ],
   "source": [
    "plot_df <- data.frame(\n",
    "    label=c(\"A\", \"B\", \"C\", \"D\", \"E\"),\n",
    "    entropy=H,\n",
    "    logwayspp=logwayspp\n",
    ")\n",
    "head(plot_df)"
   ]
  },
  {
   "cell_type": "code",
   "execution_count": 4,
   "metadata": {
    "vscode": {
     "languageId": "r"
    }
   },
   "outputs": [],
   "source": [
    "library(ggplot2)"
   ]
  },
  {
   "cell_type": "code",
   "execution_count": 5,
   "metadata": {
    "vscode": {
     "languageId": "r"
    }
   },
   "outputs": [
    {
     "data": {
      "image/png": "[encoded data removed]",
      "text/plain": [
       "plot without title"
      ]
     },
     "metadata": {
      "image/png": {
       "height": 420,
       "width": 420
      }
     },
     "output_type": "display_data"
    }
   ],
   "source": [
    "ggplot(plot_df, aes(logwayspp, entropy)) +\n",
    "    geom_point() +\n",
    "    geom_smooth(method='lm', formula=y~x) +\n",
    "    geom_text(aes(label=label), nudge_y=0.1) +\n",
    "    xlab(\"log(ways) per pebble\") +\n",
    "    ylab(\"Entropy\")"
   ]
  },
  {
   "cell_type": "markdown",
   "metadata": {},
   "source": [
    "We call the distibution that can happen the greatest number of ways the **Maximum Entropy Distribution**; it's the most plausible distribution.\n",
    "\n",
    "### Gaussian\n",
    "\n",
    "In natural systems, when you have lots of small things adding up, you tend to get a **Gaussian**. We saw this in **Chapter 4**, with the coin-flipping.\n",
    "\n",
    "Maximum entropy seeks the distribution that can arise the largest number of ways. It also seeks the 'flattest' distribution that is consistent with the data.\n",
    "\n",
    "In order to visualize how the **Gaussian** is the most even distribution for a given variance, let's look at the **Generalized Normal Distribution**:\n",
    "\n",
    "$$\n",
    "\\text{Pr($y|\\mu, \\alpha, \\beta$)} = \\frac{\\beta}{2\\alpha \\Gamma(1 / \\beta)}e^{-\\left( \\frac{|y - \\mu}{\\alpha} \\right)^\\beta}\n",
    "$$"
   ]
  },
  {
   "cell_type": "markdown",
   "metadata": {},
   "source": [
    "Basic idea: if all that we're willing to assume about a collection of measurements is that they have a finite variance, then we will get the **Gaussian** distribution. However, if we assume more then we'll get a different distribution!\n",
    "\n",
    "### Binomial\n",
    "\n",
    "In **Chapter 2**, we talked about Bayesian updating by drawing marbles from a bag. The likelihood ended up being a **Binomial Distribution**, with\n",
    "\n",
    "$$\n",
    "Pr(y|n,p) = \\frac{n!}{y!(n-y)!}p^y(1-p)^{n-y}\n",
    "$$\n",
    "\n",
    "We can also think about the probability of *any unique sequence of events* as being\n",
    "\n",
    "$$\n",
    "Pr(y_1, y_2, \\dots, y_n) = p^y (1-p)^{n - y}\n",
    "$$\n",
    "\n",
    "We can verify that the binomial distribution is the one that maximizes the entropy by manually testing other distributions. The constraint in this case is that the expected number of blue marbles in two draws is 1.\n",
    "\n",
    "## Generalized linear models\n",
    "\n",
    "**Gaussian** models of the previous chapter worked by assuming a **Gaussian distribution** over the outcomes. Then we replaced the mean with a linear model, like so:\n",
    "\n",
    "$$\n",
    "\\begin{align*}\n",
    "y_i &\\sim \\text{Normal}(\\mu_i,\\sigma) \\\\\n",
    "\\mu_i &= \\alpha + \\beta x_i \\\\\n",
    "\\end{align*}\n",
    "$$\n",
    "\n",
    "For an outcome variable that is continuous and far from any theoretical max or min, this sort of Gaussian model has maximum entropy.\n",
    "\n",
    "However, when the outcome variable is either discrete or bounded, this can't be trusted to do much more than estimate the mean.\n",
    "\n",
    "Luckily, we can do better. By using our knowledge about the outcome variable and appealing to maximum entropy, we can generalize the linear regression strategy - replace a parameter describing the shape of the likelihood with a linkear model - to probability distributions other than the **Gaussian**.\n",
    "\n",
    "This is the essence of the **Generalized Linear Model**. The models now look like this:\n",
    "\n",
    "$$\n",
    "\\begin{align*}\n",
    "y_i &\\sim \\text{Binomial}(n, p_i) \\\\\n",
    "f(p_i) &= \\alpha + \\beta (x_i - \\bar{x}) \\\\\n",
    "\\end{align*}\n",
    "$$\n",
    "\n",
    "There are two changes here as compared to the regular Gaussian model.\n",
    "\n",
    "1. The likelihood is **binomial**, not **Gaussian**. This is our appeal to maximum entropy - for a count outcome with each outcome arising from $n$ trials and constant expected value $np$, the **binomial** is the least informative distribution which satisfies our prior knowledge (maximum entropy)\n",
    "2. There is now a function $f$ representing the **Link Function**, to be determined separately from the choice of distribution. Generalized linear models need a link function because there is only rarely a $\\mu$ parameter representing the average outcome, and also the parameters are rarely unbounded in each direction.\n",
    "\n",
    "### Meet the family\n",
    "\n",
    "The most common distributions used in statistical modelling are members of a family known as the **Exponential Family**. Every member of the family is a maximum entropy distribution for some set of constraints. Conveniently, just about every other statistical modelling tradition employs the same distributions, even thugh they arrive at then via justifications other than maximum entropy.\n",
    "\n",
    "Two of the distributions, the **Gaussian** and **binomial**, are the most commonly used distributions in applied statistics through **linear regression** (**Chapter 4**) and **logistic regression** (**Chapter 11**).\n",
    "\n",
    "The **Exponential Distribution** is constrained to be zero or positive. It is a distribution describing distance or duration, kinds of measurements that describe a displacement in space / time. If the probability of an event is constant in space or time, then the distribution of events tends toward the **exponential**. Shape is described by a single parameter, $\\lambda$ (rate of events) or $\\lambda^{-1}$, the average displacement. The **exponential** is core to survival or event history analysis (not in this book).\n",
    "\n",
    "The **Gamma Distribution** is also zero or positive. Also a fundamental dstribution of distance / duration. The difference between the **Gamma Distribution** and the **Exponential Distribution** is that the gamma can have a peak above zero. Has maximum entropy for all distributions with the same mean and the same average logarithm. Shape is described by two parameters, but there are several common parameterizations. Common in survival and event history analysis, as well as some contexts where a continuous measurement is constrained to be positive.\n",
    "\n",
    "The **Poisson Distribution** is a count distribution, like the **Binomial Distribution**. It is actually a special case; as $n \\to \\infty$ and $p \\to 0$, then the **binomial** converges to a **poisson** with $\\lambda = np$. Practically, the **poisson** is used for counts the never get close to any theoretical maximum.\n",
    "\n",
    "### Linking linear models to distributions\n",
    "\n",
    "To build a regression model from any of these exponential familu distributions just means attaching a linear model to one or more of the parameters that describes the distribution. However, we often need a **Link Function** to make sure that no mathemtical accidents occur (e.g. a parameter being constrained to be non-negative, &c.)\n",
    "\n",
    "For instance:\n",
    "\n",
    "$$\n",
    "\\begin{align*}\n",
    "y_i &\\sim \\text{Zaphod}(\\theta_i, \\phi) \\\\\n",
    "f(\\theta_i) &= \\alpha + \\beta(x_i - \\bar{x})\n",
    "\\end{align*}\n",
    "$$\n",
    "\n",
    "Here, $f$ is the **Link Function**. The job of a link function is to map the linear space of the model ($\\alpha + \\beta (x_i - \\bar{x})$) into the non-linear space of the parameter $\\theta_i$. Most of the time you can use one of two very common link functions: a **Logit Link** or a **Log Link**.\n",
    "\n",
    "The **logit link** maps a parameter that is defined as a probability mass (and so must lie in $[0, 1]$) onto a linear model that can take any real value. In the context of a model definition, it looks like this:\n",
    "\n",
    "$$\n",
    "\\begin{align*}\n",
    "y_i &\\sim \\text{Binomial}(n, p_i) \\\\\n",
    "\\text{logit}(p_i) &= \\alpha + \\beta x_i \\\\\n",
    "\\end{align*}\n",
    "$$\n",
    "\n",
    "And the logit function itself is defined as the **log-odds** $\\text{logit}(p_i) = \\log \\frac{p}{1 - p_i}$. The *odds* of an event are just the probability that it happens divided by the proability that it doesn't happen, so this just says that\n",
    "\n",
    "$$\n",
    "\\log \\frac{p_i}{1 - p_i} = \\alpha + \\beta x_i\n",
    "$$\n",
    "\n",
    "We can easily solve this for $p_i$:\n",
    "\n",
    "$$\n",
    "p_i = \\frac{e^{\\alpha + \\beta x_i}}{1 + e^{\\alpha + \\beta x_i}}\n",
    "$$\n",
    "\n",
    "This is the **logistic function**, which in this context is often called the *inverse-logit*.\n",
    "\n",
    "The other common link function is the **Log Link**. This maps a parameter over the positive real values onto a linear model. For instance, say we want to model the standard deviation $\\sigma$ of a normal variable. This needs to be positive and greater than 0, so our model might look like this:\n",
    "\n",
    "$$\n",
    "\\begin{align*}\n",
    "y_i \\sim \\text{Normal}(\\mu, \\sigma_1) \\\\\n",
    "\\log (\\sigma_i) = \\alpha + \\beta x_i \\\\\n",
    "\\end{align*}\n",
    "$$\n",
    "\n",
    "Again, we can easily solve this for $\\sigma_i$:\n",
    "\n",
    "$$\n",
    "\\sigma_i = e^{\\alpha + \\beta x_i}\n",
    "$$"
   ]
  },
  {
   "cell_type": "markdown",
   "metadata": {
    "vscode": {
     "languageId": "r"
    }
   },
   "source": [
    "### Omitted Variable Bias\n",
    "\n",
    "Back in **Chapter 5** and **Chapter 6**, we saw examples of **Omitted Variable Bias**, where leaving a causally important variable out of the analysis led to biased inference. It can be worse in GLMs, since even a variable that isn't a confounder can bias the results. The reason has to do with the ceiling and floor effects mentioned earlier.\n",
    "\n",
    "Say we have a binary outcome $Y$ that is affected by both $X$ and $Z$. If either is large enough, then $Y = 1$. If we only measure $X$, then we'll think that it doesn't affect $Y$ (since we are missing the causal effect of $Z$). This doesn't happen in regular linear models because the missing variable will just contribute to the mean.\n",
    "\n",
    "There is no way to avoid this; falling back to a regular linear model doesn't remove the bias, it just disguises it.\n",
    "\n",
    "### Absolute and relative differences\n",
    "\n",
    "Practical consideration: different link functions expand / compress different regions of the parameter space. Parameter estimates don't tell you the importance of the predictor on the outcome. Each parameter represents arelative difference on the scale of the linear model, ignoring other parameters. In reality, we are interested in the *absolute* differences in the outcome.\n",
    "\n",
    "This point will come up again in later chapters.\n",
    "\n",
    "### GLMs and Information Criteria\n",
    "\n",
    "Tempting to choose lots of link functions and likelihoods and let WAIC or whatever sort it out. Unfortunately, it doesn't work that way; information criteria can only be used to directly compare models with the same outcome distribution. There are ways to compare these different models, but not with **information criteria**. We will look at these later.\n",
    "\n",
    "## Maximum entropy priors\n",
    "\n",
    "The principle of maximum entropy can help us to choose priors. Sometimes we actually do have some information that we want to incorporate into the priors, and in these cases choosing a maximum entropy prior can be a conservative choice (since we are making as few additional assumptions as possible)."
   ]
  },
  {
   "cell_type": "code",
   "execution_count": null,
   "metadata": {
    "vscode": {
     "languageId": "r"
    }
   },
   "outputs": [],
   "source": []
  },
  {
   "cell_type": "markdown",
   "metadata": {},
   "source": []
  }
 ],
 "metadata": {
  "kernelspec": {
   "display_name": "R",
   "language": "R",
   "name": "ir"
  },
  "language_info": {
   "codemirror_mode": "r",
   "file_extension": ".r",
   "mimetype": "text/x-r-source",
   "name": "R",
   "pygments_lexer": "r",
   "version": "4.1.2"
  },
  "orig_nbformat": 4
 },
 "nbformat": 4,
 "nbformat_minor": 2
}
