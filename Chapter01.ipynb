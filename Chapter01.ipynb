{
 "cells": [
  {
   "cell_type": "markdown",
   "id": "38f73157-1abb-4c5e-b969-197dab27f1d1",
   "metadata": {},
   "source": [
    "# The Golem of Prague\n",
    "\n"
   ]
  }
 ],
 "metadata": {
  "kernelspec": {
   "display_name": "R",
   "language": "R",
   "name": "ir"
  },
  "language_info": {
   "codemirror_mode": "r",
   "file_extension": ".r",
   "mimetype": "text/x-r-source",
   "name": "R",
   "pygments_lexer": "r",
   "version": "4.1.2"
  }
 },
 "nbformat": 4,
 "nbformat_minor": 5
}
