{
 "cells": [
  {
   "attachments": {},
   "cell_type": "markdown",
   "metadata": {},
   "source": [
    "# Chapter 7 - Ulysses' Compass\n",
    "\n",
    "- The Copernican model (heliocentric) wasn't particularly more accurate that the Ptolemaic (geocentric) model\n",
    "    - Required slightly fewer epicycles\n",
    "    - One argument was that it was conceptually simpler\n",
    "- We often prefer simpler models to more complex ones\n",
    "- **Ockham's Razor**: models with fewer parameters are to be preferred\n",
    "- This chapter is about making the tradeoff between accuracy and simplicity\n",
    "- Instead of Ockham's Razor, think of **Ulysses' Compass**. He had to thread the narrow path between Scylla and Charybdis, not passing too close to either\n",
    "- In our case:\n",
    "    - Overfitting, which leads to poor prediction by learning too much from the data\n",
    "    - Underfitting, which leads to poor prediction by learning too little from the data\n",
    "- Another issue, confounding, has been covered in previous chapters.\n",
    "\n",
    "Two common families of approaches:\n",
    "1. Regularization prior: tells the model not to get too excited by the data. ALso called \"penalized likelihood\".\n",
    "1. Scoring device like **Information criteria** or **cross-validation** to model the prediction task and estimate predictive accuracy\n",
    "\n",
    "Both approaches are regularly used and are sometimes used in combination.\n",
    "\n",
    "To use the information criteria we first need to know a bit about **information theory**.\n",
    "\n",
    "## The problem with parameters\n",
    "\n",
    "In the **previous chapter**, we saw that adding parameters to a model can be dangerous - lots of bias can creep in. However, the models that we constructed were just fine at making prediction - they just didn't line up with the causes. So, if all you care about is making predictions can you just throw parameters in willy nilly?\n",
    "\n",
    "No!\n",
    "\n",
    "Adding parameters almost always increases the *fit* of the data. *Fit* is some measure of how well the model can rerodict the data used to fit it. There are a bunch - the most popular in linear models (probably due to its simplicity) is $R^2$ (also known as \"variance explained\"):\n",
    "\n",
    "$$\n",
    "R^2 = \\frac{\\text{var(\\text{outcome}) - \\text{var}(\\text{residuals})}}{\\text{var}(\\text{outcome})} = 1 - \\frac{\\text{var}(\\text{residuals})}{\\text{var}(\\text{outcome})}\n",
    "$$\n",
    "\n",
    "This measure increases as you add parameters to a model, even if the parameters are completely random and have no relation to the actual model. This means that measuring a model solely on fit is not a great idea.\n",
    "\n",
    "While adding parameters to a model usually increases the fit on existing data, they often *decrease* the fit to new data. Models with many parameters tend to **overfit** the data. On the other hand, models with too few parameters tend to **underfit**, systematically under- or over-fitting new data even when it looks like the data used to construct the model.\n",
    "\n",
    "### More parameters (almost) always improves fit\n",
    "\n",
    "**Overfitting** occurs when a model learns too much from a sample. In every sample, there are both *regular* and *irregular* features. The regular ones are what we want to learn about, while the irregular ones don't generalize and so can mislead us.\n",
    "\n",
    "Example of overfitting:"
   ]
  },
  {
   "cell_type": "code",
   "execution_count": 80,
   "metadata": {
    "vscode": {
     "languageId": "r"
    }
   },
   "outputs": [],
   "source": [
    "library('ggplot2')\n",
    "library('rethinking')\n",
    "library('dagitty')"
   ]
  },
  {
   "cell_type": "code",
   "execution_count": 9,
   "metadata": {
    "vscode": {
     "languageId": "r"
    }
   },
   "outputs": [],
   "source": [
    "sppname <- c(\"afarensis\", \"africanus\", \"habilis\", \"boisei\", \"rudolfensis\", \"ergaster\", \"sapiens\")\n",
    "brainvolcc <- c(438, 452, 612, 521, 752, 871, 1350)\n",
    "masskg <- c(37.0, 35.5, 34.5, 41.5, 55.5, 61.0, 53.5)\n",
    "d <- data.frame(species=sppname, brain=brainvolcc, mass=masskg)"
   ]
  },
  {
   "attachments": {},
   "cell_type": "markdown",
   "metadata": {
    "vscode": {
     "languageId": "r"
    }
   },
   "source": [
    "Brain size and mass are expected to be correlated. We can ask: after you control for the mass, what other variation is there in brain size? This is a pretty common approach."
   ]
  },
  {
   "cell_type": "code",
   "execution_count": 10,
   "metadata": {
    "vscode": {
     "languageId": "r"
    }
   },
   "outputs": [
    {
     "data": {
      "image/png": "[encoded data removed]",
      "text/plain": [
       "plot without title"
      ]
     },
     "metadata": {
      "image/png": {
       "height": 420,
       "width": 420
      }
     },
     "output_type": "display_data"
    }
   ],
   "source": [
    "ggplot(d, aes(mass, brain, label=species)) +\n",
    "    geom_point() +\n",
    "    geom_text(hjust=0, vjust=1)"
   ]
  },
  {
   "attachments": {},
   "cell_type": "markdown",
   "metadata": {},
   "source": [
    "Obvious question - why a linear relationship between mass and body size? Most people would probably prefer to model this as the log of mass and the log of brain volume. But why not  cubic?\n",
    "\n",
    "Let's fit a series of more and more complex models to this data and see what happens.\n",
    "\n",
    "(First we standardize te data)"
   ]
  },
  {
   "cell_type": "code",
   "execution_count": 11,
   "metadata": {
    "vscode": {
     "languageId": "r"
    }
   },
   "outputs": [],
   "source": [
    "d$mass_std <- ( d$mass - mean(d$mass) ) / sd(d$mass)\n",
    "d$brain_std <- d$brain / mean(d$brain) # doing it this way to preserve 0 as no brain"
   ]
  },
  {
   "attachments": {},
   "cell_type": "markdown",
   "metadata": {},
   "source": [
    "$$\n",
    "\\begin{align*}\n",
    "b_i &\\sim \\text{Normal}(\\mu_i, \\sigma) \\\\\n",
    "\\mu_i &= \\alpha + \\beta m_i \\\\\n",
    "\\alpha &\\sim \\text{Normal}(0.5, 1) \\\\\n",
    "\\beta &\\sim \\text{Normal}(0, 10) \\\\\n",
    "\\sigma &\\sim \\text{Log-Normal}(0, 1) \\\\\n",
    "\\end{align*}\n",
    "$$\n",
    "\n",
    "Note that these priors are absurd - they allow for clearly nonsensical values like negative brains. That's ok though - it's part of the lesson."
   ]
  },
  {
   "cell_type": "code",
   "execution_count": 12,
   "metadata": {
    "vscode": {
     "languageId": "r"
    }
   },
   "outputs": [],
   "source": [
    "m7.1 <- quap(\n",
    "    alist(\n",
    "        brain_std ~ dnorm(mu, exp(log_sigma)),\n",
    "        mu <- a + b * mass_std,\n",
    "        a ~ dnorm(0.5, 1),\n",
    "        b ~ dnorm(0, 10),\n",
    "        log_sigma ~ dnorm(0, 1)\n",
    "    ),\n",
    "    data=d\n",
    ")"
   ]
  },
  {
   "attachments": {},
   "cell_type": "markdown",
   "metadata": {},
   "source": [
    "Before moving on, let's compute the $R^2$.\n",
    "\n",
    "We need to calculate the predictions the model makes, then subtract that from the actual values to get the residuals. Then we compute the variance of the data and the residuals. Note that we can't use the `var` function because in R that one uses the wrong denominator, so we will calculate it by hand."
   ]
  },
  {
   "cell_type": "code",
   "execution_count": 13,
   "metadata": {
    "vscode": {
     "languageId": "r"
    }
   },
   "outputs": [
    {
     "data": {
      "text/html": [
       "0.478155966473307"
      ],
      "text/latex": [
       "0.478155966473307"
      ],
      "text/markdown": [
       "0.478155966473307"
      ],
      "text/plain": [
       "[1] 0.478156"
      ]
     },
     "metadata": {},
     "output_type": "display_data"
    }
   ],
   "source": [
    "set.seed(12)\n",
    "s <- sim(m7.1)\n",
    "r <- apply(s, 2, mean) - d$brain_std\n",
    "resid_var <- var2(r)\n",
    "outcome_var <- var2(d$brain_std)\n",
    "1 - resid_var / outcome_var"
   ]
  },
  {
   "cell_type": "code",
   "execution_count": 14,
   "metadata": {
    "vscode": {
     "languageId": "r"
    }
   },
   "outputs": [],
   "source": [
    "# as a function\n",
    "R2_is_bad <- function(quap_fit) {\n",
    "    s <- sim(quap_fit, refresh=0)\n",
    "    r <- apply(s, 2, mean) - d$brain_std\n",
    "    1 - var2(r) / var2(d$brain_std)\n",
    "}"
   ]
  },
  {
   "attachments": {},
   "cell_type": "markdown",
   "metadata": {},
   "source": [
    "Now we'll consider a bunch more models, each a polynomial of higher degree. To do this using `quap`, we define $\\beta$ as a vector. The trick is to tell `quap` how long the list is by using a `start` list:"
   ]
  },
  {
   "cell_type": "code",
   "execution_count": 15,
   "metadata": {
    "vscode": {
     "languageId": "r"
    }
   },
   "outputs": [],
   "source": [
    "m7.2 <- quap(\n",
    "    alist(\n",
    "        brain_std ~ dnorm(mu, exp(log_sigma)),\n",
    "        mu <- a + b[1] * mass_std + b[2] * mass_std ^ 2,\n",
    "        a ~ dnorm(0.5, 1),\n",
    "        b ~ dnorm(0, 10),\n",
    "        log_sigma ~ dnorm(0, 1)\n",
    "    ),\n",
    "    data=d,\n",
    "    start=list(b=rep(0,2))\n",
    ")\n",
    "\n",
    "m7.3 <- quap(\n",
    "    alist(\n",
    "        brain_std ~ dnorm(mu, exp(log_sigma)),\n",
    "        mu <- a + b[1] * mass_std + b[2] * mass_std ^ 2 + b[3] * mass_std ^ 3,\n",
    "        a ~ dnorm(0.5, 1),\n",
    "        b ~ dnorm(0, 10),\n",
    "        log_sigma ~ dnorm(0, 1)\n",
    "    ),\n",
    "    data=d,\n",
    "    start=list(b=rep(0,3))\n",
    ")\n",
    "\n",
    "m7.4 <- quap(\n",
    "    alist(\n",
    "        brain_std ~ dnorm(mu, exp(log_sigma)),\n",
    "        mu <- a + b[1] * mass_std + b[2] * mass_std ^ 2 + b[3] * mass_std ^ 3 + b[4] * mass_std ^ 4,\n",
    "        a ~ dnorm(0.5, 1),\n",
    "        b ~ dnorm(0, 10),\n",
    "        log_sigma ~ dnorm(0, 1)\n",
    "    ),\n",
    "    data=d,\n",
    "    start=list(b=rep(0,4))\n",
    ")\n",
    "\n",
    "m7.5 <- quap(\n",
    "    alist(\n",
    "        brain_std ~ dnorm(mu, exp(log_sigma)),\n",
    "        mu <- a + b[1] * mass_std + b[2] * mass_std ^ 2 + b[3] * mass_std ^ 3 + b[4] * mass_std ^ 4 + b[5] * mass_std ^ 5,\n",
    "        a ~ dnorm(0.5, 1),\n",
    "        b ~ dnorm(0, 10),\n",
    "        log_sigma ~ dnorm(0, 1)\n",
    "    ),\n",
    "    data=d,\n",
    "    start=list(b=rep(0,5))\n",
    ")\n",
    "\n",
    "m7.6 <- quap(\n",
    "    alist(\n",
    "        brain_std ~ dnorm(mu, exp(log_sigma)),\n",
    "        mu <- a + b[1] * mass_std + b[2] * mass_std ^ 2 + b[3] * mass_std ^ 3 + b[4] * mass_std ^ 4 + b[5] * mass_std ^ 5 + b[6] * mass_std ^ 6,\n",
    "        a ~ dnorm(0.5, 1),\n",
    "        b ~ dnorm(0, 10),\n",
    "        log_sigma ~ dnorm(0, 1)\n",
    "    ),\n",
    "    data=d,\n",
    "    start=list(b=rep(0,6))\n",
    ")"
   ]
  },
  {
   "cell_type": "code",
   "execution_count": 16,
   "metadata": {
    "vscode": {
     "languageId": "r"
    }
   },
   "outputs": [
    {
     "data": {
      "image/png": "[encoded data removed]",
      "text/plain": [
       "plot without title"
      ]
     },
     "metadata": {
      "image/png": {
       "height": 420,
       "width": 420
      }
     },
     "output_type": "display_data"
    },
    {
     "data": {
      "image/png": "[encoded data removed]",
      "text/plain": [
       "plot without title"
      ]
     },
     "metadata": {
      "image/png": {
       "height": 420,
       "width": 420
      }
     },
     "output_type": "display_data"
    },
    {
     "data": {
      "image/png": "[encoded data removed]",
      "text/plain": [
       "plot without title"
      ]
     },
     "metadata": {
      "image/png": {
       "height": 420,
       "width": 420
      }
     },
     "output_type": "display_data"
    },
    {
     "data": {
      "image/png": "[encoded data removed]",
      "text/plain": [
       "plot without title"
      ]
     },
     "metadata": {
      "image/png": {
       "height": 420,
       "width": 420
      }
     },
     "output_type": "display_data"
    },
    {
     "data": {
      "image/png": "[encoded data removed]",
      "text/plain": [
       "plot without title"
      ]
     },
     "metadata": {
      "image/png": {
       "height": 420,
       "width": 420
      }
     },
     "output_type": "display_data"
    },
    {
     "data": {
      "image/png": "[encoded data removed]",
      "text/plain": [
       "plot without title"
      ]
     },
     "metadata": {
      "image/png": {
       "height": 420,
       "width": 420
      }
     },
     "output_type": "display_data"
    }
   ],
   "source": [
    "models <- c(m7.1, m7.2, m7.3, m7.4, m7.5, m7.6)\n",
    "for (model in models) {\n",
    "    post <- extract.samples(model)\n",
    "    mass_seq <- seq(from=min(d$mass_std), to=max(d$mass_std), length.out=100)\n",
    "    l <- link(model, data=list(mass_std=mass_seq))\n",
    "    mu <- apply(l, 2, mean)\n",
    "    ci <- apply(l, 2, PI)\n",
    "    plot_df <- data.frame(\n",
    "        mass=mass_seq,\n",
    "        mu=mu,\n",
    "        lower=ci[1,],\n",
    "        upper=ci[2,]\n",
    "    )\n",
    "\n",
    "    plot <- ggplot() +\n",
    "        geom_point(data=d, mapping=aes(mass_std, brain_std)) +\n",
    "        geom_line(data=plot_df, mapping=aes(mass, mu)) +\n",
    "        geom_ribbon(data=plot_df, mapping=aes(mass, mu, ymin=lower, ymax=upper), alpha=0.5)\n",
    "    print(plot)\n",
    "}"
   ]
  },
  {
   "attachments": {},
   "cell_type": "markdown",
   "metadata": {
    "vscode": {
     "languageId": "r"
    }
   },
   "source": [
    "In each case, the complexity of the model increases, and so does the $R^2$ value. In the last case, the model goes perfectly through every point: $R^2 = 1$, depite it being a patently absurd model.\n",
    "\n",
    "### Too few parameters hurts, too\n",
    "\n",
    "Too many parameters is obviously bad - they produce models which fit the data extremely well, but fail on out-of-sample data. Underfitting, on the other hand, produces models that fail for both in- and out-of-sample data.\n",
    "\n",
    "One way to conceptualize this is that the underfit model is not sensitive to the data. If we remove one point from the sample, the linear model will hardly change at all. On the other hand, the degree 6 model will change wildly!"
   ]
  },
  {
   "cell_type": "code",
   "execution_count": 17,
   "metadata": {
    "vscode": {
     "languageId": "r"
    }
   },
   "outputs": [],
   "source": [
    "plot_df <- data.frame(\n",
    "    mu=double(),\n",
    "    mu=double(),\n",
    "    id=factor(),\n",
    "    model=factor()\n",
    ")\n",
    "for (i in 1:nrow(d)) {\n",
    "    d_minus_i <- d[-i,]\n",
    "    m7.1_without <- quap(\n",
    "        alist(\n",
    "            brain_std ~ dnorm(mu, exp(log_sigma)),\n",
    "            mu <- a + b * mass_std,\n",
    "            a ~ dnorm(0.5, 1),\n",
    "            b ~ dnorm(0, 10),\n",
    "            log_sigma ~ dnorm(0, 1)\n",
    "        ),\n",
    "        data=d_minus_i\n",
    "    )\n",
    "    m7.4_without <- quap(\n",
    "        alist(\n",
    "            brain_std ~ dnorm(mu, exp(log_sigma)),\n",
    "            mu <- a + b[1] * mass_std + b[2] * mass_std ^ 2 + b[3] * mass_std ^ 3 + b[4] * mass_std ^ 4,\n",
    "            a ~ dnorm(0.5, 1),\n",
    "            b ~ dnorm(0, 10),\n",
    "            log_sigma ~ dnorm(0, 1)\n",
    "        ),\n",
    "        data=d_minus_i,\n",
    "        start=list(b=rep(0,4))\n",
    "    )\n",
    "    models <- c(m7.1_without, m7.4_without)\n",
    "    j <- 0\n",
    "    for (model in models) {\n",
    "        j <- j + 1\n",
    "        post <- extract.samples(model)\n",
    "        mass_seq <- seq(from=min(d$mass_std), to=max(d$mass_std), length.out=100)\n",
    "        l <- link(model, data=list(mass_std=mass_seq))\n",
    "        mu <- apply(l, 2, mean)\n",
    "        to_add <- data.frame(\n",
    "            mass=mass_seq,\n",
    "            mu=mu,\n",
    "            id=as.factor(i),\n",
    "            model=as.factor(j)\n",
    "        )\n",
    "        plot_df <- rbind(plot_df, to_add)\n",
    "    }\n",
    "}"
   ]
  },
  {
   "cell_type": "code",
   "execution_count": 18,
   "metadata": {
    "vscode": {
     "languageId": "r"
    }
   },
   "outputs": [
    {
     "data": {
      "image/png": "[encoded data removed]",
      "text/plain": [
       "plot without title"
      ]
     },
     "metadata": {
      "image/png": {
       "height": 420,
       "width": 420
      }
     },
     "output_type": "display_data"
    }
   ],
   "source": [
    "ggplot(plot_df, aes(mass, mu, colour=id)) + \n",
    "    geom_line() +\n",
    "    facet_wrap(vars(model))"
   ]
  },
  {
   "attachments": {},
   "cell_type": "markdown",
   "metadata": {},
   "source": [
    "As you can see, even for the degree 4 model, dropping a single row of data has a dramatic effect on the data, while the linear model doesn't change very much at all!\n",
    "\n",
    "## Entropy and Accuracy\n",
    "\n",
    "Before we can figure out the tradeoff between over and underfitting, we need to set a *target* - how will we know our model is a good model?\n",
    "\n",
    "1. Establish a measurement scale for distance from perfect accuracy (will require some information theory)\n",
    "1. Need to establish *deviance* as an approximation of relative distance from perfect accuracy\n",
    "1. Establish that only deviance out-of-sample is relevant\n",
    "\n",
    "### Firing the weatherperson\n",
    "\n",
    "Accuracy depends on the definition of the target, and there is no universal \"best target\". Two major dimensions to worry about:\n",
    "1. *Cost-benefit analysis* How much does it cost when were wrong? How much do we win when we're right?\n",
    "1. *Accuracy in context* Some prediction tasks are inherently easier than others; we need a way to judge accuracy that accounts for how much a model can possibly improve prediction.\n",
    "\n",
    "Say we have  weatherperson issues predictions in the form of probability of rain each day.\n",
    "\n",
    "|  Day        | 1 | 2 | 3 |  4  | 5   | 6  | 7 | 8 | 9 | 10 |\n",
    "|---          |---|---|---|---  | --- |--- |---|---|---|--- |\n",
    "| Prediction  | 1 | 1 | 1 | 0.6 | 0.6 | 0.6|0.6|0.6|0.6|0.6|\n",
    "| Observed    | R | R | R | S   | S   | S  | S | S | S | S |\n",
    "\n",
    "A new person comes to town and boasts that he can beat the current weatherperson by just always predicting sun:\n",
    "\n",
    "|  Day        | 1 | 2 | 3 |  4 | 5 | 6 | 7 | 8 | 9 | 10 |\n",
    "|---          |---|---|---|--- |---|---|---|---|---|--- |\n",
    "| Prediction  | 0 | 0 | 0 | 0  | 0 | 0 | 0 | 0 | 0 | 0 |\n",
    "| Observed    | R | R | R | S  | S | S | S | S | S | S |\n",
    "\n",
    "The newcomer is right - if the hit rate if the average chance of a correct prediction, then the old person gets $3 \\times 1 + 7 * 0.4 = 5.8$, which over 10 days is $5.8 / 10 = 0.58$, while the newcomer gets $(3 * 0 + 7 * 1) / 10 = 0.7$ - they clearly win.\n",
    "\n",
    "#### Costs and benefits\n",
    "\n",
    "Let's consider costs and benefits. say you hate getting caught in the rain (-5), but also dislike carrying an umbrella (-1). Say your chance of carrying an umbrella is equal to the probability of rain. Then here is what that looks like.\n",
    "\n",
    "|  Day        | 1 | 2 | 3 |  4  | 5   | 6  | 7 | 8 | 9 | 10 |\n",
    "|---          |---|---|---|---  | --- |--- |---|---|---|--- |\n",
    "| Observed    | R | R | R | S   | S   | S  | S | S | S | S |\n",
    "|---          |---|---|---|---  | --- |--- |---|---|---|---|\n",
    "|Current      |-1 |-1 |-1 |-0.6 |-0.6 |-0.6|-0.6|-0.6|-0.6|-0.6|\n",
    "|Newcomer     |-5 |-5 |-5 | 0   |   0 | 0  | 0 | 0 | 0 | 0 |\n",
    "\n",
    "In this case, the current weatherperson nets you -7.2 happiness, while the newcomer nets you -15.\n",
    "\n",
    "#### Measuring Accuracy\n",
    "\n",
    "Even if we ignore costs and benefits, we still need to consider what we mean by 'accuracy'. There's nothing special about the hit rate. Question: which measure of accuracy is maximized if we *know* the true model generating the data?\n",
    "\n",
    "Consider computing the probability of predicting the exact sequence of days. This means predicting the correct probability for each day, and multiply these all together to get the joint probability for all the days. This is the same thing as the joint likelihood!\n",
    "\n",
    "In this light, the newcomer is worse. The probability for the current weatherperson is $1^3 \\ast 0.4 ^ 7 \\approx 0.005$. For the newcomer, it's $0^3 \\ast 1 ^ 7 = 0$. The newcomer has 0% chance of getting the sequence right.\n",
    "\n",
    "It turns out that it's this joint probability that we want. Why? It appears in Bayes' Theorem as the likelihood.Unique measure that correctly counts up the relative number of ways each event (sequence of rain and shine) coud happen. The true model will have the highest joint probability.\n",
    "\n",
    "In the literature, this is called the **log scoring rule**, because typically you compute the log of the joint probability and report that.\n",
    "\n",
    "---\n",
    "Calibration is overrated\n",
    "\n",
    "Common for models to be measured by their calibration - this is, if they predict a 40% chance of rain, a model is \"calibrated\" if it rains 40% of the time.\n",
    "\n",
    "However, calibrated models don't have to be good. For instance, if it rains 40% of the time then you can always give that prediction, regardless of the probabilities on the actual day. This will result in good calibration but otherwise poor performance. Conversely, a highly accurate model doesn't have to be well-calibrated.\n",
    "\n",
    "---\n",
    "\n",
    "### Information and uncertainty\n",
    "\n",
    "We want to use the log probability of the data to score the accuracy of competing models. The next problem - how do we measure distance from the prediction? A perfect prediction would give exactly the probability of rain, and so we could measure the distance between their prediction and the 'true' one. But what kind of distance?\n",
    "\n",
    "Turns out that there's a unique answer!\n",
    "\n",
    "What should an accuracy metric do?\n",
    "\n",
    "Appreciate that some targets are easier to hit than others - predicting weather in the winter (sun, cloud, snow) is harder than the summer (only sun and cloud).\n",
    "\n",
    "Answer comes from **Information Theory**. Basic insight is to ask: *how much is our uncertainty reduced by learning an outcome?*\n",
    "\n",
    "Consider the weather forecast again. Forecasts are issued in advance, when the weather is uncertain. When the day arrives, the weather is no longer uncertain. The reduction in uncertainty is then a natural measure of how much we've learnt. The measured decrease in uncertainty ist he definition of *information*, in this context.\n",
    "\n",
    "To use this definition, we'll need a way to quantify the uncertainty inherent in a probability distribution. So, say there are two possible outcomes: rain and sun, and they occur with some probability. We want a function that uses the probabilities of rain / sun to produce a measure of uncertainty.\n",
    "\n",
    "Three things we want:\n",
    "1. Measure of uncertainty should be continuous\n",
    "1. Should increase as the number of possible events increases\n",
    "1. Should be additive. That is, if we first compute the measure over rain / sun, and then separately over temperature (hot / cold), the uncertainty over the combination of these should be the sum of the original measures.\n",
    "\n",
    "There is exactly one function that satisfies these: the **Information Entropy**. Consider $n$ outcomes, each with $p_i$ of occurring, then \n",
    "\n",
    "$$\n",
    "H(p) = -E \\log (p_i) = -\\sum_{i=1}^n p_i \\log(p_i)\n",
    "$$\n",
    "\n",
    "In other words:\n",
    "\n",
    "The uncertainty contained in a probability distribution is the average log-probability of an event.\n",
    "\n",
    "As an example: say that the true probability or rain and shine are $p_1 = 0.3$ and $p_2 = 0.7$. Then \n",
    "\n",
    "$$\n",
    "H(p) = -(p_1 \\log p_1 + p_2 \\log p_2) \\approx 0.61\n",
    "$$"
   ]
  },
  {
   "cell_type": "code",
   "execution_count": 19,
   "metadata": {
    "vscode": {
     "languageId": "r"
    }
   },
   "outputs": [
    {
     "data": {
      "text/html": [
       "0.610864302054894"
      ],
      "text/latex": [
       "0.610864302054894"
      ],
      "text/markdown": [
       "0.610864302054894"
      ],
      "text/plain": [
       "[1] 0.6108643"
      ]
     },
     "metadata": {},
     "output_type": "display_data"
    }
   ],
   "source": [
    "p <- c(0.3, 0.7)\n",
    "-sum(p * log(p))"
   ]
  },
  {
   "attachments": {},
   "cell_type": "markdown",
   "metadata": {},
   "source": [
    "Now say we live in Abu Dhabi, where the probabilities might be more like $p_1 = 0.01$ and $p_2 = 0.99$. Then the entropy is much lower - 0.06. There's a lot less uncertainty about the weather if it is sunny almost all the time. \n",
    "\n",
    "---\n",
    "\n",
    "There's something tricky about the definition - what if $p_i = 0$? We can use L'Hopital's Rule to show that $\\lim_{p \\to 0}p\\log p =0$, so we can safely ignore it. Another way of stating this: there's no point including impossible events in our model.\n",
    "\n",
    "---\n",
    "\n",
    "---\n",
    "\n",
    "Information theory has many applications. One important technique is **Maximum Entropy** (also know as Maxent). This is a family of techniques for finding probabiliy distributions that are most consistent with the data. In other words, given the data, what is the *least surprising* distribution? The one answer to this question maximizes the information entropy using the propr knowledge as a constraint. If you do this, you end up with the posterior distribution! Bayesian updating is entropy maximization. This will feature prominently in **Chapter 10**.\n",
    "\n",
    "---\n",
    "\n",
    "### From entropy to accuracy\n",
    "\n",
    "$H$ provides a way to measure the uncertainty. But how can we use information entropy to say how far a prediction is from the target? Key is **Divergence**:\n",
    "\n",
    "Divergence: the additional uncertainty induced by using probabilities from one distribution to describe another distribution.\n",
    "\n",
    "This is often known as Kullback-Leibler Divergence or just KL Divergence.\n",
    "\n",
    "For instance: say the true probabilities are $p_1=0.3$, $p_2=0.7$. If we instead believe that the true probabilities are $q_1=0.25$ and $q_2=0.75$, how much additional uncertainty have we introduced as a consequence of using $\\{q_1, q_2\\}$ instead of $\\{p_1, p_2\\}$?\n",
    "\n",
    "The answer is based on $H$:\n",
    "\n",
    "$$\n",
    "D_{KL}(p, q) = \\sum_i \\left[ p_i(\\log p_i 0 \\log q_i)\\right] = \\sum_i p_i \\log\\left(\\frac{p_i}{q_i}\\right)\n",
    "$$\n",
    "\n",
    "in plainer language: it's the average different in log probabilities between the target $p$ and the model $q$. This divergence is the difference between the two entropies: the entropy of the target distribution $p$ and the **cross entropy** arising from using $q$ to predict $p$. When $p=q$, we know the true probabilities and so\n",
    "\n",
    "$$\n",
    "D_{KL}(p, q) = D_{KL}(p, p) = \\sum_i \\left[ p_i(\\log p_i 0 \\log p_i)\\right] = 0\n",
    "$$\n",
    "\n",
    "There is no additional uncertainy introduced when using a distribution to model itself."
   ]
  },
  {
   "attachments": {},
   "cell_type": "markdown",
   "metadata": {},
   "source": [
    "As $q$ becomes more different from $p$, the divergence $D_{KL}$ grows. Say $p = \\{0.3, 0.7\\}$. Then for a wide variety of $q[1]$, here is what that looks like"
   ]
  },
  {
   "cell_type": "code",
   "execution_count": 20,
   "metadata": {
    "vscode": {
     "languageId": "r"
    }
   },
   "outputs": [
    {
     "data": {
      "image/png": "[encoded data removed]",
      "text/plain": [
       "plot without title"
      ]
     },
     "metadata": {
      "image/png": {
       "height": 420,
       "width": 420
      }
     },
     "output_type": "display_data"
    }
   ],
   "source": [
    "d_kl <- function(p, q) {\n",
    "    return(sum(p * log(p / q)))\n",
    "}\n",
    "\n",
    "q_1 = seq(0.01, 0.99, length.out=100)\n",
    "plot_df <- data.frame(q_1=double(), d_kl=double())\n",
    "for (q_1 in seq(0.01, 0.99, length.out=100)) {\n",
    "    to_add <- data.frame(\n",
    "        q_1=q_1,\n",
    "        d_kl=d_kl(p, c(q_1, 1-q_1))\n",
    "    )\n",
    "    plot_df <- rbind(plot_df, to_add)\n",
    "}\n",
    "ggplot(plot_df, aes(q_1, d_kl)) +\n",
    "    geom_line() +\n",
    "    geom_vline(xintercept=p[1], linetype='dashed') +\n",
    "    annotate(\"text\", x=0.4, y=1.5, label=\"p=q\")"
   ]
  },
  {
   "attachments": {},
   "cell_type": "markdown",
   "metadata": {},
   "source": [
    "So now we have a way of comparing models - using the divergence!\n",
    "\n",
    "---\n",
    "\n",
    "Cross entropy: the entropy from using a probability distribution $q$ to predict a distribution $p$: $H(p, q) = -\\sum_i p_i \\log q_i$.\n",
    "\n",
    "(Note: the information entropy (and hence the divergence) are not symmetrical! $H(p, q)$ is not usually equal to $H(q, p)$.)\n",
    "\n",
    "---\n",
    "\n",
    "### Estimating divergence\n",
    "\n",
    "Recall that the original goal was to deal with underfitting or overfitting of models. We needed two pieces to do that:\n",
    "1. How to measure the distance of a model from the target. We now have that, in the form of the **KL Divergence**\n",
    "1. How to estimate the divergence\n",
    "\n",
    "For the second one, we'll use the divergence to get to the **Deviance**.\n",
    "\n",
    "Naively, to compare models using the KL divergence, we would need to know the true. However, it turns out that we really don't! Say we have two models for $p$: $q$ and $r$. Then we want to know which one is closest to $p$. Since there is an $E \\log p_i$ term in both, they end up subtracting out, leaving us with basically just the model components! Then what we really need is the sum of the log probabilities for each model: $E \\log q_i$ and $E \\log r_i$.\n",
    "\n",
    "We can compute the average log-probability from each model to get an estimate of the distance to the target. Note that the actual magnitude isn't really interpretable - we can't use it to say that one model is \"good\" or \"bad\". Only the difference, $E\\log q_i - E\\log r_i$ tells us about the divergence of each model from $p$.\n",
    "\n",
    "Conventionally, we sum over all the observations $i$, yielding a model score\n",
    "\n",
    "$$\n",
    "S(q) = \\sum_i \\log q_i\n",
    "$$\n",
    "\n",
    "(This is an estimate of $E\\log q_i$), but without dividing by $n$ at the end)\n",
    "\n",
    "To compute the score for a Bayesian model, we sum over the entire distribution. Apparently there's some subtlety here, so there's a function, `lppd` (Log-Pointwise Predictive-Density) to do it for `quap` models."
   ]
  },
  {
   "cell_type": "code",
   "execution_count": 21,
   "metadata": {
    "vscode": {
     "languageId": "r"
    }
   },
   "outputs": [
    {
     "data": {
      "text/html": [
       "<style>\n",
       ".list-inline {list-style: none; margin:0; padding: 0}\n",
       ".list-inline>li {display: inline-block}\n",
       ".list-inline>li:not(:last-child)::after {content: \"\\00b7\"; padding: 0 .5ex}\n",
       "</style>\n",
       "<ol class=list-inline><li>0.0224229285928956</li><li>0.0637616898108266</li><li>-0.0541145206690121</li><li>0.034291932277851</li><li>-0.131704935627512</li><li>-0.158578091351568</li><li>-1.60812081843573</li></ol>\n"
      ],
      "text/latex": [
       "\\begin{enumerate*}\n",
       "\\item 0.0224229285928956\n",
       "\\item 0.0637616898108266\n",
       "\\item -0.0541145206690121\n",
       "\\item 0.034291932277851\n",
       "\\item -0.131704935627512\n",
       "\\item -0.158578091351568\n",
       "\\item -1.60812081843573\n",
       "\\end{enumerate*}\n"
      ],
      "text/markdown": [
       "1. 0.0224229285928956\n",
       "2. 0.0637616898108266\n",
       "3. -0.0541145206690121\n",
       "4. 0.034291932277851\n",
       "5. -0.131704935627512\n",
       "6. -0.158578091351568\n",
       "7. -1.60812081843573\n",
       "\n",
       "\n"
      ],
      "text/plain": [
       "[1]  0.02242293  0.06376169 -0.05411452  0.03429193 -0.13170494 -0.15857809\n",
       "[7] -1.60812082"
      ]
     },
     "metadata": {},
     "output_type": "display_data"
    }
   ],
   "source": [
    "set.seed(1)\n",
    "lppd(m7.1, n=1e4)"
   ]
  },
  {
   "attachments": {},
   "cell_type": "markdown",
   "metadata": {},
   "source": [
    "Each of these is the score for each data point (recall: there were only 7). For this, larger values are generally better. Sometimes you'll see the **Deviance** instead - that's the same thing, but multiply each value by -2 (for historical reasons) so that in that case, smaller values are better.\n",
    "\n",
    "### Scoring the right data\n",
    "\n",
    "The log-probability score is a principled way to measure the distance from a target. However, it has the same issue as $R^2$: it increases with the number of parameters."
   ]
  },
  {
   "cell_type": "code",
   "execution_count": 22,
   "metadata": {
    "vscode": {
     "languageId": "r"
    }
   },
   "outputs": [
    {
     "data": {
      "text/html": [
       "<style>\n",
       ".list-inline {list-style: none; margin:0; padding: 0}\n",
       ".list-inline>li {display: inline-block}\n",
       ".list-inline>li:not(:last-child)::after {content: \"\\00b7\"; padding: 0 .5ex}\n",
       "</style>\n",
       "<ol class=list-inline><li>-1.82439380081939</li><li>-1.73440219348587</li><li>-0.573693523061453</li><li>1.00796251820638</li><li>9.95661680487377</li><li>39.4278779347547</li></ol>\n"
      ],
      "text/latex": [
       "\\begin{enumerate*}\n",
       "\\item -1.82439380081939\n",
       "\\item -1.73440219348587\n",
       "\\item -0.573693523061453\n",
       "\\item 1.00796251820638\n",
       "\\item 9.95661680487377\n",
       "\\item 39.4278779347547\n",
       "\\end{enumerate*}\n"
      ],
      "text/markdown": [
       "1. -1.82439380081939\n",
       "2. -1.73440219348587\n",
       "3. -0.573693523061453\n",
       "4. 1.00796251820638\n",
       "5. 9.95661680487377\n",
       "6. 39.4278779347547\n",
       "\n",
       "\n"
      ],
      "text/plain": [
       "[1] -1.8243938 -1.7344022 -0.5736935  1.0079625  9.9566168 39.4278779"
      ]
     },
     "metadata": {},
     "output_type": "display_data"
    }
   ],
   "source": [
    "set.seed(1)\n",
    "sapply(list(m7.1, m7.2, m7.3, m7.4, m7.5, m7.6), function(m) sum(lppd(m)))"
   ]
  },
  {
   "attachments": {},
   "cell_type": "markdown",
   "metadata": {},
   "source": [
    "We see that the score increases as the models become even more complex, even though we know that they're nonsense.\n",
    "\n",
    "Before looking at tols to improve and easure out-of-sample scores, let's simulate the data both in and out of sample.\n",
    "\n",
    "When we have data and use it to fit a statistical model, the data is the **training sample**. Parameters are estimated from it, and then we use those estimates to predict outcomes in a new sample, the **test sample**. Procedure:\n",
    "1. Suppose there's a training sample of size $N$\n",
    "1. Compute the posterior distribution of a model for the training sample and compute the score on the training sample - $D_{\\text{train}}$\n",
    "1. Suppose another sample of size $N$ from the same process - this is the test sample. Compute the score on the test sample, using the posterior trained on the training sample. Call this $D_{\\text{test}}$\n",
    "\n",
    "We'll now do this 10 000 times for each of the five different models.\n",
    "\n",
    "The model that generates the data is\n",
    "\n",
    "$$\n",
    "\\begin{align*}\n",
    "    y_i &\\sim \\text{Normal}(\\mu_i, 1) \\\\\n",
    "    \\mu_i &= 0.5 x_{ 1,i } -0.4 x_{2,i}\n",
    "\\end{align*}\n",
    "$$\n",
    "\n",
    "The models for analyzing the data are linear regressions with between 1 and 5 free parameters. The \"true\" model has non-zero $\\beta$ only for the first two variables $\\to$ it has three parameters."
   ]
  },
  {
   "cell_type": "code",
   "execution_count": 23,
   "metadata": {
    "vscode": {
     "languageId": "r"
    }
   },
   "outputs": [],
   "source": [
    "N <- 20\n",
    "kseq <- 1:5\n",
    "dev <- sapply(kseq, function(k) {\n",
    "    print(k);\n",
    "    r <- replicate(1e2, sim_train_test(N=N, k=k));\n",
    "    c(mean(r[1,]), mean( r[2,] ), sd(r[1,]), sd(r[2,]))\n",
    "})"
   ]
  },
  {
   "cell_type": "code",
   "execution_count": 25,
   "metadata": {
    "vscode": {
     "languageId": "r"
    }
   },
   "outputs": [
    {
     "ename": "ERROR",
     "evalue": "Error in data.frame(num_params = 1:5, dev = dev[1, ], lower = dev[1, ] - : object 'dev' not found\n",
     "output_type": "error",
     "traceback": [
      "Error in data.frame(num_params = 1:5, dev = dev[1, ], lower = dev[1, ] - : object 'dev' not found\nTraceback:\n",
      "1. data.frame(num_params = 1:5, dev = dev[1, ], lower = dev[1, ] - \n .     dev[3, ], upper = dev[1, ] + dev[3, ], key = \"inner\")"
     ]
    }
   ],
   "source": [
    "plot_df_in <- data.frame(num_params=1:5, dev=dev[1,], lower=dev[1,] - dev[3,], upper=dev[1,] + dev[3,], key=\"inner\")\n",
    "plot_df_out <- data.frame(num_params=1:5, dev=dev[2,], lower=dev[2,] - dev[4,], upper=dev[2,] + dev[4,], key=\"outer\")\n",
    "plot_df <- rbind(plot_df_in, plot_df_out)\n",
    "ggplot(plot_df, aes(num_params, dev)) +\n",
    "    geom_point(aes(colour=key)) +\n",
    "    geom_errorbar(aes(ymin=lower, ymax=upper, colour=key))"
   ]
  },
  {
   "attachments": {},
   "cell_type": "markdown",
   "metadata": {
    "vscode": {
     "languageId": "r"
    }
   },
   "source": [
    "The above code takes forever to run, but basically the idea is that the deviance increases as the number of parameters increases - that is, the model shows evidence of overfitting.\n",
    "\n",
    "Deviance is an assessment of predictive accuracy, not truth. For instance, the deviance for the 2-parameter model (the \"true\" one) is worse than for the 1-parameter one. This is a result of the additional inaccuracy from the estimate of the second parameter swamping the additional accuracy it should give."
   ]
  },
  {
   "attachments": {},
   "cell_type": "markdown",
   "metadata": {},
   "source": [
    "## Golem Taming: regularization\n",
    "\n",
    "One way to produce better predictions is to make the model worse at fitting the sample.\n",
    "\n",
    "Basically, the idea is that if you give a model quite flat priors, it thinks that basically all values are plausible, and so the training data is given more weight in the posterior. One way to prevent this is to use a 'skeptical' prior - one that slows the rate of learning from the model. Most common type is a **regularization prior**. When tuned properly, it reduces overfitting while still allowing the model to learn from the data. If the prior is too skeptical, then regular features will be missed - important to tune it correctly.\n",
    "\n",
    "In previous chapters, played with the priors until they were reasonable. Those priors *regularized* the results. Consider the following model:\n",
    "\n",
    "$$\n",
    "\\begin{align*}\n",
    "y_i &\\sim \\text{Normal}(\\mu_i, \\sigma) \\\\\n",
    "\\mu_i &= \\alpha + \\beta x_i \\\\\n",
    "\\alpha &\\sim \\text{Normal}(0, 100) \\\\\n",
    "\\beta &\\sim \\text{Normal}(0, 1) \\\\\n",
    "\\sigma &\\sim \\text{Exponential}(1)\n",
    "\\end{align*}\n",
    "$$\n",
    "\n",
    "Assume that $x$ has been standardized so that it has mean 0 and variance 1. Then $\\alpha$ is a basically flat prior - it has almost no effect on inference. However, the prior on $\\beta$ is narrower - it is meant to regularize. That prior indicates that before seeing the data, the model should be very skeptical of data below -2 or above 2. Since $x$ is standardized, we can interpret this as saying that it is very unlikely that a change of 1 sd in $x$ will produce as much as 2 sd change in $y$."
   ]
  },
  {
   "cell_type": "code",
   "execution_count": 26,
   "metadata": {
    "vscode": {
     "languageId": "r"
    }
   },
   "outputs": [
    {
     "data": {
      "image/png": "[encoded data removed]",
      "text/plain": [
       "plot without title"
      ]
     },
     "metadata": {
      "image/png": {
       "height": 420,
       "width": 420
      }
     },
     "output_type": "display_data"
    }
   ],
   "source": [
    "# some regularization priors\n",
    "param_seq <- seq(-3, 3, length.out=201)\n",
    "plot_df <- data.frame(param=double(), density=double(), sigma=double())\n",
    "for (sigma in c(1, 0.5, 0.2)) {\n",
    "    to_add <- data.frame(param=param_seq, density=dnorm(param_seq, 0, sigma), sigma=sigma)\n",
    "    plot_df <- rbind(plot_df, to_add)\n",
    "}\n",
    "plot_df$sigma <- factor(plot_df$sigma)\n",
    "\n",
    "ggplot(plot_df, aes(param, density)) +\n",
    "    geom_line(aes(linetype=sigma))"
   ]
  },
  {
   "attachments": {},
   "cell_type": "markdown",
   "metadata": {},
   "source": [
    "Again, you can look at the test / train with the different priors. The training deviance increases (gets worse) with tighter priors - it doesn't learn as much from the data. However, the out-of-sample improves (gets smaller) with tighter priors. Note also that the overfitting for models with too many parameters is greatly reduce with a strong regularizing prior - the deviance for the models with 4 or 5 parameters is barely worse than that for the correct 3-parameter model when using the $\\sigma=0.2$ model."
   ]
  },
  {
   "attachments": {},
   "cell_type": "markdown",
   "metadata": {},
   "source": [
    "## Predicting predictive accuracy\n",
    "\n",
    "So the above suggests one way to solve the overfitting / underfitting problem: evaluate the models out-of-sample. Issue: we generally don't have out-of-sample data, so how can we evaluate the model on it? Two main ways:\n",
    "1. **Cross-Validation**\n",
    "1. **Information Criteria**\n",
    "\n",
    "Both of these try to predict how well models will perform in predicting new data. They both produce generally similar results.\n",
    "\n",
    "### Cross-validation\n",
    "\n",
    "Popular strategy is to actually test the accuracy on another sample. This is known as *cross-validation* - leaving out a small chunk of observations from the sample and evaluating the model on those.\n",
    "\n",
    "Generally, we don't want to leave out data, so what we do instead is to divide the sample into a number of chunks, called *folds*. The models is asked to predict each fold, after being trained on the others, and we average the score for each fold to get an estimate of out-of-sample accuracy. Minimum number of folds is 2.\n",
    "\n",
    "The `cv_quap` function in `rethinking` can perform cross-validation on `quap` models.\n",
    "\n",
    "How many folds should you use? Apparently there's not a lot of study into this question. It's common to use the maximum number of folds, resulting in leaving out exactly one observation from each fold. This is called **Leave-One-Out Cross-Validation** (LOOCV). This is what we'll consider in this chapter and it is the default in `cv_quap`.\n",
    "\n",
    "Key problem: if you have 1000 data points, then you'll end up with 1000 priors - that could take a long time! Luckily, there are some clever ways of going around this. One approach is to use the 'importance' of each point. Some observations have more of an effect on the posterior than others. We can estimate this importance *before* we fit the model. The key intuition is that an observation that is unlikely will affect the model than one that is likely. When your expectations are violated, you should change your expectations more. This importance is called the *weight* and these can be used to estimate the out-of-sample accuracy.\n",
    "\n",
    "This approximation goes by the name **Pareto-Smoothed Importance Sampling Cross Validation** (PSIS), and can be computed using the `PSIS` function. (Note that there is a lot of math being hidden here).\n",
    "\n",
    "PSIS uses the **Pareto Distribution** to get a more reliable cross-validation score without actually doing all of the work.\n",
    "\n",
    "PSIS provides feedback about its own reliability by noting ovservations with very high weights that could make the PSIS score inaccurate.\n",
    "\n",
    "Another nice feature is that it is computed point-by-point. The pointwise nature provides an estimate of the standard error of the estimate of out-of-sample deviance. To compute the standard error, we calculate the CV or PSIS score for each observation and then exploit the **Central Limit Theorem** to provide a measure of standard error:\n",
    "\n",
    "$$\n",
    "s_{\\text{PSIS}} = \\sqrt{N \\text{var}(\\text{psis}_i)}\n",
    "$$\n",
    "\n",
    "Where $\\text{psis}_i$ is the PSIS estimation for observation $i$.\n",
    "\n",
    "### Information Criteria\n",
    "\n",
    "The second approach is the use of **Information Criteria** to compute an expected score out-of-sample. Information criteria construct a theoretical estimate of the relative out-of-sample KL convergence.\n",
    "\n",
    "It turns out that there is a wonderful pattern: the difference between training and test deviance is about 2 * # of parameters! This is not a coincidence, but a general rule (with flat priors).\n",
    "\n",
    "There are a bunch of them, but the best-known is the **Akaike Information Criterion**, or **AIC**. It provides a surprisingly simple estimate of out-of-sample deviance:\n",
    "\n",
    "$$\n",
    "\\text{AIC} = D_{\\text{train}} + 2p = -2 \\ast \\text{lppd} + 2p \n",
    "$$\n",
    "\n",
    "Where $p$ is the number of free parameters in the posterior distribution. Since the 2 is just there for scaling, this tells us that the dimensionality of the posterior distribution is a natural measure of the models overfitting tendency - more complex models tend to overfit more, in direct proportion to the number of parameters.\n",
    "\n",
    "AIC is of mainly historical interest now. Newer and more general approximations exist that dominate AIC in every context. AIC is an approximation that is reliably only when:\n",
    "1. The priors are flat\n",
    "1. The posterior distribution is approximately multivariate Gaussian\n",
    "1. The sample size $N$ is much greater than the number of parameters $p$\n",
    "\n",
    "Since flat priors are hardly ever the best priors, we'll want something more general. There is a more general criterion, the **Deviance Information Criterion** (DIC). This is OK with informative priors, but still assumes that the posterior is multivariate Gaussian and that $N >> p$.\n",
    "\n",
    "We'll focus on one that is more general than both AIC and DIC. Sumio Watanabe's **Widely Applicable Information Criterion** makes no assumptions about the shape of the posterior. It provides an approximation to the out-of-sample deviance that converges to the cross-validation approximation in a large sample. In a finite sample, it can disagree because it has a different target - it isn't trying to approximate the cross-validate score, but instead guess the out-of-sample KL divergence.\n",
    "\n",
    "Formula is slightly more complicated:\n",
    "\n",
    "$$\n",
    "\\text{WAIC}(y, \\Theta) = -2\\left( \\text{lppd} - \\underbrace{\\sum_i \\log p(y_i | \\Theta)}_{\\text{Penalty Term}} \\right)\n",
    "$$\n",
    "\n",
    "Where $y$ is the observations and $\\Theta$ is the posterior distribution. Each observation gets its own penalty term, and these are summed up for each observation.\n",
    "\n",
    "By analogy to the AIC, the penalty term is sometimes called the **effective number of parameters**, labelled $p_{\\text{WAIC}}$. This makes historical sense, but not much mathematical sense. Nonetheless, you might see it around.\n",
    "\n",
    "The function `WAIC` in `rethinking` will compute this for a model fit with `quap`, `ulam`, or `rstan`.\n",
    "\n",
    "Like PSIS, WAIC is *pointwise* - prediction is considered point-by-point. Several consequences:\n",
    "- Has an approximate standard error\n",
    "- WAIC notes which observations have particularly high scores\n",
    "- Because WAIC allows you to split the data into independent observations, it is sometimes hard to define. For instance, imagine a time series, where each point is used to predict the next one. Then they're not independent, and so it's hard to define in that case.\n",
    "\n",
    "There's also the **Bayesian Information Criterion** (BIC) (also known as the Schwarz Criterion), which is related to the logarithm of the average likelihood. A ratio of likelihoods is called a **Bayes Factor**.\n",
    "\n",
    "### Comparing CV, PSIS, and WAIC\n",
    "\n",
    "Simulation: results of 1000 simulations for each of the five models, simulated with two different priors and two different sample sizes. Basically they all seem to work well. A good idea is to compute the WAIC and PSIS - if there are large differences, it means that one or both is unreliable and you should do some further digging.\n",
    "\n",
    "One advantage of PSIS is that the $k$ value it computes indicate when it may be unreliable."
   ]
  },
  {
   "attachments": {},
   "cell_type": "markdown",
   "metadata": {},
   "source": [
    "## Model comparison\n",
    "\n",
    "Review:\n",
    "- We might have several equally plausible models that we'd like to compare\n",
    "- Fit to sample is no good, because it will always favour more complex models\n",
    "- Information divergence is the right measure, but it will also lead us to more complex models\n",
    "- We need a way to estimate out-of-sample divergence\n",
    "- Meta-model of forecasting tells us:\n",
    "    - Flat priors produce poor prediction. Regularizing priors reduce the fit to sample but tend to improve the out-of-sample fit.\n",
    "    - We can get a useful guess of the out-of-sample predictive accuracy using the CV, PSIS and WAIC.\n",
    "- Regularizing priors and CV / PSIS / WAIC are complementary - Regularization reduces overfitting, and predictive criteria measure it.\n",
    "\n",
    "Now let's actually do some analysis!\n",
    "\n",
    "A very common use of cross-validation and information criteria is to perform **model selection**, which means choosing the model with the lowest criterion value and then discarding the others. But you shouldn't do this! This selection discards the information about relative model accuracy contained in the differences among the CV/PSIS/WAIC values. Why are the differences useful? Sometimes the differences are large, and sometimes small. Just like a relative posterior probability provides advice aout how confident we are about aprameters (conditional on the model), relative moedl accuracy provides advice about how confident we are about the *model* (conditional on the set of models we're comparing).\n",
    "\n",
    "Another reason not to rely solely on these criteria to select a model is that we might not care about prediction, but rather about causality. For instance, highly confounded models can be very accuract at prediction.\n",
    "\n",
    "So, what good are these criteria? They measure expected predictive value of a variable on the right scale, accounting for overfitting. This helps in testing model implications, and that helps us design models and understand how statistical inference works. Also, minimizing a criterion like WAIC can help us in model design, especially in tuning parameters in multilevel models.\n",
    "\n",
    "Instead of *model selection*, we'll focus on *model comparison*. This is a more general approach that uses multiple models to understand how different variables influence predictions and, in combination with a causal model, implied conditional independencies among variables to elp us infer causal relationships.\n",
    "\n",
    "### Model mis-selection\n",
    "\n",
    "Let's go back to the plant fungus model from **Chapter 6**. Recall that `m6.6` has just the intercept, `m6.7` includes both treatment and fungus, and `m6.8` includes the treatment but not the fungus."
   ]
  },
  {
   "cell_type": "code",
   "execution_count": 27,
   "metadata": {
    "vscode": {
     "languageId": "r"
    }
   },
   "outputs": [
    {
     "data": {
      "image/png": "[encoded data removed]",
      "text/plain": [
       "plot without title"
      ]
     },
     "metadata": {
      "image/png": {
       "height": 420,
       "width": 420
      }
     },
     "output_type": "display_data"
    },
    {
     "data": {
      "image/png": "[encoded data removed]",
      "text/plain": [
       "plot without title"
      ]
     },
     "metadata": {
      "image/png": {
       "height": 420,
       "width": 420
      }
     },
     "output_type": "display_data"
    },
    {
     "data": {
      "image/png": "[encoded data removed]",
      "text/plain": [
       "plot without title"
      ]
     },
     "metadata": {
      "image/png": {
       "height": 420,
       "width": 420
      }
     },
     "output_type": "display_data"
    }
   ],
   "source": [
    "\n",
    "set.seed(71)\n",
    "N <- 100 # number of plants\n",
    "\n",
    "# initial heights\n",
    "h0 <- rnorm(N, 10, 2)\n",
    "\n",
    "#assign treatments and simulate fungus and growth\n",
    "treatment <- rep(0:1, each=N/2)\n",
    "fungus <- rbinom(N, size=1, prob=0.5 - treatment * 0.4)\n",
    "h1 <- h0 + rnorm(N, 5 - 3 * fungus)\n",
    "\n",
    "# clean data frame\n",
    "plant_data <- data.frame(h0=h0, h1=h1, treatment=treatment, fungus=fungus)\n",
    "m6.6 <- quap(\n",
    "    alist(\n",
    "        h1 ~ dnorm(mu, sigma),\n",
    "        mu <- h0 * p,\n",
    "        p ~ dlnorm(0, 0.25),\n",
    "        sigma ~ dexp(1)\n",
    "    ),\n",
    "    data=plant_data\n",
    ")\n",
    "m6.7 <- quap(\n",
    "    alist(\n",
    "        h1 ~ dnorm(mu, sigma),\n",
    "        mu <- h0 * p,\n",
    "        p <- a + bt*treatment + bf*fungus,\n",
    "        a ~ dlnorm(0, 0.2),\n",
    "        bt ~ dnorm(0, 0.5),\n",
    "        bf ~ dnorm(0, 0.5),\n",
    "        sigma ~ dexp(1)\n",
    "    ),\n",
    "    data=plant_data\n",
    ")\n",
    "m6.8 <- quap(\n",
    "    alist(\n",
    "        h1 ~ dnorm(mu, sigma),\n",
    "        mu <- h0 * p,\n",
    "        p <- a + bt*treatment,\n",
    "        a ~ dlnorm(0, 0.2),\n",
    "        bt ~ dnorm(0, 0.5),\n",
    "        sigma ~ dexp(1)\n",
    "    ),\n",
    "    data=plant_data\n",
    ")\n",
    "\n",
    "plot(precis(m6.6))\n",
    "plot(precis(m6.7))\n",
    "plot(precis(m6.8))"
   ]
  },
  {
   "cell_type": "code",
   "execution_count": 28,
   "metadata": {
    "vscode": {
     "languageId": "r"
    }
   },
   "outputs": [
    {
     "data": {
      "text/html": [
       "<table class=\"dataframe\">\n",
       "<caption>A data.frame: 1 × 4</caption>\n",
       "<thead>\n",
       "\t<tr><th scope=col>WAIC</th><th scope=col>lppd</th><th scope=col>penalty</th><th scope=col>std_err</th></tr>\n",
       "\t<tr><th scope=col>&lt;dbl&gt;</th><th scope=col>&lt;dbl&gt;</th><th scope=col>&lt;dbl&gt;</th><th scope=col>&lt;dbl&gt;</th></tr>\n",
       "</thead>\n",
       "<tbody>\n",
       "\t<tr><td>361.4511</td><td>-177.1724</td><td>3.5532</td><td>14.17035</td></tr>\n",
       "</tbody>\n",
       "</table>\n"
      ],
      "text/latex": [
       "A data.frame: 1 × 4\n",
       "\\begin{tabular}{llll}\n",
       " WAIC & lppd & penalty & std\\_err\\\\\n",
       " <dbl> & <dbl> & <dbl> & <dbl>\\\\\n",
       "\\hline\n",
       "\t 361.4511 & -177.1724 & 3.5532 & 14.17035\\\\\n",
       "\\end{tabular}\n"
      ],
      "text/markdown": [
       "\n",
       "A data.frame: 1 × 4\n",
       "\n",
       "| WAIC &lt;dbl&gt; | lppd &lt;dbl&gt; | penalty &lt;dbl&gt; | std_err &lt;dbl&gt; |\n",
       "|---|---|---|---|\n",
       "| 361.4511 | -177.1724 | 3.5532 | 14.17035 |\n",
       "\n"
      ],
      "text/plain": [
       "  WAIC     lppd      penalty std_err \n",
       "1 361.4511 -177.1724 3.5532  14.17035"
      ]
     },
     "metadata": {},
     "output_type": "display_data"
    }
   ],
   "source": [
    "set.seed(11)\n",
    "WAIC(m6.7)"
   ]
  },
  {
   "attachments": {},
   "cell_type": "markdown",
   "metadata": {},
   "source": [
    "The first value is the guess for the out-of-sample deviance. The next one is the lppd, then the effective number of parameters (`penalty`), and the standard error of the WAIC.\n",
    "\n",
    "There's also a convenience function, `compare`:"
   ]
  },
  {
   "cell_type": "code",
   "execution_count": 29,
   "metadata": {
    "vscode": {
     "languageId": "r"
    }
   },
   "outputs": [
    {
     "data": {
      "text/html": [
       "<table class=\"dataframe\">\n",
       "<caption>A compareIC: 3 × 6</caption>\n",
       "<thead>\n",
       "\t<tr><th></th><th scope=col>WAIC</th><th scope=col>SE</th><th scope=col>dWAIC</th><th scope=col>dSE</th><th scope=col>pWAIC</th><th scope=col>weight</th></tr>\n",
       "\t<tr><th></th><th scope=col>&lt;dbl&gt;</th><th scope=col>&lt;dbl&gt;</th><th scope=col>&lt;dbl&gt;</th><th scope=col>&lt;dbl&gt;</th><th scope=col>&lt;dbl&gt;</th><th scope=col>&lt;dbl&gt;</th></tr>\n",
       "</thead>\n",
       "<tbody>\n",
       "\t<tr><th scope=row>m6.7</th><td>361.8358</td><td>14.19774</td><td> 0.00000</td><td>      NA</td><td>3.784043</td><td>1.000000e+00</td></tr>\n",
       "\t<tr><th scope=row>m6.8</th><td>402.6981</td><td>11.19438</td><td>40.86224</td><td>10.40046</td><td>2.608455</td><td>1.339301e-09</td></tr>\n",
       "\t<tr><th scope=row>m6.6</th><td>405.9401</td><td>11.61637</td><td>44.10428</td><td>12.22475</td><td>1.593155</td><td>2.647756e-10</td></tr>\n",
       "</tbody>\n",
       "</table>\n"
      ],
      "text/latex": [
       "A compareIC: 3 × 6\n",
       "\\begin{tabular}{r|llllll}\n",
       "  & WAIC & SE & dWAIC & dSE & pWAIC & weight\\\\\n",
       "  & <dbl> & <dbl> & <dbl> & <dbl> & <dbl> & <dbl>\\\\\n",
       "\\hline\n",
       "\tm6.7 & 361.8358 & 14.19774 &  0.00000 &       NA & 3.784043 & 1.000000e+00\\\\\n",
       "\tm6.8 & 402.6981 & 11.19438 & 40.86224 & 10.40046 & 2.608455 & 1.339301e-09\\\\\n",
       "\tm6.6 & 405.9401 & 11.61637 & 44.10428 & 12.22475 & 1.593155 & 2.647756e-10\\\\\n",
       "\\end{tabular}\n"
      ],
      "text/markdown": [
       "\n",
       "A compareIC: 3 × 6\n",
       "\n",
       "| <!--/--> | WAIC &lt;dbl&gt; | SE &lt;dbl&gt; | dWAIC &lt;dbl&gt; | dSE &lt;dbl&gt; | pWAIC &lt;dbl&gt; | weight &lt;dbl&gt; |\n",
       "|---|---|---|---|---|---|---|\n",
       "| m6.7 | 361.8358 | 14.19774 |  0.00000 |       NA | 3.784043 | 1.000000e+00 |\n",
       "| m6.8 | 402.6981 | 11.19438 | 40.86224 | 10.40046 | 2.608455 | 1.339301e-09 |\n",
       "| m6.6 | 405.9401 | 11.61637 | 44.10428 | 12.22475 | 1.593155 | 2.647756e-10 |\n",
       "\n"
      ],
      "text/plain": [
       "     WAIC     SE       dWAIC    dSE      pWAIC    weight      \n",
       "m6.7 361.8358 14.19774  0.00000       NA 3.784043 1.000000e+00\n",
       "m6.8 402.6981 11.19438 40.86224 10.40046 2.608455 1.339301e-09\n",
       "m6.6 405.9401 11.61637 44.10428 12.22475 1.593155 2.647756e-10"
      ]
     },
     "metadata": {},
     "output_type": "display_data"
    }
   ],
   "source": [
    "compare(m6.6, m6.7, m6.8, func=WAIC)"
   ]
  },
  {
   "cell_type": "code",
   "execution_count": 30,
   "metadata": {
    "vscode": {
     "languageId": "r"
    }
   },
   "outputs": [
    {
     "data": {
      "text/html": [
       "<table class=\"dataframe\">\n",
       "<caption>A compareIC: 3 × 6</caption>\n",
       "<thead>\n",
       "\t<tr><th></th><th scope=col>PSIS</th><th scope=col>SE</th><th scope=col>dPSIS</th><th scope=col>dSE</th><th scope=col>pPSIS</th><th scope=col>weight</th></tr>\n",
       "\t<tr><th></th><th scope=col>&lt;dbl&gt;</th><th scope=col>&lt;dbl&gt;</th><th scope=col>&lt;dbl&gt;</th><th scope=col>&lt;dbl&gt;</th><th scope=col>&lt;dbl&gt;</th><th scope=col>&lt;dbl&gt;</th></tr>\n",
       "</thead>\n",
       "<tbody>\n",
       "\t<tr><th scope=row>m6.7</th><td>361.7536</td><td>14.24207</td><td> 0.00000</td><td>      NA</td><td>3.710445</td><td>1.000000e+00</td></tr>\n",
       "\t<tr><th scope=row>m6.8</th><td>403.2932</td><td>11.44237</td><td>41.53953</td><td>10.42531</td><td>2.890100</td><td>9.545649e-10</td></tr>\n",
       "\t<tr><th scope=row>m6.6</th><td>406.3850</td><td>11.83449</td><td>44.63132</td><td>12.24085</td><td>1.804161</td><td>2.034383e-10</td></tr>\n",
       "</tbody>\n",
       "</table>\n"
      ],
      "text/latex": [
       "A compareIC: 3 × 6\n",
       "\\begin{tabular}{r|llllll}\n",
       "  & PSIS & SE & dPSIS & dSE & pPSIS & weight\\\\\n",
       "  & <dbl> & <dbl> & <dbl> & <dbl> & <dbl> & <dbl>\\\\\n",
       "\\hline\n",
       "\tm6.7 & 361.7536 & 14.24207 &  0.00000 &       NA & 3.710445 & 1.000000e+00\\\\\n",
       "\tm6.8 & 403.2932 & 11.44237 & 41.53953 & 10.42531 & 2.890100 & 9.545649e-10\\\\\n",
       "\tm6.6 & 406.3850 & 11.83449 & 44.63132 & 12.24085 & 1.804161 & 2.034383e-10\\\\\n",
       "\\end{tabular}\n"
      ],
      "text/markdown": [
       "\n",
       "A compareIC: 3 × 6\n",
       "\n",
       "| <!--/--> | PSIS &lt;dbl&gt; | SE &lt;dbl&gt; | dPSIS &lt;dbl&gt; | dSE &lt;dbl&gt; | pPSIS &lt;dbl&gt; | weight &lt;dbl&gt; |\n",
       "|---|---|---|---|---|---|---|\n",
       "| m6.7 | 361.7536 | 14.24207 |  0.00000 |       NA | 3.710445 | 1.000000e+00 |\n",
       "| m6.8 | 403.2932 | 11.44237 | 41.53953 | 10.42531 | 2.890100 | 9.545649e-10 |\n",
       "| m6.6 | 406.3850 | 11.83449 | 44.63132 | 12.24085 | 1.804161 | 2.034383e-10 |\n",
       "\n"
      ],
      "text/plain": [
       "     PSIS     SE       dPSIS    dSE      pPSIS    weight      \n",
       "m6.7 361.7536 14.24207  0.00000       NA 3.710445 1.000000e+00\n",
       "m6.8 403.2932 11.44237 41.53953 10.42531 2.890100 9.545649e-10\n",
       "m6.6 406.3850 11.83449 44.63132 12.24085 1.804161 2.034383e-10"
      ]
     },
     "metadata": {},
     "output_type": "display_data"
    }
   ],
   "source": [
    "# Basically the same result with PSIS\n",
    "compare(m6.6, m6.7, m6.8, func=PSIS)"
   ]
  },
  {
   "attachments": {},
   "cell_type": "markdown",
   "metadata": {},
   "source": [
    "What are all of the columns?\n",
    "\n",
    "The first one is the raw WAIC (or whatever) values. Smaller values are better, and the models are ordered by WAIC, smallest to largest. Note that the model that includes the fungus has the lowest WAIC.\n",
    "\n",
    "`pWAIC` is the penalty term of WAIC. These values are close to, but slightly lower than, the the number of dimensions in the posterior of each model, which is to be expected in linear regressions with regularizing priors.\n",
    "\n",
    "`dWAIC` is the difference between the model's WAIC and the WAIC of the best model in the comparison. `m6.8` is about 40 units worse than `m6.7` (the best one), and `m6.6` is about 3 units worse than that. Are these big differences? One way to answer that is to ask a different question: are the models easily distinguished by their expected out-of-sample accuracy?\n",
    "\n",
    "The other two columns, `SE` and `dSE` are there to help us with that. `SE` is the approximate standard error of each model. Very approximately, we expect the uncertainty in our out-of-sample accuracy to be normally distributed with mean equal to the reported WAIC and standard deviation equal to the standard error. When the saple is small, the approximation tends to dramatically underestimate the uncertainty, but it's still better than the AIC, which provides no way to gauge the uncertainty.\n",
    "\n",
    "To judge whether the models are easy to distinguish, we don't use the standard errors - instead, we use the standard error of the difference. What does that mean? Kist like each WAIC value, each *difference* in WAIC also has a standard error. To compute that, we need the pointwise breakdown in WAIC values."
   ]
  },
  {
   "cell_type": "code",
   "execution_count": 31,
   "metadata": {
    "vscode": {
     "languageId": "r"
    }
   },
   "outputs": [
    {
     "data": {
      "text/html": [
       "<style>\n",
       ".list-inline {list-style: none; margin:0; padding: 0}\n",
       ".list-inline>li {display: inline-block}\n",
       ".list-inline>li:not(:last-child)::after {content: \"\\00b7\"; padding: 0 .5ex}\n",
       "</style>\n",
       "<ol class=list-inline><li>3.98236743550635</li><li>6.14805278496733</li><li>4.19081992779351</li><li>3.24099834384723</li><li>3.4433596962195</li><li>3.07953597665069</li><li>2.97374759411629</li><li>3.54629082447551</li><li>3.37076138864688</li><li>3.21891441339803</li><li>4.50032194815329</li><li>3.02727877144038</li><li>3.10418847592796</li><li>5.55358373205638</li><li>3.57376004622134</li><li>5.89331201444788</li><li>3.73206284604741</li><li>2.99957339200277</li><li>4.44984033584855</li><li>4.82968062956649</li><li>3.20347783955823</li><li>4.5796831519283</li><li>3.97559469946054</li><li>3.12938725832186</li><li>4.25872455057915</li><li>4.60887984518678</li><li>7.12867253317785</li><li>2.99589176355889</li><li>4.13424252042836</li><li>3.72167388151222</li><li>5.05705569590602</li><li>3.05500908486516</li><li>3.07848494243063</li><li>2.980377482012</li><li>6.11034179279162</li><li>6.936224788899</li><li>3.07512559310284</li><li>3.37018606116674</li><li>5.59329496250712</li><li>3.50952725809248</li><li>3.34557478660456</li><li>5.31804104365085</li><li>3.88374423659438</li><li>3.01477933899655</li><li>3.30637563030024</li><li>5.04196326073489</li><li>3.00283979614576</li><li>3.2103143890053</li><li>3.65003342491466</li><li>4.20200131080097</li><li>4.47424422515556</li><li>5.72172533923177</li><li>6.78179448083459</li><li>4.70693308338951</li><li>3.6890925440413</li><li>5.13591287133321</li><li>2.98298228812663</li><li>5.41577694377178</li><li>4.80319408216751</li><li>3.07725238337964</li><li>6.26079926429355</li><li>4.55558276583231</li><li>3.00147366228105</li><li>4.15877777844428</li><li>4.26184578153479</li><li>4.08243278352908</li><li>3.24789575710721</li><li>3.34090640972099</li><li>4.09584953636841</li><li>2.99477778590703</li><li>3.01171964108184</li><li>3.55613175669352</li><li>4.49533653450177</li><li>3.15927922802558</li><li>2.97847258721616</li><li>3.87204348740483</li><li>3.26961860012938</li><li>3.20783759885296</li><li>3.50435170552368</li><li>3.73249749610122</li><li>3.48469344841251</li><li>3.02151922551539</li><li>3.06263529329218</li><li>3.1382976859468</li><li>3.39648434236504</li><li>3.44496598887771</li><li>2.97498210740572</li><li>3.40776278713759</li><li>4.16366107027648</li><li>3.63611822397184</li><li>5.7617184979827</li><li>8.047307736367</li><li>3.1187570541002</li><li>5.40741061748607</li><li>3.42451261708415</li><li>4.47474014434161</li><li>3.07319630197719</li><li>6.61687660495765</li><li>3.16913215421169</li><li>3.25681107905539</li></ol>\n"
      ],
      "text/latex": [
       "\\begin{enumerate*}\n",
       "\\item 3.98236743550635\n",
       "\\item 6.14805278496733\n",
       "\\item 4.19081992779351\n",
       "\\item 3.24099834384723\n",
       "\\item 3.4433596962195\n",
       "\\item 3.07953597665069\n",
       "\\item 2.97374759411629\n",
       "\\item 3.54629082447551\n",
       "\\item 3.37076138864688\n",
       "\\item 3.21891441339803\n",
       "\\item 4.50032194815329\n",
       "\\item 3.02727877144038\n",
       "\\item 3.10418847592796\n",
       "\\item 5.55358373205638\n",
       "\\item 3.57376004622134\n",
       "\\item 5.89331201444788\n",
       "\\item 3.73206284604741\n",
       "\\item 2.99957339200277\n",
       "\\item 4.44984033584855\n",
       "\\item 4.82968062956649\n",
       "\\item 3.20347783955823\n",
       "\\item 4.5796831519283\n",
       "\\item 3.97559469946054\n",
       "\\item 3.12938725832186\n",
       "\\item 4.25872455057915\n",
       "\\item 4.60887984518678\n",
       "\\item 7.12867253317785\n",
       "\\item 2.99589176355889\n",
       "\\item 4.13424252042836\n",
       "\\item 3.72167388151222\n",
       "\\item 5.05705569590602\n",
       "\\item 3.05500908486516\n",
       "\\item 3.07848494243063\n",
       "\\item 2.980377482012\n",
       "\\item 6.11034179279162\n",
       "\\item 6.936224788899\n",
       "\\item 3.07512559310284\n",
       "\\item 3.37018606116674\n",
       "\\item 5.59329496250712\n",
       "\\item 3.50952725809248\n",
       "\\item 3.34557478660456\n",
       "\\item 5.31804104365085\n",
       "\\item 3.88374423659438\n",
       "\\item 3.01477933899655\n",
       "\\item 3.30637563030024\n",
       "\\item 5.04196326073489\n",
       "\\item 3.00283979614576\n",
       "\\item 3.2103143890053\n",
       "\\item 3.65003342491466\n",
       "\\item 4.20200131080097\n",
       "\\item 4.47424422515556\n",
       "\\item 5.72172533923177\n",
       "\\item 6.78179448083459\n",
       "\\item 4.70693308338951\n",
       "\\item 3.6890925440413\n",
       "\\item 5.13591287133321\n",
       "\\item 2.98298228812663\n",
       "\\item 5.41577694377178\n",
       "\\item 4.80319408216751\n",
       "\\item 3.07725238337964\n",
       "\\item 6.26079926429355\n",
       "\\item 4.55558276583231\n",
       "\\item 3.00147366228105\n",
       "\\item 4.15877777844428\n",
       "\\item 4.26184578153479\n",
       "\\item 4.08243278352908\n",
       "\\item 3.24789575710721\n",
       "\\item 3.34090640972099\n",
       "\\item 4.09584953636841\n",
       "\\item 2.99477778590703\n",
       "\\item 3.01171964108184\n",
       "\\item 3.55613175669352\n",
       "\\item 4.49533653450177\n",
       "\\item 3.15927922802558\n",
       "\\item 2.97847258721616\n",
       "\\item 3.87204348740483\n",
       "\\item 3.26961860012938\n",
       "\\item 3.20783759885296\n",
       "\\item 3.50435170552368\n",
       "\\item 3.73249749610122\n",
       "\\item 3.48469344841251\n",
       "\\item 3.02151922551539\n",
       "\\item 3.06263529329218\n",
       "\\item 3.1382976859468\n",
       "\\item 3.39648434236504\n",
       "\\item 3.44496598887771\n",
       "\\item 2.97498210740572\n",
       "\\item 3.40776278713759\n",
       "\\item 4.16366107027648\n",
       "\\item 3.63611822397184\n",
       "\\item 5.7617184979827\n",
       "\\item 8.047307736367\n",
       "\\item 3.1187570541002\n",
       "\\item 5.40741061748607\n",
       "\\item 3.42451261708415\n",
       "\\item 4.47474014434161\n",
       "\\item 3.07319630197719\n",
       "\\item 6.61687660495765\n",
       "\\item 3.16913215421169\n",
       "\\item 3.25681107905539\n",
       "\\end{enumerate*}\n"
      ],
      "text/markdown": [
       "1. 3.98236743550635\n",
       "2. 6.14805278496733\n",
       "3. 4.19081992779351\n",
       "4. 3.24099834384723\n",
       "5. 3.4433596962195\n",
       "6. 3.07953597665069\n",
       "7. 2.97374759411629\n",
       "8. 3.54629082447551\n",
       "9. 3.37076138864688\n",
       "10. 3.21891441339803\n",
       "11. 4.50032194815329\n",
       "12. 3.02727877144038\n",
       "13. 3.10418847592796\n",
       "14. 5.55358373205638\n",
       "15. 3.57376004622134\n",
       "16. 5.89331201444788\n",
       "17. 3.73206284604741\n",
       "18. 2.99957339200277\n",
       "19. 4.44984033584855\n",
       "20. 4.82968062956649\n",
       "21. 3.20347783955823\n",
       "22. 4.5796831519283\n",
       "23. 3.97559469946054\n",
       "24. 3.12938725832186\n",
       "25. 4.25872455057915\n",
       "26. 4.60887984518678\n",
       "27. 7.12867253317785\n",
       "28. 2.99589176355889\n",
       "29. 4.13424252042836\n",
       "30. 3.72167388151222\n",
       "31. 5.05705569590602\n",
       "32. 3.05500908486516\n",
       "33. 3.07848494243063\n",
       "34. 2.980377482012\n",
       "35. 6.11034179279162\n",
       "36. 6.936224788899\n",
       "37. 3.07512559310284\n",
       "38. 3.37018606116674\n",
       "39. 5.59329496250712\n",
       "40. 3.50952725809248\n",
       "41. 3.34557478660456\n",
       "42. 5.31804104365085\n",
       "43. 3.88374423659438\n",
       "44. 3.01477933899655\n",
       "45. 3.30637563030024\n",
       "46. 5.04196326073489\n",
       "47. 3.00283979614576\n",
       "48. 3.2103143890053\n",
       "49. 3.65003342491466\n",
       "50. 4.20200131080097\n",
       "51. 4.47424422515556\n",
       "52. 5.72172533923177\n",
       "53. 6.78179448083459\n",
       "54. 4.70693308338951\n",
       "55. 3.6890925440413\n",
       "56. 5.13591287133321\n",
       "57. 2.98298228812663\n",
       "58. 5.41577694377178\n",
       "59. 4.80319408216751\n",
       "60. 3.07725238337964\n",
       "61. 6.26079926429355\n",
       "62. 4.55558276583231\n",
       "63. 3.00147366228105\n",
       "64. 4.15877777844428\n",
       "65. 4.26184578153479\n",
       "66. 4.08243278352908\n",
       "67. 3.24789575710721\n",
       "68. 3.34090640972099\n",
       "69. 4.09584953636841\n",
       "70. 2.99477778590703\n",
       "71. 3.01171964108184\n",
       "72. 3.55613175669352\n",
       "73. 4.49533653450177\n",
       "74. 3.15927922802558\n",
       "75. 2.97847258721616\n",
       "76. 3.87204348740483\n",
       "77. 3.26961860012938\n",
       "78. 3.20783759885296\n",
       "79. 3.50435170552368\n",
       "80. 3.73249749610122\n",
       "81. 3.48469344841251\n",
       "82. 3.02151922551539\n",
       "83. 3.06263529329218\n",
       "84. 3.1382976859468\n",
       "85. 3.39648434236504\n",
       "86. 3.44496598887771\n",
       "87. 2.97498210740572\n",
       "88. 3.40776278713759\n",
       "89. 4.16366107027648\n",
       "90. 3.63611822397184\n",
       "91. 5.7617184979827\n",
       "92. 8.047307736367\n",
       "93. 3.1187570541002\n",
       "94. 5.40741061748607\n",
       "95. 3.42451261708415\n",
       "96. 4.47474014434161\n",
       "97. 3.07319630197719\n",
       "98. 6.61687660495765\n",
       "99. 3.16913215421169\n",
       "100. 3.25681107905539\n",
       "\n",
       "\n"
      ],
      "text/plain": [
       "  [1] 3.982367 6.148053 4.190820 3.240998 3.443360 3.079536 2.973748 3.546291\n",
       "  [9] 3.370761 3.218914 4.500322 3.027279 3.104188 5.553584 3.573760 5.893312\n",
       " [17] 3.732063 2.999573 4.449840 4.829681 3.203478 4.579683 3.975595 3.129387\n",
       " [25] 4.258725 4.608880 7.128673 2.995892 4.134243 3.721674 5.057056 3.055009\n",
       " [33] 3.078485 2.980377 6.110342 6.936225 3.075126 3.370186 5.593295 3.509527\n",
       " [41] 3.345575 5.318041 3.883744 3.014779 3.306376 5.041963 3.002840 3.210314\n",
       " [49] 3.650033 4.202001 4.474244 5.721725 6.781794 4.706933 3.689093 5.135913\n",
       " [57] 2.982982 5.415777 4.803194 3.077252 6.260799 4.555583 3.001474 4.158778\n",
       " [65] 4.261846 4.082433 3.247896 3.340906 4.095850 2.994778 3.011720 3.556132\n",
       " [73] 4.495337 3.159279 2.978473 3.872043 3.269619 3.207838 3.504352 3.732497\n",
       " [81] 3.484693 3.021519 3.062635 3.138298 3.396484 3.444966 2.974982 3.407763\n",
       " [89] 4.163661 3.636118 5.761718 8.047308 3.118757 5.407411 3.424513 4.474740\n",
       " [97] 3.073196 6.616877 3.169132 3.256811"
      ]
     },
     "metadata": {},
     "output_type": "display_data"
    }
   ],
   "source": [
    "\n",
    "set.seed(91)\n",
    "waic_m6.7 <- WAIC(m6.7, pointwise = T)$WAIC\n",
    "waic_m6.8 <- WAIC(m6.8, pointwise = T)$WAIC\n",
    "waic_m6.8"
   ]
  },
  {
   "cell_type": "code",
   "execution_count": 32,
   "metadata": {
    "vscode": {
     "languageId": "r"
    }
   },
   "outputs": [
    {
     "data": {
      "text/html": [
       "10.3578521898345"
      ],
      "text/latex": [
       "10.3578521898345"
      ],
      "text/markdown": [
       "10.3578521898345"
      ],
      "text/plain": [
       "[1] 10.35785"
      ]
     },
     "metadata": {},
     "output_type": "display_data"
    }
   ],
   "source": [
    "\n",
    "n <- length(waic_m6.7)\n",
    "\n",
    "diff_m6.7_m6.8 <- waic_m6.7 - waic_m6.8\n",
    "sqrt(n * var( diff_m6.7_m6.8 ))"
   ]
  },
  {
   "attachments": {},
   "cell_type": "markdown",
   "metadata": {},
   "source": [
    "This is the value in the second row of the `compare` table, with a slight difference due to simulation variance. The difference between the odels is 40.9 and the standard error is about 10.4. If we imagine the 99% (z-score of about 2.6) intervale of the difference, it'll be about"
   ]
  },
  {
   "cell_type": "code",
   "execution_count": 33,
   "metadata": {
    "vscode": {
     "languageId": "r"
    }
   },
   "outputs": [
    {
     "data": {
      "text/html": [
       "<style>\n",
       ".list-inline {list-style: none; margin:0; padding: 0}\n",
       ".list-inline>li {display: inline-block}\n",
       ".list-inline>li:not(:last-child)::after {content: \"\\00b7\"; padding: 0 .5ex}\n",
       "</style>\n",
       "<ol class=list-inline><li>12.96</li><li>67.04</li></ol>\n"
      ],
      "text/latex": [
       "\\begin{enumerate*}\n",
       "\\item 12.96\n",
       "\\item 67.04\n",
       "\\end{enumerate*}\n"
      ],
      "text/markdown": [
       "1. 12.96\n",
       "2. 67.04\n",
       "\n",
       "\n"
      ],
      "text/plain": [
       "[1] 12.96 67.04"
      ]
     },
     "metadata": {},
     "output_type": "display_data"
    }
   ],
   "source": [
    "40 + c(-1, 1) * 10.4 * 2.6"
   ]
  },
  {
   "attachments": {},
   "cell_type": "markdown",
   "metadata": {},
   "source": [
    "So yes, these models are easy to distinguish by expected out-of-sample accuracy. Model `m6.7` is a lot better. We might be able to see this better if we plot the `compare` table:"
   ]
  },
  {
   "cell_type": "code",
   "execution_count": 34,
   "metadata": {
    "vscode": {
     "languageId": "r"
    }
   },
   "outputs": [
    {
     "data": {
      "image/png": "[encoded data removed]",
      "text/plain": [
       "plot without title"
      ]
     },
     "metadata": {
      "image/png": {
       "height": 420,
       "width": 420
      }
     },
     "output_type": "display_data"
    }
   ],
   "source": [
    "plot(compare(m6.6, m6.7, m6.8))"
   ]
  },
  {
   "attachments": {},
   "cell_type": "markdown",
   "metadata": {},
   "source": [
    "Filled-in is the in-sample deviance values and the hollow ones are the estimated out-of-sample ones. What we really want is the standard error of the difference in WAIC between the two models - this is the lighter line segment with the triangle on it.\n",
    "\n",
    "Note: we can't use WAIC to infer causality! We built the model, so we know that `m6.8` is the correct one, not `m6.7` (which is the one that includes the fungus). WAIC did its job - it found the model with the better predictive accuracy.\n",
    "\n",
    "So now let's ask about the difference between `m6.8` (treatment only) and `m6.6` (intercept only).\n",
    "\n",
    "WAIC thinks that these models are quite similar - only 3 units of deviance betwen them. Let's calculate the standard error of the difference:"
   ]
  },
  {
   "cell_type": "code",
   "execution_count": 35,
   "metadata": {
    "vscode": {
     "languageId": "r"
    }
   },
   "outputs": [
    {
     "data": {
      "text/html": [
       "4.85891412679512"
      ],
      "text/latex": [
       "4.85891412679512"
      ],
      "text/markdown": [
       "4.85891412679512"
      ],
      "text/plain": [
       "[1] 4.858914"
      ]
     },
     "metadata": {},
     "output_type": "display_data"
    }
   ],
   "source": [
    "set.seed(92)\n",
    "waic_m6.6 <- WAIC(m6.6, pointwise=T)$WAIC\n",
    "diff_m6.6_m6.8 <- waic_m6.6 - waic_m6.8\n",
    "sqrt(n * var(diff_m6.6_m6.8))"
   ]
  },
  {
   "attachments": {},
   "cell_type": "markdown",
   "metadata": {},
   "source": [
    "The `compare` table doesn't show this value, but it did calculate it. We just need the `dSE` slot of the return:"
   ]
  },
  {
   "cell_type": "code",
   "execution_count": 36,
   "metadata": {
    "vscode": {
     "languageId": "r"
    }
   },
   "outputs": [
    {
     "data": {
      "text/html": [
       "<table class=\"dataframe\">\n",
       "<caption>A matrix: 3 × 3 of type dbl</caption>\n",
       "<thead>\n",
       "\t<tr><th></th><th scope=col>m6.6</th><th scope=col>m6.7</th><th scope=col>m6.8</th></tr>\n",
       "</thead>\n",
       "<tbody>\n",
       "\t<tr><th scope=row>m6.6</th><td>       NA</td><td>12.20638</td><td> 4.934353</td></tr>\n",
       "\t<tr><th scope=row>m6.7</th><td>12.206380</td><td>      NA</td><td>10.426576</td></tr>\n",
       "\t<tr><th scope=row>m6.8</th><td> 4.934353</td><td>10.42658</td><td>       NA</td></tr>\n",
       "</tbody>\n",
       "</table>\n"
      ],
      "text/latex": [
       "A matrix: 3 × 3 of type dbl\n",
       "\\begin{tabular}{r|lll}\n",
       "  & m6.6 & m6.7 & m6.8\\\\\n",
       "\\hline\n",
       "\tm6.6 &        NA & 12.20638 &  4.934353\\\\\n",
       "\tm6.7 & 12.206380 &       NA & 10.426576\\\\\n",
       "\tm6.8 &  4.934353 & 10.42658 &        NA\\\\\n",
       "\\end{tabular}\n"
      ],
      "text/markdown": [
       "\n",
       "A matrix: 3 × 3 of type dbl\n",
       "\n",
       "| <!--/--> | m6.6 | m6.7 | m6.8 |\n",
       "|---|---|---|---|\n",
       "| m6.6 |        NA | 12.20638 |  4.934353 |\n",
       "| m6.7 | 12.206380 |       NA | 10.426576 |\n",
       "| m6.8 |  4.934353 | 10.42658 |        NA |\n",
       "\n"
      ],
      "text/plain": [
       "     m6.6      m6.7     m6.8     \n",
       "m6.6        NA 12.20638  4.934353\n",
       "m6.7 12.206380       NA 10.426576\n",
       "m6.8  4.934353 10.42658        NA"
      ]
     },
     "metadata": {},
     "output_type": "display_data"
    }
   ],
   "source": [
    "set.seed(93)\n",
    "compare(m6.6, m6.7, m6.8)@dSE"
   ]
  },
  {
   "attachments": {},
   "cell_type": "markdown",
   "metadata": {},
   "source": [
    "This contains the pairwise difference standard errors for the models compared. Note: the standard error of the different for `m6.6` and `m6.8` is larger than the actual difference - we can't reliably distinguish between these based on the WAIC.\n",
    "\n",
    "There's another thing to consider: the `weight` column. This is a way to summarize the relative support for each model. They always sum to 1, within a set of compared models.\n",
    "\n",
    "$$\n",
    "w_i = \\frac{e^{-\\frac{1}{2} \\Delta_i}}{\\sum_j e^{-\\frac{1}{2}\\Delta_j}}\n",
    "$$\n",
    "\n",
    "Where $\\Delta_i$ i sthe difference between model $i$'s WAIC value and the best WAIC value in the set. These are the `dWAIC` values in the table. These can be a quick way to see how big the differences are between models. However, they don't take into account the standard errors - you still need to do that.\n",
    "\n",
    "They can also be used for **model averaging**. This is a family of methods for combining the predictions of multiple models. It's not covered in this book..."
   ]
  },
  {
   "attachments": {},
   "cell_type": "markdown",
   "metadata": {},
   "source": [
    "### Outliers and other illusions\n",
    "\n",
    "In the divorce example from **Chapter 5**, some states were hard for the model to predict. In particular, Idaho was something of an **outlier**. Points like these tend to be very influential in calculating regressions. Let's see how PSIS and WAIC represent that importance.\n"
   ]
  },
  {
   "cell_type": "code",
   "execution_count": 37,
   "metadata": {
    "vscode": {
     "languageId": "r"
    }
   },
   "outputs": [],
   "source": [
    "library(rethinking)\n",
    "data(WaffleDivorce)\n",
    "d <- WaffleDivorce\n",
    "d$A <- standardize(d$MedianAgeMarriage)\n",
    "d$D <- standardize(d$Divorce)\n",
    "d$M <- standardize(d$Marriage)\n",
    "\n",
    "m5.1 <- quap(\n",
    "    alist(\n",
    "        D ~ dnorm(mu, sigma),\n",
    "        mu <- a + bA * A,\n",
    "        a ~ dnorm(0, 0.2),\n",
    "        bA ~ dnorm(0, 0.5),\n",
    "        sigma ~ dexp(1)\n",
    "    ),\n",
    "    data=d\n",
    ")\n",
    "\n",
    "m5.2 <- quap(\n",
    "    alist(\n",
    "        D ~ dnorm(mu, sigma),\n",
    "        mu <- a + bM * M,\n",
    "        a ~ dnorm(0, 0.2),\n",
    "        bM ~ dnorm(0, 0.5),\n",
    "        sigma ~ dexp(1)\n",
    "    ),\n",
    "    data=d\n",
    ")\n",
    "\n",
    "m5.3 <- quap(\n",
    "    alist(\n",
    "        D ~ dnorm(mu, sigma),\n",
    "        mu <- a + bM * M + bA * A,\n",
    "        a ~ dnorm(0, 0.2),\n",
    "        bM ~ dnorm(0, 0.5),\n",
    "        bA ~ dnorm(0, 0.5),\n",
    "        sigma ~ dexp(1)\n",
    "    ),\n",
    "    data=d\n",
    ")"
   ]
  },
  {
   "cell_type": "code",
   "execution_count": 38,
   "metadata": {
    "vscode": {
     "languageId": "r"
    }
   },
   "outputs": [
    {
     "name": "stderr",
     "output_type": "stream",
     "text": [
      "Some Pareto k values are high (>0.5). Set pointwise=TRUE to inspect individual points.\n",
      "\n",
      "Some Pareto k values are high (>0.5). Set pointwise=TRUE to inspect individual points.\n",
      "\n",
      "Some Pareto k values are very high (>1). Set pointwise=TRUE to inspect individual points.\n",
      "\n"
     ]
    },
    {
     "data": {
      "text/html": [
       "<table class=\"dataframe\">\n",
       "<caption>A compareIC: 3 × 6</caption>\n",
       "<thead>\n",
       "\t<tr><th></th><th scope=col>PSIS</th><th scope=col>SE</th><th scope=col>dPSIS</th><th scope=col>dSE</th><th scope=col>pPSIS</th><th scope=col>weight</th></tr>\n",
       "\t<tr><th></th><th scope=col>&lt;dbl&gt;</th><th scope=col>&lt;dbl&gt;</th><th scope=col>&lt;dbl&gt;</th><th scope=col>&lt;dbl&gt;</th><th scope=col>&lt;dbl&gt;</th><th scope=col>&lt;dbl&gt;</th></tr>\n",
       "</thead>\n",
       "<tbody>\n",
       "\t<tr><th scope=row>m5.1</th><td>127.5665</td><td>14.69485</td><td> 0.000000</td><td>       NA</td><td>4.671425</td><td>0.8340176286</td></tr>\n",
       "\t<tr><th scope=row>m5.3</th><td>130.8062</td><td>16.15696</td><td> 3.239685</td><td> 1.808671</td><td>6.578663</td><td>0.1650769863</td></tr>\n",
       "\t<tr><th scope=row>m5.2</th><td>141.2178</td><td>11.56557</td><td>13.651299</td><td>10.923820</td><td>4.057204</td><td>0.0009053851</td></tr>\n",
       "</tbody>\n",
       "</table>\n"
      ],
      "text/latex": [
       "A compareIC: 3 × 6\n",
       "\\begin{tabular}{r|llllll}\n",
       "  & PSIS & SE & dPSIS & dSE & pPSIS & weight\\\\\n",
       "  & <dbl> & <dbl> & <dbl> & <dbl> & <dbl> & <dbl>\\\\\n",
       "\\hline\n",
       "\tm5.1 & 127.5665 & 14.69485 &  0.000000 &        NA & 4.671425 & 0.8340176286\\\\\n",
       "\tm5.3 & 130.8062 & 16.15696 &  3.239685 &  1.808671 & 6.578663 & 0.1650769863\\\\\n",
       "\tm5.2 & 141.2178 & 11.56557 & 13.651299 & 10.923820 & 4.057204 & 0.0009053851\\\\\n",
       "\\end{tabular}\n"
      ],
      "text/markdown": [
       "\n",
       "A compareIC: 3 × 6\n",
       "\n",
       "| <!--/--> | PSIS &lt;dbl&gt; | SE &lt;dbl&gt; | dPSIS &lt;dbl&gt; | dSE &lt;dbl&gt; | pPSIS &lt;dbl&gt; | weight &lt;dbl&gt; |\n",
       "|---|---|---|---|---|---|---|\n",
       "| m5.1 | 127.5665 | 14.69485 |  0.000000 |        NA | 4.671425 | 0.8340176286 |\n",
       "| m5.3 | 130.8062 | 16.15696 |  3.239685 |  1.808671 | 6.578663 | 0.1650769863 |\n",
       "| m5.2 | 141.2178 | 11.56557 | 13.651299 | 10.923820 | 4.057204 | 0.0009053851 |\n",
       "\n"
      ],
      "text/plain": [
       "     PSIS     SE       dPSIS     dSE       pPSIS    weight      \n",
       "m5.1 127.5665 14.69485  0.000000        NA 4.671425 0.8340176286\n",
       "m5.3 130.8062 16.15696  3.239685  1.808671 6.578663 0.1650769863\n",
       "m5.2 141.2178 11.56557 13.651299 10.923820 4.057204 0.0009053851"
      ]
     },
     "metadata": {},
     "output_type": "display_data"
    }
   ],
   "source": [
    "set.seed(24071847)\n",
    "compare(m5.1, m5.2, m5.3, func=PSIS)"
   ]
  },
  {
   "attachments": {},
   "cell_type": "markdown",
   "metadata": {},
   "source": [
    "A few things to note:\n",
    "\n",
    "First, `m5.1`, the model that omits the marriage rate, comes out on top. Marriage rate has very little association with the divorce rate, so omitting it has a slightly better expectd out-of-sample performance, even though it actually fits the data slightly worse than `m5.3`, the one that includes both. The difference between the top two models is only 1.8, with a standard error of 0.9 - the models make very similar predictions. This is a typical pattern whenever some predictor has a very small association with the outcome.\n",
    "\n",
    "There are also some warnings! `Some Pareto k values are very high...`. This means that the smoothing approzimation the PSIS uses is unreliable for some points. Recall from the earlier section that a Pareto $k$ value above 0.5 means that the importance weight can be unreliable. These points tend to be outliers with unlikely values. As a result, they are highly influential and make it difficult to estimate out-of-sample accuracy.\n",
    "\n",
    "Why is this? Any new sample is unlikely to contain these outliers, and since the outliers have such a large effect on the model, it makes the predictions worse than expected. WAIC is vulnerable to outliers as well - it just doesn't have the automatic warning. It does have a way to measure the risk though - the estimate of the overfitting penalty.\n",
    "\n",
    "Let's look at the individual states. We can do this by adding the `pointwise=T` parameter to PSIS, resulting in a matrix with each observation on a row and the PSIS information, including the Pareto $k$ values, in columns."
   ]
  },
  {
   "cell_type": "code",
   "execution_count": 39,
   "metadata": {
    "vscode": {
     "languageId": "r"
    }
   },
   "outputs": [
    {
     "name": "stderr",
     "output_type": "stream",
     "text": [
      "Some Pareto k values are very high (>1). Set pointwise=TRUE to inspect individual points.\n",
      "\n"
     ]
    },
    {
     "data": {
      "text/html": [
       "<table class=\"dataframe\">\n",
       "<caption>A data.frame: 6 × 5</caption>\n",
       "<thead>\n",
       "\t<tr><th></th><th scope=col>PSIS</th><th scope=col>lppd</th><th scope=col>penalty</th><th scope=col>std_err</th><th scope=col>k</th></tr>\n",
       "\t<tr><th></th><th scope=col>&lt;dbl&gt;</th><th scope=col>&lt;dbl&gt;</th><th scope=col>&lt;dbl&gt;</th><th scope=col>&lt;dbl&gt;</th><th scope=col>&lt;dbl&gt;</th></tr>\n",
       "</thead>\n",
       "<tbody>\n",
       "\t<tr><th scope=row>1</th><td>4.296682</td><td>-2.1483409</td><td>0.13078938</td><td>16.92841</td><td> 0.21966456</td></tr>\n",
       "\t<tr><th scope=row>2</th><td>4.231526</td><td>-2.1157631</td><td>0.24946268</td><td>16.92841</td><td> 0.39684752</td></tr>\n",
       "\t<tr><th scope=row>3</th><td>1.774601</td><td>-0.8873004</td><td>0.01091575</td><td>16.92841</td><td> 0.05704868</td></tr>\n",
       "\t<tr><th scope=row>4</th><td>4.802686</td><td>-2.4013431</td><td>0.31619109</td><td>16.92841</td><td> 0.40599080</td></tr>\n",
       "\t<tr><th scope=row>5</th><td>1.942635</td><td>-0.9713177</td><td>0.01849122</td><td>16.92841</td><td>-0.01293164</td></tr>\n",
       "\t<tr><th scope=row>6</th><td>2.922052</td><td>-1.4610259</td><td>0.06756908</td><td>16.92841</td><td> 0.27888723</td></tr>\n",
       "</tbody>\n",
       "</table>\n"
      ],
      "text/latex": [
       "A data.frame: 6 × 5\n",
       "\\begin{tabular}{r|lllll}\n",
       "  & PSIS & lppd & penalty & std\\_err & k\\\\\n",
       "  & <dbl> & <dbl> & <dbl> & <dbl> & <dbl>\\\\\n",
       "\\hline\n",
       "\t1 & 4.296682 & -2.1483409 & 0.13078938 & 16.92841 &  0.21966456\\\\\n",
       "\t2 & 4.231526 & -2.1157631 & 0.24946268 & 16.92841 &  0.39684752\\\\\n",
       "\t3 & 1.774601 & -0.8873004 & 0.01091575 & 16.92841 &  0.05704868\\\\\n",
       "\t4 & 4.802686 & -2.4013431 & 0.31619109 & 16.92841 &  0.40599080\\\\\n",
       "\t5 & 1.942635 & -0.9713177 & 0.01849122 & 16.92841 & -0.01293164\\\\\n",
       "\t6 & 2.922052 & -1.4610259 & 0.06756908 & 16.92841 &  0.27888723\\\\\n",
       "\\end{tabular}\n"
      ],
      "text/markdown": [
       "\n",
       "A data.frame: 6 × 5\n",
       "\n",
       "| <!--/--> | PSIS &lt;dbl&gt; | lppd &lt;dbl&gt; | penalty &lt;dbl&gt; | std_err &lt;dbl&gt; | k &lt;dbl&gt; |\n",
       "|---|---|---|---|---|---|\n",
       "| 1 | 4.296682 | -2.1483409 | 0.13078938 | 16.92841 |  0.21966456 |\n",
       "| 2 | 4.231526 | -2.1157631 | 0.24946268 | 16.92841 |  0.39684752 |\n",
       "| 3 | 1.774601 | -0.8873004 | 0.01091575 | 16.92841 |  0.05704868 |\n",
       "| 4 | 4.802686 | -2.4013431 | 0.31619109 | 16.92841 |  0.40599080 |\n",
       "| 5 | 1.942635 | -0.9713177 | 0.01849122 | 16.92841 | -0.01293164 |\n",
       "| 6 | 2.922052 | -1.4610259 | 0.06756908 | 16.92841 |  0.27888723 |\n",
       "\n"
      ],
      "text/plain": [
       "  PSIS     lppd       penalty    std_err  k          \n",
       "1 4.296682 -2.1483409 0.13078938 16.92841  0.21966456\n",
       "2 4.231526 -2.1157631 0.24946268 16.92841  0.39684752\n",
       "3 1.774601 -0.8873004 0.01091575 16.92841  0.05704868\n",
       "4 4.802686 -2.4013431 0.31619109 16.92841  0.40599080\n",
       "5 1.942635 -0.9713177 0.01849122 16.92841 -0.01293164\n",
       "6 2.922052 -1.4610259 0.06756908 16.92841  0.27888723"
      ]
     },
     "metadata": {},
     "output_type": "display_data"
    }
   ],
   "source": [
    "set.seed(24071847)\n",
    "PSIS_m5.3 <- PSIS(m5.3, pointwise=T)\n",
    "head(PSIS_m5.3)"
   ]
  },
  {
   "cell_type": "code",
   "execution_count": 40,
   "metadata": {
    "vscode": {
     "languageId": "r"
    }
   },
   "outputs": [
    {
     "data": {
      "text/html": [
       "<table class=\"dataframe\">\n",
       "<caption>A data.frame: 6 × 4</caption>\n",
       "<thead>\n",
       "\t<tr><th></th><th scope=col>WAIC</th><th scope=col>lppd</th><th scope=col>penalty</th><th scope=col>std_err</th></tr>\n",
       "\t<tr><th></th><th scope=col>&lt;dbl&gt;</th><th scope=col>&lt;dbl&gt;</th><th scope=col>&lt;dbl&gt;</th><th scope=col>&lt;dbl&gt;</th></tr>\n",
       "</thead>\n",
       "<tbody>\n",
       "\t<tr><th scope=row>1</th><td>4.218468</td><td>-2.0026692</td><td>0.10656474</td><td>14.35521</td></tr>\n",
       "\t<tr><th scope=row>2</th><td>4.177399</td><td>-1.8748883</td><td>0.21381110</td><td>14.35521</td></tr>\n",
       "\t<tr><th scope=row>3</th><td>1.768440</td><td>-0.8737807</td><td>0.01043901</td><td>14.35521</td></tr>\n",
       "\t<tr><th scope=row>4</th><td>4.709342</td><td>-2.0823216</td><td>0.27234964</td><td>14.35521</td></tr>\n",
       "\t<tr><th scope=row>5</th><td>1.936052</td><td>-0.9516979</td><td>0.01632804</td><td>14.35521</td></tr>\n",
       "\t<tr><th scope=row>6</th><td>2.911897</td><td>-1.3953856</td><td>0.06056297</td><td>14.35521</td></tr>\n",
       "</tbody>\n",
       "</table>\n"
      ],
      "text/latex": [
       "A data.frame: 6 × 4\n",
       "\\begin{tabular}{r|llll}\n",
       "  & WAIC & lppd & penalty & std\\_err\\\\\n",
       "  & <dbl> & <dbl> & <dbl> & <dbl>\\\\\n",
       "\\hline\n",
       "\t1 & 4.218468 & -2.0026692 & 0.10656474 & 14.35521\\\\\n",
       "\t2 & 4.177399 & -1.8748883 & 0.21381110 & 14.35521\\\\\n",
       "\t3 & 1.768440 & -0.8737807 & 0.01043901 & 14.35521\\\\\n",
       "\t4 & 4.709342 & -2.0823216 & 0.27234964 & 14.35521\\\\\n",
       "\t5 & 1.936052 & -0.9516979 & 0.01632804 & 14.35521\\\\\n",
       "\t6 & 2.911897 & -1.3953856 & 0.06056297 & 14.35521\\\\\n",
       "\\end{tabular}\n"
      ],
      "text/markdown": [
       "\n",
       "A data.frame: 6 × 4\n",
       "\n",
       "| <!--/--> | WAIC &lt;dbl&gt; | lppd &lt;dbl&gt; | penalty &lt;dbl&gt; | std_err &lt;dbl&gt; |\n",
       "|---|---|---|---|---|\n",
       "| 1 | 4.218468 | -2.0026692 | 0.10656474 | 14.35521 |\n",
       "| 2 | 4.177399 | -1.8748883 | 0.21381110 | 14.35521 |\n",
       "| 3 | 1.768440 | -0.8737807 | 0.01043901 | 14.35521 |\n",
       "| 4 | 4.709342 | -2.0823216 | 0.27234964 | 14.35521 |\n",
       "| 5 | 1.936052 | -0.9516979 | 0.01632804 | 14.35521 |\n",
       "| 6 | 2.911897 | -1.3953856 | 0.06056297 | 14.35521 |\n",
       "\n"
      ],
      "text/plain": [
       "  WAIC     lppd       penalty    std_err \n",
       "1 4.218468 -2.0026692 0.10656474 14.35521\n",
       "2 4.177399 -1.8748883 0.21381110 14.35521\n",
       "3 1.768440 -0.8737807 0.01043901 14.35521\n",
       "4 4.709342 -2.0823216 0.27234964 14.35521\n",
       "5 1.936052 -0.9516979 0.01632804 14.35521\n",
       "6 2.911897 -1.3953856 0.06056297 14.35521"
      ]
     },
     "metadata": {},
     "output_type": "display_data"
    }
   ],
   "source": [
    "WAIC_m5.3 <- WAIC(m5.3, pointwise=T)\n",
    "head(WAIC_m5.3)"
   ]
  },
  {
   "cell_type": "code",
   "execution_count": 41,
   "metadata": {
    "vscode": {
     "languageId": "r"
    }
   },
   "outputs": [
    {
     "data": {
      "image/png": "[encoded data removed]",
      "text/plain": [
       "plot without title"
      ]
     },
     "metadata": {
      "image/png": {
       "height": 420,
       "width": 420
      }
     },
     "output_type": "display_data"
    }
   ],
   "source": [
    "plot_df <- data.frame(psis_k=PSIS_m5.3$k, waic_penalty=WAIC_m5.3$penalty)\n",
    "ggplot(plot_df, aes(psis_k, waic_penalty)) +\n",
    "    geom_point()"
   ]
  },
  {
   "attachments": {},
   "cell_type": "markdown",
   "metadata": {},
   "source": [
    "The point in the top right is Idaho. Note that it is more than twice as large as the point at which the variance becomes theoretically infinte ($k=0.5$). The other outlier point is ME.\n",
    "\n",
    "Note also that WAIC assigns Idaho a penalty of more than 2. The outlier Idaho is causing additional overfitting risk.\n",
    "\n",
    "What can we do? There is a tradition of dropping outliers. However, this is a bad idea - a point can only be an outlier in terms of a model. \n",
    "\n",
    "A basic problem here is that the Gaussian error model is easily surprised. Gaussian distributions have thin tails - little weight is given to observations far from the mean. Many natural phenomena actually display this. However, others don't! Instead, they have thicker tails witth rare, extreme events. There are not measurement errors, but real events containing information about a natural process.\n",
    "\n",
    "One way to incorporate outliers without having it affect the results too much is to use a **robust regression**. Generally, this means one where the influence of extreme observations is reduced. One common way to do that is to replace the Gaussian with a **Student's t** distribution. The Student-t distribution arises as a result of a mixture of Gaussian's with different variances."
   ]
  },
  {
   "cell_type": "code",
   "execution_count": 42,
   "metadata": {
    "vscode": {
     "languageId": "r"
    }
   },
   "outputs": [
    {
     "data": {
      "image/png": "[encoded data removed]",
      "text/plain": [
       "plot without title"
      ]
     },
     "metadata": {
      "image/png": {
       "height": 420,
       "width": 420
      }
     },
     "output_type": "display_data"
    }
   ],
   "source": [
    "values <- seq(-4, 4, length.out=100)\n",
    "gaussian_df <- data.frame(x=values, density=dnorm(values, mean=0, sd=1), key=\"Gaussian\")\n",
    "student_df <- data.frame(x=values, density=dstudent(values, nu=2, mu=0, sigma=1), key=\"Student-t\")\n",
    "plot_df <- rbind(gaussian_df, student_df)\n",
    "ggplot(plot_df, aes(x, density)) +\n",
    "    geom_line(aes(colour=key))"
   ]
  },
  {
   "cell_type": "code",
   "execution_count": 43,
   "metadata": {
    "vscode": {
     "languageId": "r"
    }
   },
   "outputs": [
    {
     "data": {
      "image/png": "[encoded data removed]",
      "text/plain": [
       "plot without title"
      ]
     },
     "metadata": {
      "image/png": {
       "height": 420,
       "width": 420
      }
     },
     "output_type": "display_data"
    }
   ],
   "source": [
    "gaussian_df <- data.frame(x=values, density=-log(dnorm(values, mean=0, sd=1)), key=\"Gaussian\")\n",
    "student_df <- data.frame(x=values, density=-log(dstudent(values, nu=2, mu=0, sigma=1)), key=\"Student-t\")\n",
    "plot_df <- rbind(gaussian_df, student_df)\n",
    "ggplot(plot_df, aes(x, density)) +\n",
    "    geom_line(aes(colour=key))"
   ]
  },
  {
   "attachments": {},
   "cell_type": "markdown",
   "metadata": {},
   "source": [
    "The Student-t distribution has the same $\\mu$ and $\\sigma$ parameters as the Gaussian, but also has an extra parameter $\\nu$ that controls how thick the tails are. As $\\nu \\to \\infty$, the Student-t converges to the Gaussian.\n",
    "\n",
    "If you have lots of data, you can estimate $\\nu$. However, lots of times you won't have enough to be able to estimate the frequency of rare events. Instead, we assume that $\\nu$ is small (thick tails)\n",
    "\n",
    "Let's see what happens when we estimate our model, but now with a Student-t distribution:"
   ]
  },
  {
   "cell_type": "code",
   "execution_count": 44,
   "metadata": {
    "vscode": {
     "languageId": "r"
    }
   },
   "outputs": [],
   "source": [
    "m5.3t <- quap(\n",
    "    alist(\n",
    "        D ~ dstudent(2, mu, sigma),\n",
    "        mu <- a + bM * M + bA * A,\n",
    "        a ~ dnorm(0, 0.2),\n",
    "        c(bM, bA) ~ dnorm(0, 0.5),\n",
    "        sigma ~ dexp(1)\n",
    "    ),\n",
    "    data=d\n",
    ")"
   ]
  },
  {
   "cell_type": "code",
   "execution_count": 45,
   "metadata": {
    "vscode": {
     "languageId": "r"
    }
   },
   "outputs": [
    {
     "data": {
      "text/html": [
       "<table class=\"dataframe\">\n",
       "<caption>A data.frame: 1 × 4</caption>\n",
       "<thead>\n",
       "\t<tr><th scope=col>PSIS</th><th scope=col>lppd</th><th scope=col>penalty</th><th scope=col>std_err</th></tr>\n",
       "\t<tr><th scope=col>&lt;dbl&gt;</th><th scope=col>&lt;dbl&gt;</th><th scope=col>&lt;dbl&gt;</th><th scope=col>&lt;dbl&gt;</th></tr>\n",
       "</thead>\n",
       "<tbody>\n",
       "\t<tr><td>133.5325</td><td>-66.76626</td><td>6.745632</td><td>11.87595</td></tr>\n",
       "</tbody>\n",
       "</table>\n"
      ],
      "text/latex": [
       "A data.frame: 1 × 4\n",
       "\\begin{tabular}{llll}\n",
       " PSIS & lppd & penalty & std\\_err\\\\\n",
       " <dbl> & <dbl> & <dbl> & <dbl>\\\\\n",
       "\\hline\n",
       "\t 133.5325 & -66.76626 & 6.745632 & 11.87595\\\\\n",
       "\\end{tabular}\n"
      ],
      "text/markdown": [
       "\n",
       "A data.frame: 1 × 4\n",
       "\n",
       "| PSIS &lt;dbl&gt; | lppd &lt;dbl&gt; | penalty &lt;dbl&gt; | std_err &lt;dbl&gt; |\n",
       "|---|---|---|---|\n",
       "| 133.5325 | -66.76626 | 6.745632 | 11.87595 |\n",
       "\n"
      ],
      "text/plain": [
       "  PSIS     lppd      penalty  std_err \n",
       "1 133.5325 -66.76626 6.745632 11.87595"
      ]
     },
     "metadata": {},
     "output_type": "display_data"
    }
   ],
   "source": [
    "PSIS(m5.3t)"
   ]
  },
  {
   "attachments": {},
   "cell_type": "markdown",
   "metadata": {},
   "source": [
    "Note that there are no warnings about Pareto $k$ values! How did this affect the models?"
   ]
  },
  {
   "cell_type": "code",
   "execution_count": 46,
   "metadata": {
    "vscode": {
     "languageId": "r"
    }
   },
   "outputs": [
    {
     "data": {
      "image/png": "[encoded data removed]",
      "text/plain": [
       "plot without title"
      ]
     },
     "metadata": {
      "image/png": {
       "height": 420,
       "width": 420
      }
     },
     "output_type": "display_data"
    },
    {
     "data": {
      "image/png": "[encoded data removed]",
      "text/plain": [
       "plot without title"
      ]
     },
     "metadata": {
      "image/png": {
       "height": 420,
       "width": 420
      }
     },
     "output_type": "display_data"
    }
   ],
   "source": [
    "plot(precis(m5.3t))\n",
    "plot(precis(m5.3))"
   ]
  },
  {
   "attachments": {},
   "cell_type": "markdown",
   "metadata": {},
   "source": [
    "From the plot, you can see that $bM$ has been slightly increased (closer to 0) in `m5.3t` and $bA$ has gotten farther from 0. This is because Idaho was dragging the value up. By using the Student-t distribution, we reduce its effect."
   ]
  },
  {
   "attachments": {},
   "cell_type": "markdown",
   "metadata": {},
   "source": [
    "## Practice"
   ]
  },
  {
   "attachments": {},
   "cell_type": "markdown",
   "metadata": {},
   "source": [
    "### 7E1\n",
    "State the three motivating criteria that define information entropy."
   ]
  },
  {
   "attachments": {},
   "cell_type": "markdown",
   "metadata": {},
   "source": [
    "1. The measure should be continuous in the different probabilities (no sudden jumps!)\n",
    "1. In general, should increase as the number of possible events increases (there's more uncertainty)\n",
    "1. Should be additive over different possibilities. That is, if there is a compound probability, the entropy of that combined event should be the sum of the entropies of the constituents."
   ]
  },
  {
   "attachments": {},
   "cell_type": "markdown",
   "metadata": {},
   "source": [
    "### 7E2 \n",
    "Suppose a coin is weighted such that it lands on heads 70% of the time. What is the entropy of this coin?"
   ]
  },
  {
   "cell_type": "code",
   "execution_count": 47,
   "metadata": {
    "vscode": {
     "languageId": "r"
    }
   },
   "outputs": [
    {
     "data": {
      "text/html": [
       "0.610864302054894"
      ],
      "text/latex": [
       "0.610864302054894"
      ],
      "text/markdown": [
       "0.610864302054894"
      ],
      "text/plain": [
       "[1] 0.6108643"
      ]
     },
     "metadata": {},
     "output_type": "display_data"
    }
   ],
   "source": [
    "H <- function(p) {\n",
    "    -sum(p * log(p))\n",
    "}\n",
    "H(c(0.7, 0.3))"
   ]
  },
  {
   "attachments": {},
   "cell_type": "markdown",
   "metadata": {},
   "source": [
    "### 7E3\n",
    "Suppose a 4-sided die is loaded such that, when tossed, it shows 1 -> 20%, 2 -> 25%, 3 -> 25%, 4 -> 30%. What is the entropy of the dice?"
   ]
  },
  {
   "cell_type": "code",
   "execution_count": 48,
   "metadata": {
    "vscode": {
     "languageId": "r"
    }
   },
   "outputs": [
    {
     "data": {
      "text/html": [
       "1.37622660434455"
      ],
      "text/latex": [
       "1.37622660434455"
      ],
      "text/markdown": [
       "1.37622660434455"
      ],
      "text/plain": [
       "[1] 1.376227"
      ]
     },
     "metadata": {},
     "output_type": "display_data"
    }
   ],
   "source": [
    "H(c(0.2, 0.25, 0.25, 0.3))"
   ]
  },
  {
   "attachments": {},
   "cell_type": "markdown",
   "metadata": {},
   "source": [
    "### 7E4\n",
    "Suppose another 4-sided dice never shows \"4\", and shows the rest with equal likelihood. What is the entropy?"
   ]
  },
  {
   "cell_type": "code",
   "execution_count": 49,
   "metadata": {
    "vscode": {
     "languageId": "r"
    }
   },
   "outputs": [
    {
     "data": {
      "text/html": [
       "1.09861228866811"
      ],
      "text/latex": [
       "1.09861228866811"
      ],
      "text/markdown": [
       "1.09861228866811"
      ],
      "text/plain": [
       "[1] 1.098612"
      ]
     },
     "metadata": {},
     "output_type": "display_data"
    }
   ],
   "source": [
    "H(rep(1/3, 3))"
   ]
  },
  {
   "attachments": {},
   "cell_type": "markdown",
   "metadata": {},
   "source": [
    "### 7M1\n",
    "Write down and compare the definitions of AIC and WAIC. Which of these is most general? Which assumptions are required to transform the more general criterion into the less general one?"
   ]
  },
  {
   "attachments": {},
   "cell_type": "markdown",
   "metadata": {},
   "source": [
    "Akaike Information Criterion:\n",
    "$$\n",
    "\\text{AIC} = D_{\\text{train}} + 2p = -2\\text{lppd} + 2p\n",
    "$$\n",
    "where \n",
    "- $D_{\\text{train}}$ is the **training deviance** (recall: deviance is $-2 *$ lppd)\n",
    "- lppd is the **log-pointwise predictive density** - basically the continuous version of $S(q) = \\sum_i \\log q_i$ (summing over all of the observations $i$)\n",
    "- $p$ is the number of free parameters in the model\n",
    "\n",
    "Widely Applicable Information Criterion:\n",
    "$$\n",
    "\\text{WAIC} = -2 \\left( \\text{lppd} - \\underbrace{\\sum_i \\text{var}_\\theta \\log p (y_i | \\theta)}_{\\text{penalty term}} \\right)\n",
    "$$\n",
    "\n",
    "The Widely Applicable Information Criterion (WAIC) is more applicable. To transform the more applicable one to the less applicable one, we would need \n",
    "1. The priors to be flat (or overwhelmed by the likelihood)\n",
    "1. The posterior is well-approximated by a multivariate gaussian\n",
    "1. The sample size $N >> k$, the number of parameters"
   ]
  },
  {
   "attachments": {},
   "cell_type": "markdown",
   "metadata": {},
   "source": [
    "### 7M2\n",
    "Explain the difference between *model selection* and *model comparison*. What information is lost under model selection?"
   ]
  },
  {
   "attachments": {},
   "cell_type": "markdown",
   "metadata": {},
   "source": [
    "Model selection means choosing one model and discarding the rest; model comparison, on the other hand, just means comparing the different models. When you select a model, you are throwing away all of the other information about (e.g.) how close the other models were."
   ]
  },
  {
   "attachments": {},
   "cell_type": "markdown",
   "metadata": {},
   "source": [
    "### 7M3\n",
    "When comparing models with an information criterion, why must all models be fit to exactly the same observations? What would happen to the information criterion values if the models were fit to different numbers of observations? Perform some experiments if you're not sure."
   ]
  },
  {
   "attachments": {},
   "cell_type": "markdown",
   "metadata": {},
   "source": [
    "The different models must be fit to the same data because all of the information criteria involve summing over the different observations. If you are summing different models over different observations, then you can no longer compare the numbers that you are getting out at the end."
   ]
  },
  {
   "attachments": {},
   "cell_type": "markdown",
   "metadata": {},
   "source": [
    "### 7M4\n",
    "What happens to the effective number of parameters, as measured by PSIS or WAIC, as a prior becomes more concentrated? Performs some experiments if you're not sure."
   ]
  },
  {
   "cell_type": "code",
   "execution_count": 50,
   "metadata": {
    "vscode": {
     "languageId": "r"
    }
   },
   "outputs": [],
   "source": [
    "# let's simulate a linear regression and then concentrate the prior\n",
    "x <- seq(-3, 3, length.out=10)\n",
    "y <- 1 * x + 0\n",
    "y <- y + rnorm(length(y), mean=0, sd=1)\n",
    "data <- data.frame(\n",
    "    x=x,\n",
    "    y=y\n",
    ")"
   ]
  },
  {
   "cell_type": "code",
   "execution_count": 51,
   "metadata": {
    "vscode": {
     "languageId": "r"
    }
   },
   "outputs": [
    {
     "data": {
      "image/png": "[encoded data removed]",
      "text/plain": [
       "plot without title"
      ]
     },
     "metadata": {
      "image/png": {
       "height": 420,
       "width": 420
      }
     },
     "output_type": "display_data"
    }
   ],
   "source": [
    "\n",
    "plot_df <- data.frame(a_sd=double(), num_parameters=double())\n",
    "for (a_sd in seq(0.1, 1, length.out=10)) {\n",
    "    model <- quap(\n",
    "        alist(\n",
    "            y ~ dnorm(mu, sigma),\n",
    "            mu <- a * x + b,\n",
    "            a ~ dnorm(1, a_sd),\n",
    "            b ~ dnorm(0, 1),\n",
    "            sigma ~ dexp(1)\n",
    "        ),\n",
    "        data=data\n",
    "    )\n",
    "    penalty <- WAIC(model)$penalty\n",
    "    plot_df <- rbind(plot_df, data.frame(a_sd=a_sd, num_parameters=penalty))\n",
    "}\n",
    "ggplot(plot_df, aes(a_sd, num_parameters)) +\n",
    "    geom_point()"
   ]
  },
  {
   "attachments": {},
   "cell_type": "markdown",
   "metadata": {},
   "source": [
    "So it looks like as the prior becomes more concetrated, the effective number of parameters decreases. This makes sense - the model has less 'freedom' than if the priors are more flat."
   ]
  },
  {
   "attachments": {},
   "cell_type": "markdown",
   "metadata": {},
   "source": [
    "### 7M5\n",
    "Provide an informal explanation of why informative priors reduce overfitting."
   ]
  },
  {
   "attachments": {},
   "cell_type": "markdown",
   "metadata": {},
   "source": [
    "Overfitting happens when the model \"learns too much\" from the data - the values of the parameters are too strongly influenced by the actual data. By using informative priors, the weight of the actual data is reduced."
   ]
  },
  {
   "attachments": {},
   "cell_type": "markdown",
   "metadata": {},
   "source": [
    "### 7M6\n",
    "Provide an informal explanation of why overly informative priors result in underfitting."
   ]
  },
  {
   "attachments": {},
   "cell_type": "markdown",
   "metadata": {},
   "source": [
    "If the priors are too strong (informative), then the model is not able to learn from the data - the 'weight' of the priors overwhelms the data. This leads to underfitting because the model \"learns too little\" from the data."
   ]
  },
  {
   "attachments": {},
   "cell_type": "markdown",
   "metadata": {},
   "source": [
    "### 7H1\n",
    "In 2007, the *Wall Street Journal* publised an editorial (\"We're number one, alas\") with a graph of corporate tax rates in 29 countries plotted against tax revenue. A badly fit curve was drawn (probably by hand) to make the argument that the relationship between tax rate and tax revenue increases and then declines, such that higher tax rates can actualy produce less tax revenue. Fit a curve to the actual data, found in `data(Laffer)`. Consider models that use tax rate to predict tax revenue. Compare, using WAIC or PSIS, a straight-line model to any curved model you like. What do you conclude about the relationship between tax rate and tax revenue?"
   ]
  },
  {
   "cell_type": "code",
   "execution_count": 52,
   "metadata": {
    "vscode": {
     "languageId": "r"
    }
   },
   "outputs": [
    {
     "data": {
      "text/html": [
       "<table class=\"dataframe\">\n",
       "<caption>A data.frame: 6 × 2</caption>\n",
       "<thead>\n",
       "\t<tr><th></th><th scope=col>tax_rate</th><th scope=col>tax_revenue</th></tr>\n",
       "\t<tr><th></th><th scope=col>&lt;dbl&gt;</th><th scope=col>&lt;dbl&gt;</th></tr>\n",
       "</thead>\n",
       "<tbody>\n",
       "\t<tr><th scope=row>1</th><td> 0.07</td><td>-0.06</td></tr>\n",
       "\t<tr><th scope=row>2</th><td> 8.81</td><td> 2.45</td></tr>\n",
       "\t<tr><th scope=row>3</th><td>12.84</td><td> 3.58</td></tr>\n",
       "\t<tr><th scope=row>4</th><td>16.24</td><td> 2.19</td></tr>\n",
       "\t<tr><th scope=row>5</th><td>19.18</td><td> 2.46</td></tr>\n",
       "\t<tr><th scope=row>6</th><td>19.29</td><td> 1.95</td></tr>\n",
       "</tbody>\n",
       "</table>\n"
      ],
      "text/latex": [
       "A data.frame: 6 × 2\n",
       "\\begin{tabular}{r|ll}\n",
       "  & tax\\_rate & tax\\_revenue\\\\\n",
       "  & <dbl> & <dbl>\\\\\n",
       "\\hline\n",
       "\t1 &  0.07 & -0.06\\\\\n",
       "\t2 &  8.81 &  2.45\\\\\n",
       "\t3 & 12.84 &  3.58\\\\\n",
       "\t4 & 16.24 &  2.19\\\\\n",
       "\t5 & 19.18 &  2.46\\\\\n",
       "\t6 & 19.29 &  1.95\\\\\n",
       "\\end{tabular}\n"
      ],
      "text/markdown": [
       "\n",
       "A data.frame: 6 × 2\n",
       "\n",
       "| <!--/--> | tax_rate &lt;dbl&gt; | tax_revenue &lt;dbl&gt; |\n",
       "|---|---|---|\n",
       "| 1 |  0.07 | -0.06 |\n",
       "| 2 |  8.81 |  2.45 |\n",
       "| 3 | 12.84 |  3.58 |\n",
       "| 4 | 16.24 |  2.19 |\n",
       "| 5 | 19.18 |  2.46 |\n",
       "| 6 | 19.29 |  1.95 |\n",
       "\n"
      ],
      "text/plain": [
       "  tax_rate tax_revenue\n",
       "1  0.07    -0.06      \n",
       "2  8.81     2.45      \n",
       "3 12.84     3.58      \n",
       "4 16.24     2.19      \n",
       "5 19.18     2.46      \n",
       "6 19.29     1.95      "
      ]
     },
     "metadata": {},
     "output_type": "display_data"
    }
   ],
   "source": [
    "data(Laffer)\n",
    "d <- Laffer\n",
    "head(d)"
   ]
  },
  {
   "cell_type": "code",
   "execution_count": 53,
   "metadata": {
    "vscode": {
     "languageId": "r"
    }
   },
   "outputs": [
    {
     "data": {
      "image/png": "[encoded data removed]",
      "text/plain": [
       "plot without title"
      ]
     },
     "metadata": {
      "image/png": {
       "height": 420,
       "width": 420
      }
     },
     "output_type": "display_data"
    }
   ],
   "source": [
    "ggplot(d, aes(tax_rate, tax_revenue)) +\n",
    "    geom_point()"
   ]
  },
  {
   "cell_type": "code",
   "execution_count": 54,
   "metadata": {
    "vscode": {
     "languageId": "r"
    }
   },
   "outputs": [],
   "source": [
    "d$T <- standardize(d$tax_revenue)\n",
    "d$R <- standardize(d$tax_rate)\n",
    "m7h1_linear <- quap(\n",
    "    alist(\n",
    "        T ~ dnorm(mu, sigma),\n",
    "        mu <- a + b_R * R,\n",
    "        a ~ dnorm(0, 0.5),\n",
    "        b_R ~ dnorm(0, 0.5),\n",
    "        sigma ~ dexp(1)\n",
    "    ),\n",
    "    data=d\n",
    ")\n",
    "m7h1_quadratic <- quap(\n",
    "    alist(\n",
    "        T ~ dnorm(mu, sigma),\n",
    "        mu <- a + b_R * R + b_R2 * R ^ 2,\n",
    "        a ~ dnorm(0, 0.5),\n",
    "        b_R ~ dnorm(0, 0.5),\n",
    "        b_R2 ~ dnorm(0, 0.5),\n",
    "        sigma ~ dexp(1)\n",
    "    ),\n",
    "    data=d\n",
    ")"
   ]
  },
  {
   "cell_type": "code",
   "execution_count": 55,
   "metadata": {
    "vscode": {
     "languageId": "r"
    }
   },
   "outputs": [
    {
     "data": {
      "image/png": "[encoded data removed]",
      "text/plain": [
       "plot without title"
      ]
     },
     "metadata": {
      "image/png": {
       "height": 420,
       "width": 420
      }
     },
     "output_type": "display_data"
    },
    {
     "data": {
      "image/png": "[encoded data removed]",
      "text/plain": [
       "plot without title"
      ]
     },
     "metadata": {
      "image/png": {
       "height": 420,
       "width": 420
      }
     },
     "output_type": "display_data"
    }
   ],
   "source": [
    "Rs <- seq(min(d$R), max(d$R), length.out=100)\n",
    "l <- link(m7h1_linear, data=list(R=Rs))\n",
    "mu <- apply(l, 2, mean)\n",
    "ci <- apply(l, 2, PI)\n",
    "plot_df <- data.frame(\n",
    "    Rs=Rs,\n",
    "    mean=mu,\n",
    "    lower=ci[1,],\n",
    "    upper=ci[2,]\n",
    ")\n",
    "ggplot() +\n",
    "    geom_point(data=d, mapping=aes(R, T)) +\n",
    "    geom_line(data=plot_df, mapping=aes(Rs, mu)) +\n",
    "    geom_ribbon(data=plot_df, mapping=aes(x=Rs, ymin=lower, ymax=upper), alpha=0.2)\n",
    "\n",
    "Rs <- seq(min(d$R), max(d$R), length.out=100)\n",
    "l <- link(m7h1_quadratic, data=list(R=Rs))\n",
    "mu <- apply(l, 2, mean)\n",
    "ci <- apply(l, 2, PI)\n",
    "plot_df <- data.frame(\n",
    "    Rs=Rs,\n",
    "    mean=mu,\n",
    "    lower=ci[1,],\n",
    "    upper=ci[2,]\n",
    ")\n",
    "ggplot() +\n",
    "    geom_point(data=d, mapping=aes(R, T)) +\n",
    "    geom_line(data=plot_df, mapping=aes(Rs, mu)) +\n",
    "    geom_ribbon(data=plot_df, mapping=aes(x=Rs, ymin=lower, ymax=upper), alpha=0.2)"
   ]
  },
  {
   "cell_type": "code",
   "execution_count": 56,
   "metadata": {
    "vscode": {
     "languageId": "r"
    }
   },
   "outputs": [
    {
     "data": {
      "text/html": [
       "<table class=\"dataframe\">\n",
       "<caption>A data.frame: 1 × 4</caption>\n",
       "<thead>\n",
       "\t<tr><th scope=col>WAIC</th><th scope=col>lppd</th><th scope=col>penalty</th><th scope=col>std_err</th></tr>\n",
       "\t<tr><th scope=col>&lt;dbl&gt;</th><th scope=col>&lt;dbl&gt;</th><th scope=col>&lt;dbl&gt;</th><th scope=col>&lt;dbl&gt;</th></tr>\n",
       "</thead>\n",
       "<tbody>\n",
       "\t<tr><td>89.74958</td><td>-38.54912</td><td>6.325673</td><td>22.63719</td></tr>\n",
       "</tbody>\n",
       "</table>\n"
      ],
      "text/latex": [
       "A data.frame: 1 × 4\n",
       "\\begin{tabular}{llll}\n",
       " WAIC & lppd & penalty & std\\_err\\\\\n",
       " <dbl> & <dbl> & <dbl> & <dbl>\\\\\n",
       "\\hline\n",
       "\t 89.74958 & -38.54912 & 6.325673 & 22.63719\\\\\n",
       "\\end{tabular}\n"
      ],
      "text/markdown": [
       "\n",
       "A data.frame: 1 × 4\n",
       "\n",
       "| WAIC &lt;dbl&gt; | lppd &lt;dbl&gt; | penalty &lt;dbl&gt; | std_err &lt;dbl&gt; |\n",
       "|---|---|---|---|\n",
       "| 89.74958 | -38.54912 | 6.325673 | 22.63719 |\n",
       "\n"
      ],
      "text/plain": [
       "  WAIC     lppd      penalty  std_err \n",
       "1 89.74958 -38.54912 6.325673 22.63719"
      ]
     },
     "metadata": {},
     "output_type": "display_data"
    },
    {
     "data": {
      "text/html": [
       "<table class=\"dataframe\">\n",
       "<caption>A data.frame: 1 × 4</caption>\n",
       "<thead>\n",
       "\t<tr><th scope=col>WAIC</th><th scope=col>lppd</th><th scope=col>penalty</th><th scope=col>std_err</th></tr>\n",
       "\t<tr><th scope=col>&lt;dbl&gt;</th><th scope=col>&lt;dbl&gt;</th><th scope=col>&lt;dbl&gt;</th><th scope=col>&lt;dbl&gt;</th></tr>\n",
       "</thead>\n",
       "<tbody>\n",
       "\t<tr><td>88.19756</td><td>-37.326</td><td>6.772785</td><td>23.36713</td></tr>\n",
       "</tbody>\n",
       "</table>\n"
      ],
      "text/latex": [
       "A data.frame: 1 × 4\n",
       "\\begin{tabular}{llll}\n",
       " WAIC & lppd & penalty & std\\_err\\\\\n",
       " <dbl> & <dbl> & <dbl> & <dbl>\\\\\n",
       "\\hline\n",
       "\t 88.19756 & -37.326 & 6.772785 & 23.36713\\\\\n",
       "\\end{tabular}\n"
      ],
      "text/markdown": [
       "\n",
       "A data.frame: 1 × 4\n",
       "\n",
       "| WAIC &lt;dbl&gt; | lppd &lt;dbl&gt; | penalty &lt;dbl&gt; | std_err &lt;dbl&gt; |\n",
       "|---|---|---|---|\n",
       "| 88.19756 | -37.326 | 6.772785 | 23.36713 |\n",
       "\n"
      ],
      "text/plain": [
       "  WAIC     lppd    penalty  std_err \n",
       "1 88.19756 -37.326 6.772785 23.36713"
      ]
     },
     "metadata": {},
     "output_type": "display_data"
    }
   ],
   "source": [
    "WAIC(m7h1_linear)\n",
    "WAIC(m7h1_quadratic)"
   ]
  },
  {
   "cell_type": "code",
   "execution_count": 57,
   "metadata": {
    "vscode": {
     "languageId": "r"
    }
   },
   "outputs": [
    {
     "data": {
      "text/html": [
       "<table class=\"dataframe\">\n",
       "<caption>A compareIC: 2 × 6</caption>\n",
       "<thead>\n",
       "\t<tr><th></th><th scope=col>WAIC</th><th scope=col>SE</th><th scope=col>dWAIC</th><th scope=col>dSE</th><th scope=col>pWAIC</th><th scope=col>weight</th></tr>\n",
       "\t<tr><th></th><th scope=col>&lt;dbl&gt;</th><th scope=col>&lt;dbl&gt;</th><th scope=col>&lt;dbl&gt;</th><th scope=col>&lt;dbl&gt;</th><th scope=col>&lt;dbl&gt;</th><th scope=col>&lt;dbl&gt;</th></tr>\n",
       "</thead>\n",
       "<tbody>\n",
       "\t<tr><th scope=row>m7h1_quadratic</th><td>90.66911</td><td>26.04356</td><td>0.00000</td><td>      NA</td><td>8.181801</td><td>0.6227836</td></tr>\n",
       "\t<tr><th scope=row>m7h1_linear</th><td>91.67187</td><td>24.52922</td><td>1.00276</td><td>2.554525</td><td>7.415004</td><td>0.3772164</td></tr>\n",
       "</tbody>\n",
       "</table>\n"
      ],
      "text/latex": [
       "A compareIC: 2 × 6\n",
       "\\begin{tabular}{r|llllll}\n",
       "  & WAIC & SE & dWAIC & dSE & pWAIC & weight\\\\\n",
       "  & <dbl> & <dbl> & <dbl> & <dbl> & <dbl> & <dbl>\\\\\n",
       "\\hline\n",
       "\tm7h1\\_quadratic & 90.66911 & 26.04356 & 0.00000 &       NA & 8.181801 & 0.6227836\\\\\n",
       "\tm7h1\\_linear & 91.67187 & 24.52922 & 1.00276 & 2.554525 & 7.415004 & 0.3772164\\\\\n",
       "\\end{tabular}\n"
      ],
      "text/markdown": [
       "\n",
       "A compareIC: 2 × 6\n",
       "\n",
       "| <!--/--> | WAIC &lt;dbl&gt; | SE &lt;dbl&gt; | dWAIC &lt;dbl&gt; | dSE &lt;dbl&gt; | pWAIC &lt;dbl&gt; | weight &lt;dbl&gt; |\n",
       "|---|---|---|---|---|---|---|\n",
       "| m7h1_quadratic | 90.66911 | 26.04356 | 0.00000 |       NA | 8.181801 | 0.6227836 |\n",
       "| m7h1_linear | 91.67187 | 24.52922 | 1.00276 | 2.554525 | 7.415004 | 0.3772164 |\n",
       "\n"
      ],
      "text/plain": [
       "               WAIC     SE       dWAIC   dSE      pWAIC    weight   \n",
       "m7h1_quadratic 90.66911 26.04356 0.00000       NA 8.181801 0.6227836\n",
       "m7h1_linear    91.67187 24.52922 1.00276 2.554525 7.415004 0.3772164"
      ]
     },
     "metadata": {},
     "output_type": "display_data"
    }
   ],
   "source": [
    "compare(m7h1_linear, m7h1_quadratic, func=WAIC)"
   ]
  },
  {
   "attachments": {},
   "cell_type": "markdown",
   "metadata": {},
   "source": [
    "From this, it seems like both models are basically just as good - the difference in the WAIC is slightly less than one standard error. From this, we should conclude that there isn't strong evidence that the curve trends up or down - both models have approximately the same support."
   ]
  },
  {
   "attachments": {},
   "cell_type": "markdown",
   "metadata": {},
   "source": [
    "### 7H2\n",
    "In the `Laffer` data, there is one country with a high tax revenue that is an outlier. Use PSIS and WAIC to measure the importance of this outlier in the models you fit in the previous problem. Then use robust regression with a Student-t distribution to revisit the curve fitting problem. How much does a curved relationship depend on the outlier point?"
   ]
  },
  {
   "cell_type": "code",
   "execution_count": 58,
   "metadata": {
    "vscode": {
     "languageId": "r"
    }
   },
   "outputs": [
    {
     "name": "stderr",
     "output_type": "stream",
     "text": [
      "Some Pareto k values are very high (>1). Set pointwise=TRUE to inspect individual points.\n",
      "\n"
     ]
    },
    {
     "data": {
      "text/html": [
       "<table class=\"dataframe\">\n",
       "<caption>A data.frame: 1 × 5</caption>\n",
       "<thead>\n",
       "\t<tr><th></th><th scope=col>PSIS</th><th scope=col>lppd</th><th scope=col>penalty</th><th scope=col>std_err</th><th scope=col>k</th></tr>\n",
       "\t<tr><th></th><th scope=col>&lt;dbl&gt;</th><th scope=col>&lt;dbl&gt;</th><th scope=col>&lt;dbl&gt;</th><th scope=col>&lt;dbl&gt;</th><th scope=col>&lt;dbl&gt;</th></tr>\n",
       "</thead>\n",
       "<tbody>\n",
       "\t<tr><th scope=row>12</th><td>27.79443</td><td>-13.89722</td><td>6.211931</td><td>25.78748</td><td>1.643416</td></tr>\n",
       "</tbody>\n",
       "</table>\n"
      ],
      "text/latex": [
       "A data.frame: 1 × 5\n",
       "\\begin{tabular}{r|lllll}\n",
       "  & PSIS & lppd & penalty & std\\_err & k\\\\\n",
       "  & <dbl> & <dbl> & <dbl> & <dbl> & <dbl>\\\\\n",
       "\\hline\n",
       "\t12 & 27.79443 & -13.89722 & 6.211931 & 25.78748 & 1.643416\\\\\n",
       "\\end{tabular}\n"
      ],
      "text/markdown": [
       "\n",
       "A data.frame: 1 × 5\n",
       "\n",
       "| <!--/--> | PSIS &lt;dbl&gt; | lppd &lt;dbl&gt; | penalty &lt;dbl&gt; | std_err &lt;dbl&gt; | k &lt;dbl&gt; |\n",
       "|---|---|---|---|---|---|\n",
       "| 12 | 27.79443 | -13.89722 | 6.211931 | 25.78748 | 1.643416 |\n",
       "\n"
      ],
      "text/plain": [
       "   PSIS     lppd      penalty  std_err  k       \n",
       "12 27.79443 -13.89722 6.211931 25.78748 1.643416"
      ]
     },
     "metadata": {},
     "output_type": "display_data"
    }
   ],
   "source": [
    "psis <- PSIS(m7h1_linear, func=PSIS, pointwise=T)\n",
    "troublesome_points <- psis[psis$k > 0.5,]\n",
    "troublesome_points"
   ]
  },
  {
   "cell_type": "code",
   "execution_count": 59,
   "metadata": {
    "vscode": {
     "languageId": "r"
    }
   },
   "outputs": [
    {
     "data": {
      "text/html": [
       "<table class=\"dataframe\">\n",
       "<caption>A compareIC: 2 × 6</caption>\n",
       "<thead>\n",
       "\t<tr><th></th><th scope=col>WAIC</th><th scope=col>SE</th><th scope=col>dWAIC</th><th scope=col>dSE</th><th scope=col>pWAIC</th><th scope=col>weight</th></tr>\n",
       "\t<tr><th></th><th scope=col>&lt;dbl&gt;</th><th scope=col>&lt;dbl&gt;</th><th scope=col>&lt;dbl&gt;</th><th scope=col>&lt;dbl&gt;</th><th scope=col>&lt;dbl&gt;</th><th scope=col>&lt;dbl&gt;</th></tr>\n",
       "</thead>\n",
       "<tbody>\n",
       "\t<tr><th scope=row>m7h1_quadratic_robust</th><td>70.79477</td><td>14.00644</td><td>0.000000</td><td>      NA</td><td>3.926756</td><td>0.8515489</td></tr>\n",
       "\t<tr><th scope=row>m7h1_linear_robust</th><td>74.28838</td><td>13.62210</td><td>3.493603</td><td>4.736511</td><td>3.725936</td><td>0.1484511</td></tr>\n",
       "</tbody>\n",
       "</table>\n"
      ],
      "text/latex": [
       "A compareIC: 2 × 6\n",
       "\\begin{tabular}{r|llllll}\n",
       "  & WAIC & SE & dWAIC & dSE & pWAIC & weight\\\\\n",
       "  & <dbl> & <dbl> & <dbl> & <dbl> & <dbl> & <dbl>\\\\\n",
       "\\hline\n",
       "\tm7h1\\_quadratic\\_robust & 70.79477 & 14.00644 & 0.000000 &       NA & 3.926756 & 0.8515489\\\\\n",
       "\tm7h1\\_linear\\_robust & 74.28838 & 13.62210 & 3.493603 & 4.736511 & 3.725936 & 0.1484511\\\\\n",
       "\\end{tabular}\n"
      ],
      "text/markdown": [
       "\n",
       "A compareIC: 2 × 6\n",
       "\n",
       "| <!--/--> | WAIC &lt;dbl&gt; | SE &lt;dbl&gt; | dWAIC &lt;dbl&gt; | dSE &lt;dbl&gt; | pWAIC &lt;dbl&gt; | weight &lt;dbl&gt; |\n",
       "|---|---|---|---|---|---|---|\n",
       "| m7h1_quadratic_robust | 70.79477 | 14.00644 | 0.000000 |       NA | 3.926756 | 0.8515489 |\n",
       "| m7h1_linear_robust | 74.28838 | 13.62210 | 3.493603 | 4.736511 | 3.725936 | 0.1484511 |\n",
       "\n"
      ],
      "text/plain": [
       "                      WAIC     SE       dWAIC    dSE      pWAIC    weight   \n",
       "m7h1_quadratic_robust 70.79477 14.00644 0.000000       NA 3.926756 0.8515489\n",
       "m7h1_linear_robust    74.28838 13.62210 3.493603 4.736511 3.725936 0.1484511"
      ]
     },
     "metadata": {},
     "output_type": "display_data"
    }
   ],
   "source": [
    "\n",
    "m7h1_linear_robust <- quap(\n",
    "    alist(\n",
    "        T ~ dstudent(2, mu, sigma),\n",
    "        mu <- a + b_R * R,\n",
    "        a ~ dnorm(0, 0.5),\n",
    "        b_R ~ dnorm(0, 0.5),\n",
    "        sigma ~ dexp(1)\n",
    "    ),\n",
    "    data=d\n",
    ")\n",
    "m7h1_quadratic_robust <- quap(\n",
    "    alist(\n",
    "        T ~ dstudent(2, mu, sigma),\n",
    "        mu <- a + b_R * R + b_R2 * R ^ 2,\n",
    "        a ~ dnorm(0, 0.5),\n",
    "        b_R ~ dnorm(0, 0.5),\n",
    "        b_R2 ~ dnorm(0, 0.5),\n",
    "        sigma ~ dexp(1)\n",
    "    ),\n",
    "    data=d\n",
    ")\n",
    "compare(m7h1_linear_robust, m7h1_quadratic_robust)"
   ]
  },
  {
   "attachments": {},
   "cell_type": "markdown",
   "metadata": {},
   "source": [
    "Again, the difference in the WAIC scores for each of the models is within one standard error - there still isn't really any strong support for one model over the other."
   ]
  },
  {
   "attachments": {},
   "cell_type": "markdown",
   "metadata": {},
   "source": [
    "### 7H3\n",
    "Consider three fictional Polynesian islands. On each there is a Royal Ornithologist charged by the king with surveying the bird population. They have each found the following proportions of 5 important bird species:\n",
    "\n",
    "|          | Species A | Species B | Species C | Species D | Species E |\n",
    "| ---      | ---       | ---       | ---       | ---       | ---       |\n",
    "| Island 1 | 0.2       | 0.2       | 0.2       | 0.2       | 0.2       |\n",
    "| Island 2 | 0.8       | 0.1       | 0.05      | 0.025     | 0.025     |\n",
    "| Island 3 | 0.05      | 0.15      | 0.7       | 0.05      | 0.05      |\n",
    "\n",
    "There are two parts to this. It isn't computationally tricky, but it is conceptually tricky.\n",
    "\n",
    "1. Compute the entropy of each island's bird distribution. Interpret these entropy values.\n",
    "1. Use each island's bird distribution to predict the other two. This means to compute the KL divergence of each island fom the others, treating each island as if it were a statistical model of the other islands. You should end up with 6 different KL divergence values. Which island predicts the others best? Why?"
   ]
  },
  {
   "cell_type": "code",
   "execution_count": 60,
   "metadata": {
    "vscode": {
     "languageId": "r"
    }
   },
   "outputs": [
    {
     "data": {
      "text/html": [
       "1.6094379124341"
      ],
      "text/latex": [
       "1.6094379124341"
      ],
      "text/markdown": [
       "1.6094379124341"
      ],
      "text/plain": [
       "[1] 1.609438"
      ]
     },
     "metadata": {},
     "output_type": "display_data"
    },
    {
     "data": {
      "text/html": [
       "0.743003936734169"
      ],
      "text/latex": [
       "0.743003936734169"
      ],
      "text/markdown": [
       "0.743003936734169"
      ],
      "text/plain": [
       "[1] 0.7430039"
      ]
     },
     "metadata": {},
     "output_type": "display_data"
    },
    {
     "data": {
      "text/html": [
       "0.983600299523093"
      ],
      "text/latex": [
       "0.983600299523093"
      ],
      "text/markdown": [
       "0.983600299523093"
      ],
      "text/plain": [
       "[1] 0.9836003"
      ]
     },
     "metadata": {},
     "output_type": "display_data"
    }
   ],
   "source": [
    "island_1 <- c(A=0.2, B=0.2, C=0.2, D=0.2, E=0.2)\n",
    "island_2 <- c(A=0.8, B=0.1, C=0.05, D=0.025, E=0.025)\n",
    "island_3 <- c(A=0.05, B=0.15, C=0.7, D=0.05, E=0.05)\n",
    "H(island_1)\n",
    "H(island_2)\n",
    "H(island_3)"
   ]
  },
  {
   "attachments": {},
   "cell_type": "markdown",
   "metadata": {},
   "source": [
    "From this, we can see that the first island has the most entropy, followed by the third and then the second. This has to do with how 'evenly' the probabilities are distributed. The first island has a high entropy because all outcomes are equally likely, while the third has a small concentration with birds C and B and island 2 has most of the weight on birds A and B, with only a bit left over for the rest."
   ]
  },
  {
   "cell_type": "code",
   "execution_count": 65,
   "metadata": {
    "vscode": {
     "languageId": "r"
    }
   },
   "outputs": [
    {
     "data": {
      "text/html": [
       "<table class=\"dataframe\">\n",
       "<caption>A data.frame: 3 × 5</caption>\n",
       "<thead>\n",
       "\t<tr><th scope=col>A</th><th scope=col>B</th><th scope=col>C</th><th scope=col>D</th><th scope=col>E</th></tr>\n",
       "\t<tr><th scope=col>&lt;dbl&gt;</th><th scope=col>&lt;dbl&gt;</th><th scope=col>&lt;dbl&gt;</th><th scope=col>&lt;dbl&gt;</th><th scope=col>&lt;dbl&gt;</th></tr>\n",
       "</thead>\n",
       "<tbody>\n",
       "\t<tr><td>0.20</td><td>0.20</td><td>0.20</td><td>0.200</td><td>0.200</td></tr>\n",
       "\t<tr><td>0.80</td><td>0.10</td><td>0.05</td><td>0.025</td><td>0.025</td></tr>\n",
       "\t<tr><td>0.05</td><td>0.15</td><td>0.70</td><td>0.050</td><td>0.050</td></tr>\n",
       "</tbody>\n",
       "</table>\n"
      ],
      "text/latex": [
       "A data.frame: 3 × 5\n",
       "\\begin{tabular}{lllll}\n",
       " A & B & C & D & E\\\\\n",
       " <dbl> & <dbl> & <dbl> & <dbl> & <dbl>\\\\\n",
       "\\hline\n",
       "\t 0.20 & 0.20 & 0.20 & 0.200 & 0.200\\\\\n",
       "\t 0.80 & 0.10 & 0.05 & 0.025 & 0.025\\\\\n",
       "\t 0.05 & 0.15 & 0.70 & 0.050 & 0.050\\\\\n",
       "\\end{tabular}\n"
      ],
      "text/markdown": [
       "\n",
       "A data.frame: 3 × 5\n",
       "\n",
       "| A &lt;dbl&gt; | B &lt;dbl&gt; | C &lt;dbl&gt; | D &lt;dbl&gt; | E &lt;dbl&gt; |\n",
       "|---|---|---|---|---|\n",
       "| 0.20 | 0.20 | 0.20 | 0.200 | 0.200 |\n",
       "| 0.80 | 0.10 | 0.05 | 0.025 | 0.025 |\n",
       "| 0.05 | 0.15 | 0.70 | 0.050 | 0.050 |\n",
       "\n"
      ],
      "text/plain": [
       "  A    B    C    D     E    \n",
       "1 0.20 0.20 0.20 0.200 0.200\n",
       "2 0.80 0.10 0.05 0.025 0.025\n",
       "3 0.05 0.15 0.70 0.050 0.050"
      ]
     },
     "metadata": {},
     "output_type": "display_data"
    }
   ],
   "source": [
    "D_KL <- function(p, q) sum(p * log(p / q))\n",
    "df <- rbind(\n",
    "    as.data.frame(t(island_1)),\n",
    "    as.data.frame(t(island_2)),\n",
    "    as.data.frame(t(island_3))\n",
    ")\n",
    "# df$Island <- c(\"Island 1\", \"Island 2\", \"Island 3\")\n",
    "df"
   ]
  },
  {
   "cell_type": "code",
   "execution_count": 68,
   "metadata": {
    "vscode": {
     "languageId": "r"
    }
   },
   "outputs": [
    {
     "name": "stdout",
     "output_type": "stream",
     "text": [
      "[1] \"Island 1 predicting island 2 0.970406052783923\"\n",
      "[1] \"Island 1 predicting island 3 0.638760437463217\"\n",
      "[1] \"Island 2 predicting island 1 0.866433975699932\"\n",
      "[1] \"Island 2 predicting island 3 2.01091424147225\"\n",
      "[1] \"Island 3 predicting island 1 0.625837612911007\"\n",
      "[1] \"Island 3 predicting island 2 1.83884517889091\"\n"
     ]
    }
   ],
   "source": [
    "for (i in 1:nrow(df)) {\n",
    "    for (j in 1:nrow(df)) {\n",
    "        if (i != j) {\n",
    "            print(paste(\"Island\", i, \"predicting island\", j, D_KL(df[i,], df[j,])))\n",
    "        }\n",
    "    }\n",
    "}"
   ]
  },
  {
   "attachments": {},
   "cell_type": "markdown",
   "metadata": {},
   "source": [
    "For prediction, we want a lower divergence. That means that Island 1, the one where all of the birds are equally present, does the best, with low scores for the other islands. The reason for this is that the predicting the other, unevenly distributed islands with the evenly distributed one results in less 'surprise' than going the other way. You can think of starting on, say, Island 2 as being very sure the most of the birds are going to be of type A, and then being surprised when that's not the case - you get a large divergence. This is akin to using a flat (uninformative) prior when calculating a posterior."
   ]
  },
  {
   "attachments": {},
   "cell_type": "markdown",
   "metadata": {},
   "source": [
    "### 7H4\n",
    "Recall the marriage, age, and happiness collider example from **Chapter 6**. Run models `m6.9` and `m6.10` again. Compare these models using WAIC or PSIS. Which model is expected to make better predictions? Which model provides the correct causal influence about the influence of age on happiness? Can you explain why the answers to these questions disagree?\n"
   ]
  },
  {
   "cell_type": "code",
   "execution_count": 69,
   "metadata": {
    "vscode": {
     "languageId": "r"
    }
   },
   "outputs": [],
   "source": [
    "# setting up the models\n",
    "d <- sim_happiness(seed=1977, N_years=1000)\n",
    "d2 <- d[d$age > 17,] # only adults\n",
    "d2$A <- (d2$age - 18) / (65 - 18)\n",
    "d2$mid <- d2$married + 1\n",
    "m6.9 <- quap(\n",
    "    alist(\n",
    "        happiness ~ dnorm(mu, sigma),\n",
    "        mu <- a[mid] + bA * A,\n",
    "        a[mid] ~ dnorm(0, 1),\n",
    "        bA ~ dnorm(0, 2),\n",
    "        sigma ~ dexp(1)\n",
    "    ),\n",
    "    data=d2\n",
    ")\n",
    "m6.10 <- quap(\n",
    "    alist(\n",
    "        happiness ~ dnorm(mu, sigma),\n",
    "        mu <- a + bA * A,\n",
    "        a ~ dnorm(0, 1),\n",
    "        bA ~ dnorm(0, 2),\n",
    "        sigma ~ dexp(1)\n",
    "    ),\n",
    "    data=d2\n",
    ")"
   ]
  },
  {
   "attachments": {},
   "cell_type": "markdown",
   "metadata": {},
   "source": [
    "Recall - m6.9 is the one that conditions on the collider (marriage), while 6.10 is the one that (correctly) doesn't do that."
   ]
  },
  {
   "cell_type": "code",
   "execution_count": 72,
   "metadata": {
    "vscode": {
     "languageId": "r"
    }
   },
   "outputs": [
    {
     "data": {
      "text/html": [
       "<table class=\"dataframe\">\n",
       "<caption>A compareIC: 2 × 6</caption>\n",
       "<thead>\n",
       "\t<tr><th></th><th scope=col>WAIC</th><th scope=col>SE</th><th scope=col>dWAIC</th><th scope=col>dSE</th><th scope=col>pWAIC</th><th scope=col>weight</th></tr>\n",
       "\t<tr><th></th><th scope=col>&lt;dbl&gt;</th><th scope=col>&lt;dbl&gt;</th><th scope=col>&lt;dbl&gt;</th><th scope=col>&lt;dbl&gt;</th><th scope=col>&lt;dbl&gt;</th><th scope=col>&lt;dbl&gt;</th></tr>\n",
       "</thead>\n",
       "<tbody>\n",
       "\t<tr><th scope=row>m6.9</th><td>2713.951</td><td>37.48632</td><td>  0.0000</td><td>      NA</td><td>3.724976</td><td>1.000000e+00</td></tr>\n",
       "\t<tr><th scope=row>m6.10</th><td>3102.189</td><td>27.85411</td><td>388.2388</td><td>35.29624</td><td>2.478987</td><td>4.954685e-85</td></tr>\n",
       "</tbody>\n",
       "</table>\n"
      ],
      "text/latex": [
       "A compareIC: 2 × 6\n",
       "\\begin{tabular}{r|llllll}\n",
       "  & WAIC & SE & dWAIC & dSE & pWAIC & weight\\\\\n",
       "  & <dbl> & <dbl> & <dbl> & <dbl> & <dbl> & <dbl>\\\\\n",
       "\\hline\n",
       "\tm6.9 & 2713.951 & 37.48632 &   0.0000 &       NA & 3.724976 & 1.000000e+00\\\\\n",
       "\tm6.10 & 3102.189 & 27.85411 & 388.2388 & 35.29624 & 2.478987 & 4.954685e-85\\\\\n",
       "\\end{tabular}\n"
      ],
      "text/markdown": [
       "\n",
       "A compareIC: 2 × 6\n",
       "\n",
       "| <!--/--> | WAIC &lt;dbl&gt; | SE &lt;dbl&gt; | dWAIC &lt;dbl&gt; | dSE &lt;dbl&gt; | pWAIC &lt;dbl&gt; | weight &lt;dbl&gt; |\n",
       "|---|---|---|---|---|---|---|\n",
       "| m6.9 | 2713.951 | 37.48632 |   0.0000 |       NA | 3.724976 | 1.000000e+00 |\n",
       "| m6.10 | 3102.189 | 27.85411 | 388.2388 | 35.29624 | 2.478987 | 4.954685e-85 |\n",
       "\n"
      ],
      "text/plain": [
       "      WAIC     SE       dWAIC    dSE      pWAIC    weight      \n",
       "m6.9  2713.951 37.48632   0.0000       NA 3.724976 1.000000e+00\n",
       "m6.10 3102.189 27.85411 388.2388 35.29624 2.478987 4.954685e-85"
      ]
     },
     "metadata": {},
     "output_type": "display_data"
    }
   ],
   "source": [
    "(comparison <- compare(m6.9, m6.10, func=WAIC))"
   ]
  },
  {
   "cell_type": "code",
   "execution_count": 73,
   "metadata": {
    "vscode": {
     "languageId": "r"
    }
   },
   "outputs": [
    {
     "data": {
      "image/png": "[encoded data removed]",
      "text/plain": [
       "plot without title"
      ]
     },
     "metadata": {
      "image/png": {
       "height": 420,
       "width": 420
      }
     },
     "output_type": "display_data"
    }
   ],
   "source": [
    "plot(comparison)"
   ]
  },
  {
   "cell_type": "code",
   "execution_count": 75,
   "metadata": {
    "vscode": {
     "languageId": "r"
    }
   },
   "outputs": [
    {
     "data": {
      "text/html": [
       "<style>\n",
       ".list-inline {list-style: none; margin:0; padding: 0}\n",
       ".list-inline>li {display: inline-block}\n",
       ".list-inline>li:not(:last-child)::after {content: \"\\00b7\"; padding: 0 .5ex}\n",
       "</style>\n",
       "<ol class=list-inline><li>296.468563229405</li><li>480.009034084895</li></ol>\n"
      ],
      "text/latex": [
       "\\begin{enumerate*}\n",
       "\\item 296.468563229405\n",
       "\\item 480.009034084895\n",
       "\\end{enumerate*}\n"
      ],
      "text/markdown": [
       "1. 296.468563229405\n",
       "2. 480.009034084895\n",
       "\n",
       "\n"
      ],
      "text/plain": [
       "[1] 296.4686 480.0090"
      ]
     },
     "metadata": {},
     "output_type": "display_data"
    }
   ],
   "source": [
    "# 99% (z=2.6) interval of the difference:\n",
    "comparison[2, \"dWAIC\"] + c(-1, 1) * 2.6 * comparison[2, \"dSE\"]"
   ]
  },
  {
   "attachments": {},
   "cell_type": "markdown",
   "metadata": {},
   "source": [
    "The actual WAIC score is right in this interval, so it's not easy to tell the models apart. That's OK though, because it's not what the question asked.\n",
    "\n",
    "We expect the model which incorporates the collider (fungus, `m6.9`) to provide slightly better predictions. However, `m6.10`, the one with the collider, is the one that's actually causally correct, which we know because we simulated the data. The reason for this discrepancy is because the collider, marriage status, is closely correlated to marriage and so does provide us with information. Thus, using it in the regression helps us to make better predictions (assuming nothing changes), despite that fact that it is causally incorrect."
   ]
  },
  {
   "attachments": {},
   "cell_type": "markdown",
   "metadata": {},
   "source": [
    "### 7H5\n",
    "Revisit the urban fox data, `data(foxes)`, from the **previous chapter's** practice problems. Use WAIC or PSIS based model comparisons on five different models, each using `weight` as the outcome, and containing these sets of predictor variables.\n",
    "\n",
    "1. `avgfood` + `groupsize` + `area`\n",
    "1. `avgfood` + `groupsize`\n",
    "1. `avgfood` + `area`\n",
    "1. `avgfood`\n",
    "1. `area`\n",
    "\n",
    "Can you explain the relative difference in WAIC scores, using the fox DAG from the **previous chapter**? Be sure to pay attention to the standard error of the score differences (`dSE`)"
   ]
  },
  {
   "cell_type": "code",
   "execution_count": 76,
   "metadata": {
    "vscode": {
     "languageId": "r"
    }
   },
   "outputs": [],
   "source": [
    "# setting up the models\n",
    "data(foxes)\n",
    "d <- data.frame(\n",
    "    group=foxes$group,\n",
    "    AvgFood=standardize(foxes$avgfood),\n",
    "    GroupSize=standardize(foxes$groupsize),\n",
    "    Area=standardize(foxes$area),\n",
    "    Weight=standardize(foxes$weight)\n",
    ")\n",
    "m.fox.avgfood.groupsize.area <- quap(\n",
    "    alist(\n",
    "        Weight ~ dnorm(mu, sigma),\n",
    "        mu <- a + bAvgFood * AvgFood + bGroupSize * GroupSize + bArea * Area,\n",
    "        a ~ dnorm(0, 0.5),\n",
    "        bAvgFood ~ dnorm(0, 0.5),\n",
    "        bGroupSize ~ dnorm(0, 0.5),\n",
    "        bArea ~ dnorm(0, 0.5),\n",
    "        sigma ~ dexp(1)\n",
    "    ),\n",
    "    data=d\n",
    ")\n",
    "m.fox.avgfood.groupsize <- quap(\n",
    "    alist(\n",
    "        Weight ~ dnorm(mu, sigma),\n",
    "        mu <- a + bAvgFood * AvgFood + bGroupSize * GroupSize,\n",
    "        a ~ dnorm(0, 0.5),\n",
    "        bAvgFood ~ dnorm(0, 0.5),\n",
    "        bGroupSize ~ dnorm(0, 0.5),\n",
    "        sigma ~ dexp(1)\n",
    "    ),\n",
    "    data=d\n",
    ")\n",
    "m.fox.groupsize.area <- quap(\n",
    "    alist(\n",
    "        Weight ~ dnorm(mu, sigma),\n",
    "        mu <- a + bGroupSize * GroupSize + bArea * Area,\n",
    "        a ~ dnorm(0, 0.5),\n",
    "        bGroupSize ~ dnorm(0, 0.5),\n",
    "        bArea ~ dnorm(0, 0.5),\n",
    "        sigma ~ dexp(1)\n",
    "    ),\n",
    "    data=d\n",
    ")\n",
    "m.fox.avgfood <- quap(\n",
    "    alist(\n",
    "        Weight ~ dnorm(mu, sigma),\n",
    "        mu <- a + bAvgFood * AvgFood,\n",
    "        a ~ dnorm(0, 0.5),\n",
    "        bAvgFood ~ dnorm(0, 0.5),\n",
    "        sigma ~ dexp(1)\n",
    "    ),\n",
    "    data=d\n",
    ")\n",
    "m.fox.area <- quap(\n",
    "    alist(\n",
    "        Weight ~ dnorm(mu, sigma),\n",
    "        mu <- a + bArea * Area,\n",
    "        a ~ dnorm(0, 0.5),\n",
    "        bArea ~ dnorm(0, 0.5),\n",
    "        sigma ~ dexp(1)\n",
    "    ),\n",
    "    data=d\n",
    ")"
   ]
  },
  {
   "cell_type": "code",
   "execution_count": 78,
   "metadata": {
    "vscode": {
     "languageId": "r"
    }
   },
   "outputs": [
    {
     "data": {
      "text/html": [
       "<table class=\"dataframe\">\n",
       "<caption>A compareIC: 5 × 6</caption>\n",
       "<thead>\n",
       "\t<tr><th></th><th scope=col>WAIC</th><th scope=col>SE</th><th scope=col>dWAIC</th><th scope=col>dSE</th><th scope=col>pWAIC</th><th scope=col>weight</th></tr>\n",
       "\t<tr><th></th><th scope=col>&lt;dbl&gt;</th><th scope=col>&lt;dbl&gt;</th><th scope=col>&lt;dbl&gt;</th><th scope=col>&lt;dbl&gt;</th><th scope=col>&lt;dbl&gt;</th><th scope=col>&lt;dbl&gt;</th></tr>\n",
       "</thead>\n",
       "<tbody>\n",
       "\t<tr><th scope=row>m.fox.avgfood.groupsize.area</th><td>323.0847</td><td>16.27831</td><td> 0.0000000</td><td>      NA</td><td>4.781777</td><td>0.45074754</td></tr>\n",
       "\t<tr><th scope=row>m.fox.avgfood.groupsize</th><td>323.9037</td><td>16.00341</td><td> 0.8189401</td><td>3.507322</td><td>3.717190</td><td>0.29929728</td></tr>\n",
       "\t<tr><th scope=row>m.fox.groupsize.area</th><td>324.2980</td><td>15.78347</td><td> 1.2133167</td><td>2.957211</td><td>3.956064</td><td>0.24573386</td></tr>\n",
       "\t<tr><th scope=row>m.fox.avgfood</th><td>333.6742</td><td>13.84854</td><td>10.5894666</td><td>7.178958</td><td>2.530041</td><td>0.00226183</td></tr>\n",
       "\t<tr><th scope=row>m.fox.area</th><td>333.9612</td><td>13.80582</td><td>10.8764461</td><td>7.242307</td><td>2.765655</td><td>0.00195949</td></tr>\n",
       "</tbody>\n",
       "</table>\n"
      ],
      "text/latex": [
       "A compareIC: 5 × 6\n",
       "\\begin{tabular}{r|llllll}\n",
       "  & WAIC & SE & dWAIC & dSE & pWAIC & weight\\\\\n",
       "  & <dbl> & <dbl> & <dbl> & <dbl> & <dbl> & <dbl>\\\\\n",
       "\\hline\n",
       "\tm.fox.avgfood.groupsize.area & 323.0847 & 16.27831 &  0.0000000 &       NA & 4.781777 & 0.45074754\\\\\n",
       "\tm.fox.avgfood.groupsize & 323.9037 & 16.00341 &  0.8189401 & 3.507322 & 3.717190 & 0.29929728\\\\\n",
       "\tm.fox.groupsize.area & 324.2980 & 15.78347 &  1.2133167 & 2.957211 & 3.956064 & 0.24573386\\\\\n",
       "\tm.fox.avgfood & 333.6742 & 13.84854 & 10.5894666 & 7.178958 & 2.530041 & 0.00226183\\\\\n",
       "\tm.fox.area & 333.9612 & 13.80582 & 10.8764461 & 7.242307 & 2.765655 & 0.00195949\\\\\n",
       "\\end{tabular}\n"
      ],
      "text/markdown": [
       "\n",
       "A compareIC: 5 × 6\n",
       "\n",
       "| <!--/--> | WAIC &lt;dbl&gt; | SE &lt;dbl&gt; | dWAIC &lt;dbl&gt; | dSE &lt;dbl&gt; | pWAIC &lt;dbl&gt; | weight &lt;dbl&gt; |\n",
       "|---|---|---|---|---|---|---|\n",
       "| m.fox.avgfood.groupsize.area | 323.0847 | 16.27831 |  0.0000000 |       NA | 4.781777 | 0.45074754 |\n",
       "| m.fox.avgfood.groupsize | 323.9037 | 16.00341 |  0.8189401 | 3.507322 | 3.717190 | 0.29929728 |\n",
       "| m.fox.groupsize.area | 324.2980 | 15.78347 |  1.2133167 | 2.957211 | 3.956064 | 0.24573386 |\n",
       "| m.fox.avgfood | 333.6742 | 13.84854 | 10.5894666 | 7.178958 | 2.530041 | 0.00226183 |\n",
       "| m.fox.area | 333.9612 | 13.80582 | 10.8764461 | 7.242307 | 2.765655 | 0.00195949 |\n",
       "\n"
      ],
      "text/plain": [
       "                             WAIC     SE       dWAIC      dSE      pWAIC   \n",
       "m.fox.avgfood.groupsize.area 323.0847 16.27831  0.0000000       NA 4.781777\n",
       "m.fox.avgfood.groupsize      323.9037 16.00341  0.8189401 3.507322 3.717190\n",
       "m.fox.groupsize.area         324.2980 15.78347  1.2133167 2.957211 3.956064\n",
       "m.fox.avgfood                333.6742 13.84854 10.5894666 7.178958 2.530041\n",
       "m.fox.area                   333.9612 13.80582 10.8764461 7.242307 2.765655\n",
       "                             weight    \n",
       "m.fox.avgfood.groupsize.area 0.45074754\n",
       "m.fox.avgfood.groupsize      0.29929728\n",
       "m.fox.groupsize.area         0.24573386\n",
       "m.fox.avgfood                0.00226183\n",
       "m.fox.area                   0.00195949"
      ]
     },
     "metadata": {},
     "output_type": "display_data"
    }
   ],
   "source": [
    "(comparison <- compare(m.fox.avgfood.groupsize.area, m.fox.avgfood.groupsize, m.fox.groupsize.area, m.fox.avgfood, m.fox.area, func=WAIC))"
   ]
  },
  {
   "cell_type": "code",
   "execution_count": 79,
   "metadata": {
    "vscode": {
     "languageId": "r"
    }
   },
   "outputs": [
    {
     "data": {
      "text/html": [
       "<table class=\"dataframe\">\n",
       "<caption>A matrix: 5 × 5 of type dbl</caption>\n",
       "<thead>\n",
       "\t<tr><th></th><th scope=col>m.fox.avgfood.groupsize.area</th><th scope=col>m.fox.avgfood.groupsize</th><th scope=col>m.fox.groupsize.area</th><th scope=col>m.fox.avgfood</th><th scope=col>m.fox.area</th></tr>\n",
       "</thead>\n",
       "<tbody>\n",
       "\t<tr><th scope=row>m.fox.avgfood.groupsize.area</th><td>      NA</td><td>3.507322</td><td>2.957211</td><td>7.1789585</td><td>7.2423066</td></tr>\n",
       "\t<tr><th scope=row>m.fox.avgfood.groupsize</th><td>3.507322</td><td>      NA</td><td>5.776145</td><td>6.5273772</td><td>6.7556780</td></tr>\n",
       "\t<tr><th scope=row>m.fox.groupsize.area</th><td>2.957211</td><td>5.776145</td><td>      NA</td><td>6.5525907</td><td>6.6146053</td></tr>\n",
       "\t<tr><th scope=row>m.fox.avgfood</th><td>7.178958</td><td>6.527377</td><td>6.552591</td><td>       NA</td><td>0.9498257</td></tr>\n",
       "\t<tr><th scope=row>m.fox.area</th><td>7.242307</td><td>6.755678</td><td>6.614605</td><td>0.9498257</td><td>       NA</td></tr>\n",
       "</tbody>\n",
       "</table>\n"
      ],
      "text/latex": [
       "A matrix: 5 × 5 of type dbl\n",
       "\\begin{tabular}{r|lllll}\n",
       "  & m.fox.avgfood.groupsize.area & m.fox.avgfood.groupsize & m.fox.groupsize.area & m.fox.avgfood & m.fox.area\\\\\n",
       "\\hline\n",
       "\tm.fox.avgfood.groupsize.area &       NA & 3.507322 & 2.957211 & 7.1789585 & 7.2423066\\\\\n",
       "\tm.fox.avgfood.groupsize & 3.507322 &       NA & 5.776145 & 6.5273772 & 6.7556780\\\\\n",
       "\tm.fox.groupsize.area & 2.957211 & 5.776145 &       NA & 6.5525907 & 6.6146053\\\\\n",
       "\tm.fox.avgfood & 7.178958 & 6.527377 & 6.552591 &        NA & 0.9498257\\\\\n",
       "\tm.fox.area & 7.242307 & 6.755678 & 6.614605 & 0.9498257 &        NA\\\\\n",
       "\\end{tabular}\n"
      ],
      "text/markdown": [
       "\n",
       "A matrix: 5 × 5 of type dbl\n",
       "\n",
       "| <!--/--> | m.fox.avgfood.groupsize.area | m.fox.avgfood.groupsize | m.fox.groupsize.area | m.fox.avgfood | m.fox.area |\n",
       "|---|---|---|---|---|---|\n",
       "| m.fox.avgfood.groupsize.area |       NA | 3.507322 | 2.957211 | 7.1789585 | 7.2423066 |\n",
       "| m.fox.avgfood.groupsize | 3.507322 |       NA | 5.776145 | 6.5273772 | 6.7556780 |\n",
       "| m.fox.groupsize.area | 2.957211 | 5.776145 |       NA | 6.5525907 | 6.6146053 |\n",
       "| m.fox.avgfood | 7.178958 | 6.527377 | 6.552591 |        NA | 0.9498257 |\n",
       "| m.fox.area | 7.242307 | 6.755678 | 6.614605 | 0.9498257 |        NA |\n",
       "\n"
      ],
      "text/plain": [
       "                             m.fox.avgfood.groupsize.area\n",
       "m.fox.avgfood.groupsize.area       NA                    \n",
       "m.fox.avgfood.groupsize      3.507322                    \n",
       "m.fox.groupsize.area         2.957211                    \n",
       "m.fox.avgfood                7.178958                    \n",
       "m.fox.area                   7.242307                    \n",
       "                             m.fox.avgfood.groupsize m.fox.groupsize.area\n",
       "m.fox.avgfood.groupsize.area 3.507322                2.957211            \n",
       "m.fox.avgfood.groupsize            NA                5.776145            \n",
       "m.fox.groupsize.area         5.776145                      NA            \n",
       "m.fox.avgfood                6.527377                6.552591            \n",
       "m.fox.area                   6.755678                6.614605            \n",
       "                             m.fox.avgfood m.fox.area\n",
       "m.fox.avgfood.groupsize.area 7.1789585     7.2423066 \n",
       "m.fox.avgfood.groupsize      6.5273772     6.7556780 \n",
       "m.fox.groupsize.area         6.5525907     6.6146053 \n",
       "m.fox.avgfood                       NA     0.9498257 \n",
       "m.fox.area                   0.9498257            NA "
      ]
     },
     "metadata": {},
     "output_type": "display_data"
    }
   ],
   "source": [
    "comparison @ dSE"
   ]
  },
  {
   "cell_type": "code",
   "execution_count": 82,
   "metadata": {
    "vscode": {
     "languageId": "r"
    }
   },
   "outputs": [
    {
     "data": {
      "image/png": "[encoded data removed]",
      "text/plain": [
       "plot without title"
      ]
     },
     "metadata": {
      "image/png": {
       "height": 420,
       "width": 420
      }
     },
     "output_type": "display_data"
    }
   ],
   "source": [
    "plot(comparison)"
   ]
  },
  {
   "attachments": {},
   "cell_type": "markdown",
   "metadata": {},
   "source": [
    "So it looks like the models are not that different from each other. However, there seem to be two different classes: the ones that include the groupsize, and the ones that don't. The ones that don't include the groupsize have a higher WAIC (deviance). Looking at the DAG gives us a clue:"
   ]
  },
  {
   "cell_type": "code",
   "execution_count": 81,
   "metadata": {
    "vscode": {
     "languageId": "r"
    }
   },
   "outputs": [
    {
     "data": {
      "image/png": "[encoded data removed]",
      "text/plain": [
       "plot without title"
      ]
     },
     "metadata": {
      "image/png": {
       "height": 420,
       "width": 420
      }
     },
     "output_type": "display_data"
    }
   ],
   "source": [
    "\n",
    "fox_dag <- dagitty('dag{\n",
    "avgfood[pos=\"0,0\"]\n",
    "area[pos=\"1,-1\"]\n",
    "weight[pos=\"1,1\"]\n",
    "groupsize[pos=\"2,0\"]\n",
    "area -> avgfood -> groupsize -> weight <- avgfood\n",
    "}')\n",
    "drawdag(fox_dag)"
   ]
  },
  {
   "attachments": {},
   "cell_type": "markdown",
   "metadata": {},
   "source": [
    "From the previous chapter's work, we see that only groupsize has an influence on the weight. Thus, in our case, the models that include it do bettern than the ones that don't. This is a very interesting use of model comparison, because it told us the same thing as our previous work: models with the groupsize do better than those without it, leading us to conclude that the groupsize is the only variable with a significant (causal) impact on the weight."
   ]
  }
 ],
 "metadata": {
  "kernelspec": {
   "display_name": "R",
   "language": "R",
   "name": "ir"
  },
  "language_info": {
   "codemirror_mode": "r",
   "file_extension": ".r",
   "mimetype": "text/x-r-source",
   "name": "R",
   "pygments_lexer": "r",
   "version": "4.1.2"
  },
  "orig_nbformat": 4
 },
 "nbformat": 4,
 "nbformat_minor": 2
}
