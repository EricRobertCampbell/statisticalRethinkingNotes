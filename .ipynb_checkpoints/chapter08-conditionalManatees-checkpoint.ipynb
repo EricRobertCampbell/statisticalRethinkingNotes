{
 "cells": [
  {
   "attachments": {},
   "cell_type": "markdown",
   "metadata": {},
   "source": [
    "# Chapter 8 - Conditional Manatees\n",
    "\n",
    "Lots of manatees have scars from boat propeller. Similarly, lots of WWII bombers that came back had holes from artillery or whatnot. In both cases, we'd like to reduce them damage. Naively, we should put propeller guards on boats and improve the armour where we find lots of holes.\n",
    "\n",
    "In both cases, this is misleading.\n",
    "\n",
    "Autopsies of manatees show that it is collisions with the blunt parts of boats (e.g. keel) that cause the most deaths. Similarly, you should increase the armour on the sections of the plane that *don't* show damage, because any of the hits there result in the plane not returning.\n",
    "\n",
    "In both cases the evidence is misleading because it is conditional on *survival*.\n",
    "\n",
    "**Conditioning** is one of te most important principles of statistical inference. Data are conditional on how they got into our sample! All model-based inference is conditional on the model!\n",
    "\n",
    "Our models so far assume a degree of independence - we don't have a way to ask about, say, the effect of milk energy on brain size conditional on taxonomic group.\n",
    "\n",
    "To model deeper conditionality - where one *predictor* depends on another *predictor* - we need **interaction** (aka **moderation**). This is a way of alloweing parameters (or more specifically, their posterior distributions) to be conditional on other aspects of the data.\n",
    "\n",
    "More complex models (Generalized Linear Models, Multilevel models) all depend on interactions. In this chapter, we'll look at a simple example to get a feel for the idea.\n",
    "\n",
    "## Building an Interaction\n",
    "\n",
    "For most countries, the ruggedness of the terrain is negatively associated with log GDP. However, in Africa it is the opposite. There may be some causal reason for this - for instance, more rugged countries were more protected from the slave trade.\n",
    "\n",
    "The DAG for this could look as follows:"
   ]
  },
  {
   "cell_type": "code",
   "execution_count": 23,
   "metadata": {
    "vscode": {
     "languageId": "r"
    }
   },
   "outputs": [],
   "source": [
    "library('ggplot2')\n",
    "library('rethinking')\n",
    "library('dagitty')"
   ]
  },
  {
   "cell_type": "code",
   "execution_count": 24,
   "metadata": {
    "vscode": {
     "languageId": "r"
    }
   },
   "outputs": [
    {
     "data": {
      "image/png": "[encoded data removed]",
      "text/plain": [
       "plot without title"
      ]
     },
     "metadata": {
      "image/png": {
       "height": 420,
       "width": 420
      }
     },
     "output_type": "display_data"
    }
   ],
   "source": [
    "dag <- dagitty('dag{\n",
    "    U [latent, pos=\"0,0\"]\n",
    "    R [pos=\"-1,-1\"]\n",
    "    G [pos=\"0,-1\"]\n",
    "    C [pos=\"1,-1\"]\n",
    "    U -> R -> G <- C\n",
    "    U -> G\n",
    "}')\n",
    "drawdag(dag)"
   ]
  },
  {
   "attachments": {},
   "cell_type": "markdown",
   "metadata": {
    "vscode": {
     "languageId": "r"
    }
   },
   "source": [
    "where\n",
    "- $R$ is the ruggedness\n",
    "- $G$ is GPD\n",
    "- $C$ is the continent\n",
    "- $U$ is some unobserved confounds like distance to the coast\n",
    "\n",
    "We'll ignore $U$ for now.\n",
    "\n",
    "The implication of this DAG is that $R$ and $C$ both affect $G$. They could do so independently or they could interact (one moderates the influence of the other). The DAG doesn't actually specify - it just says that $C = f(R, C)$; it doesn't specify the shape of the function.\n",
    "\n",
    "So how can we make a model that produces the conditionality (ruggedness is negatively associated with GDP outside of Africa but is positively associated within it)?\n",
    "\n",
    "We could split the dataframe into two: one for Africa and one for the rest of the world. That's a bad idea for a few reasons.\n",
    "1. Some parameters, such as $\\sigma$, don't (or shouldn't) depend on the continued. By splitting, you hurt the accuracy of the prediction of these parameters by essentially creating two less-ccurate estimates instead of one more-accurate one.\n",
    "1. In rder to acquire probability statements about the variable we used to split (`cont_africa`), we need to include it in the model. But now, since we split on it, we can't assess any uncertainy about the predictive value of distinguishing between African and non-African countries.\n",
    "1. We may want to use information criteria to assess the different models. We can only do that if the different models were trained on the same data, which would not be the case if we split this into two data frames\n",
    "1. Once we start to use multilevel models, it turns out that there are advantages to 'borrowing' information across categories (like 'Africa' and 'not Africa'). This is especially true when sample sizes vary across categories, such that overfitting risk is higher within some categories.\n",
    "\n",
    "### Making a rugged model\n",
    "\n",
    "We'll start with a single model, ignoring continent."
   ]
  },
  {
   "cell_type": "code",
   "execution_count": 25,
   "metadata": {
    "vscode": {
     "languageId": "r"
    }
   },
   "outputs": [
    {
     "name": "stderr",
     "output_type": "stream",
     "text": [
      "Warning message in mean.default(dd$log_gpd):\n",
      "“argument is not numeric or logical: returning NA”\n"
     ]
    },
    {
     "data": {
      "text/html": [
       "<table class=\"dataframe\">\n",
       "<caption>A data.frame: 6 × 54</caption>\n",
       "<thead>\n",
       "\t<tr><th></th><th scope=col>isocode</th><th scope=col>isonum</th><th scope=col>country</th><th scope=col>rugged</th><th scope=col>rugged_popw</th><th scope=col>rugged_slope</th><th scope=col>rugged_lsd</th><th scope=col>rugged_pc</th><th scope=col>land_area</th><th scope=col>lat</th><th scope=col>⋯</th><th scope=col>slave_exports</th><th scope=col>dist_slavemkt_atlantic</th><th scope=col>dist_slavemkt_indian</th><th scope=col>dist_slavemkt_saharan</th><th scope=col>dist_slavemkt_redsea</th><th scope=col>pop_1400</th><th scope=col>european_descent</th><th scope=col>log_gdp</th><th scope=col>log_gdp_std</th><th scope=col>rugged_std</th></tr>\n",
       "\t<tr><th></th><th scope=col>&lt;fct&gt;</th><th scope=col>&lt;int&gt;</th><th scope=col>&lt;fct&gt;</th><th scope=col>&lt;dbl&gt;</th><th scope=col>&lt;dbl&gt;</th><th scope=col>&lt;dbl&gt;</th><th scope=col>&lt;dbl&gt;</th><th scope=col>&lt;dbl&gt;</th><th scope=col>&lt;dbl&gt;</th><th scope=col>&lt;dbl&gt;</th><th scope=col>⋯</th><th scope=col>&lt;dbl&gt;</th><th scope=col>&lt;dbl&gt;</th><th scope=col>&lt;dbl&gt;</th><th scope=col>&lt;dbl&gt;</th><th scope=col>&lt;dbl&gt;</th><th scope=col>&lt;int&gt;</th><th scope=col>&lt;dbl&gt;</th><th scope=col>&lt;dbl&gt;</th><th scope=col>&lt;dbl&gt;</th><th scope=col>&lt;dbl&gt;</th></tr>\n",
       "</thead>\n",
       "<tbody>\n",
       "\t<tr><th scope=row>3</th><td>AGO</td><td> 24</td><td>Angola              </td><td>0.858</td><td>0.714</td><td> 2.274</td><td>0.228</td><td> 4.906</td><td>124670</td><td>-12.299</td><td>⋯</td><td>3610000</td><td>5.669</td><td>6.981</td><td>4.926</td><td>3.872</td><td>1223208</td><td>  2.000</td><td>7.492609</td><td>NA</td><td>0.1383424702</td></tr>\n",
       "\t<tr><th scope=row>5</th><td>ALB</td><td>  8</td><td>Albania             </td><td>3.427</td><td>1.597</td><td>10.451</td><td>1.006</td><td>62.133</td><td>  2740</td><td> 41.143</td><td>⋯</td><td>      0</td><td>   NA</td><td>   NA</td><td>   NA</td><td>   NA</td><td> 200000</td><td>100.000</td><td>8.216929</td><td>NA</td><td>0.5525636891</td></tr>\n",
       "\t<tr><th scope=row>8</th><td>ARE</td><td>784</td><td>United Arab Emirates</td><td>0.769</td><td>0.316</td><td> 2.112</td><td>0.191</td><td> 6.142</td><td>  8360</td><td> 23.913</td><td>⋯</td><td>      0</td><td>   NA</td><td>   NA</td><td>   NA</td><td>   NA</td><td>  19200</td><td>  0.000</td><td>9.933263</td><td>NA</td><td>0.1239922606</td></tr>\n",
       "\t<tr><th scope=row>9</th><td>ARG</td><td> 32</td><td>Argentina           </td><td>0.775</td><td>0.220</td><td> 2.268</td><td>0.226</td><td> 9.407</td><td>273669</td><td>-35.396</td><td>⋯</td><td>      0</td><td>   NA</td><td>   NA</td><td>   NA</td><td>   NA</td><td> 276632</td><td> 89.889</td><td>9.407032</td><td>NA</td><td>0.1249596904</td></tr>\n",
       "\t<tr><th scope=row>10</th><td>ARM</td><td> 51</td><td>Armenia             </td><td>2.688</td><td>0.934</td><td> 8.178</td><td>0.799</td><td>50.556</td><td>  2820</td><td> 40.294</td><td>⋯</td><td>      0</td><td>   NA</td><td>   NA</td><td>   NA</td><td>   NA</td><td> 105743</td><td>  0.500</td><td>7.792343</td><td>NA</td><td>0.4334085779</td></tr>\n",
       "\t<tr><th scope=row>12</th><td>ATG</td><td> 28</td><td>Antigua and Barbuda </td><td>0.006</td><td>0.003</td><td> 0.012</td><td>0.003</td><td> 0.000</td><td>    44</td><td> 17.271</td><td>⋯</td><td>      0</td><td>   NA</td><td>   NA</td><td>   NA</td><td>   NA</td><td>    747</td><td>     NA</td><td>9.212541</td><td>NA</td><td>0.0009674299</td></tr>\n",
       "</tbody>\n",
       "</table>\n"
      ],
      "text/latex": [
       "A data.frame: 6 × 54\n",
       "\\begin{tabular}{r|lllllllllllllllllllll}\n",
       "  & isocode & isonum & country & rugged & rugged\\_popw & rugged\\_slope & rugged\\_lsd & rugged\\_pc & land\\_area & lat & ⋯ & slave\\_exports & dist\\_slavemkt\\_atlantic & dist\\_slavemkt\\_indian & dist\\_slavemkt\\_saharan & dist\\_slavemkt\\_redsea & pop\\_1400 & european\\_descent & log\\_gdp & log\\_gdp\\_std & rugged\\_std\\\\\n",
       "  & <fct> & <int> & <fct> & <dbl> & <dbl> & <dbl> & <dbl> & <dbl> & <dbl> & <dbl> & ⋯ & <dbl> & <dbl> & <dbl> & <dbl> & <dbl> & <int> & <dbl> & <dbl> & <dbl> & <dbl>\\\\\n",
       "\\hline\n",
       "\t3 & AGO &  24 & Angola               & 0.858 & 0.714 &  2.274 & 0.228 &  4.906 & 124670 & -12.299 & ⋯ & 3610000 & 5.669 & 6.981 & 4.926 & 3.872 & 1223208 &   2.000 & 7.492609 & NA & 0.1383424702\\\\\n",
       "\t5 & ALB &   8 & Albania              & 3.427 & 1.597 & 10.451 & 1.006 & 62.133 &   2740 &  41.143 & ⋯ &       0 &    NA &    NA &    NA &    NA &  200000 & 100.000 & 8.216929 & NA & 0.5525636891\\\\\n",
       "\t8 & ARE & 784 & United Arab Emirates & 0.769 & 0.316 &  2.112 & 0.191 &  6.142 &   8360 &  23.913 & ⋯ &       0 &    NA &    NA &    NA &    NA &   19200 &   0.000 & 9.933263 & NA & 0.1239922606\\\\\n",
       "\t9 & ARG &  32 & Argentina            & 0.775 & 0.220 &  2.268 & 0.226 &  9.407 & 273669 & -35.396 & ⋯ &       0 &    NA &    NA &    NA &    NA &  276632 &  89.889 & 9.407032 & NA & 0.1249596904\\\\\n",
       "\t10 & ARM &  51 & Armenia              & 2.688 & 0.934 &  8.178 & 0.799 & 50.556 &   2820 &  40.294 & ⋯ &       0 &    NA &    NA &    NA &    NA &  105743 &   0.500 & 7.792343 & NA & 0.4334085779\\\\\n",
       "\t12 & ATG &  28 & Antigua and Barbuda  & 0.006 & 0.003 &  0.012 & 0.003 &  0.000 &     44 &  17.271 & ⋯ &       0 &    NA &    NA &    NA &    NA &     747 &      NA & 9.212541 & NA & 0.0009674299\\\\\n",
       "\\end{tabular}\n"
      ],
      "text/markdown": [
       "\n",
       "A data.frame: 6 × 54\n",
       "\n",
       "| <!--/--> | isocode &lt;fct&gt; | isonum &lt;int&gt; | country &lt;fct&gt; | rugged &lt;dbl&gt; | rugged_popw &lt;dbl&gt; | rugged_slope &lt;dbl&gt; | rugged_lsd &lt;dbl&gt; | rugged_pc &lt;dbl&gt; | land_area &lt;dbl&gt; | lat &lt;dbl&gt; | ⋯ ⋯ | slave_exports &lt;dbl&gt; | dist_slavemkt_atlantic &lt;dbl&gt; | dist_slavemkt_indian &lt;dbl&gt; | dist_slavemkt_saharan &lt;dbl&gt; | dist_slavemkt_redsea &lt;dbl&gt; | pop_1400 &lt;int&gt; | european_descent &lt;dbl&gt; | log_gdp &lt;dbl&gt; | log_gdp_std &lt;dbl&gt; | rugged_std &lt;dbl&gt; |\n",
       "|---|---|---|---|---|---|---|---|---|---|---|---|---|---|---|---|---|---|---|---|---|---|\n",
       "| 3 | AGO |  24 | Angola               | 0.858 | 0.714 |  2.274 | 0.228 |  4.906 | 124670 | -12.299 | ⋯ | 3610000 | 5.669 | 6.981 | 4.926 | 3.872 | 1223208 |   2.000 | 7.492609 | NA | 0.1383424702 |\n",
       "| 5 | ALB |   8 | Albania              | 3.427 | 1.597 | 10.451 | 1.006 | 62.133 |   2740 |  41.143 | ⋯ |       0 |    NA |    NA |    NA |    NA |  200000 | 100.000 | 8.216929 | NA | 0.5525636891 |\n",
       "| 8 | ARE | 784 | United Arab Emirates | 0.769 | 0.316 |  2.112 | 0.191 |  6.142 |   8360 |  23.913 | ⋯ |       0 |    NA |    NA |    NA |    NA |   19200 |   0.000 | 9.933263 | NA | 0.1239922606 |\n",
       "| 9 | ARG |  32 | Argentina            | 0.775 | 0.220 |  2.268 | 0.226 |  9.407 | 273669 | -35.396 | ⋯ |       0 |    NA |    NA |    NA |    NA |  276632 |  89.889 | 9.407032 | NA | 0.1249596904 |\n",
       "| 10 | ARM |  51 | Armenia              | 2.688 | 0.934 |  8.178 | 0.799 | 50.556 |   2820 |  40.294 | ⋯ |       0 |    NA |    NA |    NA |    NA |  105743 |   0.500 | 7.792343 | NA | 0.4334085779 |\n",
       "| 12 | ATG |  28 | Antigua and Barbuda  | 0.006 | 0.003 |  0.012 | 0.003 |  0.000 |     44 |  17.271 | ⋯ |       0 |    NA |    NA |    NA |    NA |     747 |      NA | 9.212541 | NA | 0.0009674299 |\n",
       "\n"
      ],
      "text/plain": [
       "   isocode isonum country              rugged rugged_popw rugged_slope\n",
       "3  AGO      24    Angola               0.858  0.714        2.274      \n",
       "5  ALB       8    Albania              3.427  1.597       10.451      \n",
       "8  ARE     784    United Arab Emirates 0.769  0.316        2.112      \n",
       "9  ARG      32    Argentina            0.775  0.220        2.268      \n",
       "10 ARM      51    Armenia              2.688  0.934        8.178      \n",
       "12 ATG      28    Antigua and Barbuda  0.006  0.003        0.012      \n",
       "   rugged_lsd rugged_pc land_area lat     ⋯ slave_exports\n",
       "3  0.228       4.906    124670    -12.299 ⋯ 3610000      \n",
       "5  1.006      62.133      2740     41.143 ⋯       0      \n",
       "8  0.191       6.142      8360     23.913 ⋯       0      \n",
       "9  0.226       9.407    273669    -35.396 ⋯       0      \n",
       "10 0.799      50.556      2820     40.294 ⋯       0      \n",
       "12 0.003       0.000        44     17.271 ⋯       0      \n",
       "   dist_slavemkt_atlantic dist_slavemkt_indian dist_slavemkt_saharan\n",
       "3  5.669                  6.981                4.926                \n",
       "5     NA                     NA                   NA                \n",
       "8     NA                     NA                   NA                \n",
       "9     NA                     NA                   NA                \n",
       "10    NA                     NA                   NA                \n",
       "12    NA                     NA                   NA                \n",
       "   dist_slavemkt_redsea pop_1400 european_descent log_gdp  log_gdp_std\n",
       "3  3.872                1223208    2.000          7.492609 NA         \n",
       "5     NA                 200000  100.000          8.216929 NA         \n",
       "8     NA                  19200    0.000          9.933263 NA         \n",
       "9     NA                 276632   89.889          9.407032 NA         \n",
       "10    NA                 105743    0.500          7.792343 NA         \n",
       "12    NA                    747       NA          9.212541 NA         \n",
       "   rugged_std  \n",
       "3  0.1383424702\n",
       "5  0.5525636891\n",
       "8  0.1239922606\n",
       "9  0.1249596904\n",
       "10 0.4334085779\n",
       "12 0.0009674299"
      ]
     },
     "metadata": {},
     "output_type": "display_data"
    }
   ],
   "source": [
    "data(rugged)\n",
    "d <- rugged\n",
    "\n",
    "# log the gdp\n",
    "d$log_gdp <- log(d$rgdppc_2000)\n",
    "\n",
    "# only get the countries with GDP data\n",
    "dd <- d[complete.cases(d$rgdppc_2000),]\n",
    "\n",
    "# rescale the variables\n",
    "dd$log_gdp_std <- dd$log_gdp / mean(dd$log_gpd)\n",
    "dd$rugged_std <- dd$rugged / max(dd$rugged)\n",
    "\n",
    "head(dd)"
   ]
  },
  {
   "cell_type": "code",
   "execution_count": 26,
   "metadata": {
    "vscode": {
     "languageId": "r"
    }
   },
   "outputs": [
    {
     "data": {
      "text/html": [
       "<table class=\"dataframe\">\n",
       "<caption>A data.frame: 170 × 2</caption>\n",
       "<thead>\n",
       "\t<tr><th></th><th scope=col>log_gdp</th><th scope=col>rugged</th></tr>\n",
       "\t<tr><th></th><th scope=col>&lt;dbl&gt;</th><th scope=col>&lt;dbl&gt;</th></tr>\n",
       "</thead>\n",
       "<tbody>\n",
       "\t<tr><th scope=row>3</th><td> 7.492609</td><td>0.858</td></tr>\n",
       "\t<tr><th scope=row>5</th><td> 8.216929</td><td>3.427</td></tr>\n",
       "\t<tr><th scope=row>8</th><td> 9.933263</td><td>0.769</td></tr>\n",
       "\t<tr><th scope=row>9</th><td> 9.407032</td><td>0.775</td></tr>\n",
       "\t<tr><th scope=row>10</th><td> 7.792343</td><td>2.688</td></tr>\n",
       "\t<tr><th scope=row>12</th><td> 9.212541</td><td>0.006</td></tr>\n",
       "\t<tr><th scope=row>13</th><td>10.143191</td><td>0.143</td></tr>\n",
       "\t<tr><th scope=row>14</th><td>10.274632</td><td>3.513</td></tr>\n",
       "\t<tr><th scope=row>15</th><td> 7.852028</td><td>1.672</td></tr>\n",
       "\t<tr><th scope=row>16</th><td> 6.432380</td><td>1.780</td></tr>\n",
       "\t<tr><th scope=row>17</th><td>10.214751</td><td>0.388</td></tr>\n",
       "\t<tr><th scope=row>18</th><td> 6.866123</td><td>0.141</td></tr>\n",
       "\t<tr><th scope=row>19</th><td> 6.906170</td><td>0.236</td></tr>\n",
       "\t<tr><th scope=row>20</th><td> 7.299180</td><td>0.186</td></tr>\n",
       "\t<tr><th scope=row>21</th><td> 8.696037</td><td>1.479</td></tr>\n",
       "\t<tr><th scope=row>22</th><td> 9.675839</td><td>0.231</td></tr>\n",
       "\t<tr><th scope=row>23</th><td> 9.739627</td><td>0.055</td></tr>\n",
       "\t<tr><th scope=row>24</th><td> 8.574514</td><td>2.311</td></tr>\n",
       "\t<tr><th scope=row>25</th><td> 8.476811</td><td>0.164</td></tr>\n",
       "\t<tr><th scope=row>26</th><td> 8.677479</td><td>0.607</td></tr>\n",
       "\t<tr><th scope=row>28</th><td> 7.782747</td><td>0.853</td></tr>\n",
       "\t<tr><th scope=row>29</th><td> 8.895748</td><td>0.240</td></tr>\n",
       "\t<tr><th scope=row>30</th><td> 9.634992</td><td>0.963</td></tr>\n",
       "\t<tr><th scope=row>33</th><td> 8.949301</td><td>0.181</td></tr>\n",
       "\t<tr><th scope=row>34</th><td> 7.045821</td><td>0.197</td></tr>\n",
       "\t<tr><th scope=row>35</th><td>10.214248</td><td>0.775</td></tr>\n",
       "\t<tr><th scope=row>37</th><td>10.314315</td><td>4.761</td></tr>\n",
       "\t<tr><th scope=row>38</th><td> 9.117729</td><td>2.481</td></tr>\n",
       "\t<tr><th scope=row>39</th><td> 8.275966</td><td>1.878</td></tr>\n",
       "\t<tr><th scope=row>40</th><td> 7.362409</td><td>0.224</td></tr>\n",
       "\t<tr><th scope=row>⋮</th><td>⋮</td><td>⋮</td></tr>\n",
       "\t<tr><th scope=row>195</th><td> 9.332890</td><td>1.560</td></tr>\n",
       "\t<tr><th scope=row>196</th><td> 9.733490</td><td>2.496</td></tr>\n",
       "\t<tr><th scope=row>197</th><td>10.161994</td><td>0.715</td></tr>\n",
       "\t<tr><th scope=row>198</th><td> 8.451362</td><td>3.063</td></tr>\n",
       "\t<tr><th scope=row>199</th><td> 9.795761</td><td>4.885</td></tr>\n",
       "\t<tr><th scope=row>200</th><td> 8.084006</td><td>0.756</td></tr>\n",
       "\t<tr><th scope=row>202</th><td> 6.710706</td><td>0.419</td></tr>\n",
       "\t<tr><th scope=row>203</th><td> 7.270212</td><td>0.280</td></tr>\n",
       "\t<tr><th scope=row>204</th><td> 8.745047</td><td>1.051</td></tr>\n",
       "\t<tr><th scope=row>205</th><td> 6.666281</td><td>5.301</td></tr>\n",
       "\t<tr><th scope=row>207</th><td> 8.207281</td><td>0.284</td></tr>\n",
       "\t<tr><th scope=row>209</th><td> 8.790075</td><td>0.773</td></tr>\n",
       "\t<tr><th scope=row>210</th><td> 9.101615</td><td>0.603</td></tr>\n",
       "\t<tr><th scope=row>211</th><td> 8.740585</td><td>0.726</td></tr>\n",
       "\t<tr><th scope=row>212</th><td> 8.781149</td><td>2.620</td></tr>\n",
       "\t<tr><th scope=row>215</th><td> 6.257336</td><td>0.677</td></tr>\n",
       "\t<tr><th scope=row>216</th><td> 7.125697</td><td>0.913</td></tr>\n",
       "\t<tr><th scope=row>217</th><td> 8.320860</td><td>0.416</td></tr>\n",
       "\t<tr><th scope=row>219</th><td> 9.080405</td><td>0.435</td></tr>\n",
       "\t<tr><th scope=row>220</th><td>10.433238</td><td>1.073</td></tr>\n",
       "\t<tr><th scope=row>221</th><td> 7.323638</td><td>0.526</td></tr>\n",
       "\t<tr><th scope=row>223</th><td> 8.581952</td><td>3.071</td></tr>\n",
       "\t<tr><th scope=row>224</th><td> 8.645608</td><td>0.634</td></tr>\n",
       "\t<tr><th scope=row>227</th><td> 7.606757</td><td>2.054</td></tr>\n",
       "\t<tr><th scope=row>228</th><td> 8.062162</td><td>1.729</td></tr>\n",
       "\t<tr><th scope=row>230</th><td> 8.488849</td><td>1.677</td></tr>\n",
       "\t<tr><th scope=row>231</th><td> 6.669180</td><td>2.323</td></tr>\n",
       "\t<tr><th scope=row>232</th><td> 9.150497</td><td>1.761</td></tr>\n",
       "\t<tr><th scope=row>233</th><td> 6.651585</td><td>0.533</td></tr>\n",
       "\t<tr><th scope=row>234</th><td> 7.823732</td><td>1.194</td></tr>\n",
       "</tbody>\n",
       "</table>\n"
      ],
      "text/latex": [
       "A data.frame: 170 × 2\n",
       "\\begin{tabular}{r|ll}\n",
       "  & log\\_gdp & rugged\\\\\n",
       "  & <dbl> & <dbl>\\\\\n",
       "\\hline\n",
       "\t3 &  7.492609 & 0.858\\\\\n",
       "\t5 &  8.216929 & 3.427\\\\\n",
       "\t8 &  9.933263 & 0.769\\\\\n",
       "\t9 &  9.407032 & 0.775\\\\\n",
       "\t10 &  7.792343 & 2.688\\\\\n",
       "\t12 &  9.212541 & 0.006\\\\\n",
       "\t13 & 10.143191 & 0.143\\\\\n",
       "\t14 & 10.274632 & 3.513\\\\\n",
       "\t15 &  7.852028 & 1.672\\\\\n",
       "\t16 &  6.432380 & 1.780\\\\\n",
       "\t17 & 10.214751 & 0.388\\\\\n",
       "\t18 &  6.866123 & 0.141\\\\\n",
       "\t19 &  6.906170 & 0.236\\\\\n",
       "\t20 &  7.299180 & 0.186\\\\\n",
       "\t21 &  8.696037 & 1.479\\\\\n",
       "\t22 &  9.675839 & 0.231\\\\\n",
       "\t23 &  9.739627 & 0.055\\\\\n",
       "\t24 &  8.574514 & 2.311\\\\\n",
       "\t25 &  8.476811 & 0.164\\\\\n",
       "\t26 &  8.677479 & 0.607\\\\\n",
       "\t28 &  7.782747 & 0.853\\\\\n",
       "\t29 &  8.895748 & 0.240\\\\\n",
       "\t30 &  9.634992 & 0.963\\\\\n",
       "\t33 &  8.949301 & 0.181\\\\\n",
       "\t34 &  7.045821 & 0.197\\\\\n",
       "\t35 & 10.214248 & 0.775\\\\\n",
       "\t37 & 10.314315 & 4.761\\\\\n",
       "\t38 &  9.117729 & 2.481\\\\\n",
       "\t39 &  8.275966 & 1.878\\\\\n",
       "\t40 &  7.362409 & 0.224\\\\\n",
       "\t⋮ & ⋮ & ⋮\\\\\n",
       "\t195 &  9.332890 & 1.560\\\\\n",
       "\t196 &  9.733490 & 2.496\\\\\n",
       "\t197 & 10.161994 & 0.715\\\\\n",
       "\t198 &  8.451362 & 3.063\\\\\n",
       "\t199 &  9.795761 & 4.885\\\\\n",
       "\t200 &  8.084006 & 0.756\\\\\n",
       "\t202 &  6.710706 & 0.419\\\\\n",
       "\t203 &  7.270212 & 0.280\\\\\n",
       "\t204 &  8.745047 & 1.051\\\\\n",
       "\t205 &  6.666281 & 5.301\\\\\n",
       "\t207 &  8.207281 & 0.284\\\\\n",
       "\t209 &  8.790075 & 0.773\\\\\n",
       "\t210 &  9.101615 & 0.603\\\\\n",
       "\t211 &  8.740585 & 0.726\\\\\n",
       "\t212 &  8.781149 & 2.620\\\\\n",
       "\t215 &  6.257336 & 0.677\\\\\n",
       "\t216 &  7.125697 & 0.913\\\\\n",
       "\t217 &  8.320860 & 0.416\\\\\n",
       "\t219 &  9.080405 & 0.435\\\\\n",
       "\t220 & 10.433238 & 1.073\\\\\n",
       "\t221 &  7.323638 & 0.526\\\\\n",
       "\t223 &  8.581952 & 3.071\\\\\n",
       "\t224 &  8.645608 & 0.634\\\\\n",
       "\t227 &  7.606757 & 2.054\\\\\n",
       "\t228 &  8.062162 & 1.729\\\\\n",
       "\t230 &  8.488849 & 1.677\\\\\n",
       "\t231 &  6.669180 & 2.323\\\\\n",
       "\t232 &  9.150497 & 1.761\\\\\n",
       "\t233 &  6.651585 & 0.533\\\\\n",
       "\t234 &  7.823732 & 1.194\\\\\n",
       "\\end{tabular}\n"
      ],
      "text/markdown": [
       "\n",
       "A data.frame: 170 × 2\n",
       "\n",
       "| <!--/--> | log_gdp &lt;dbl&gt; | rugged &lt;dbl&gt; |\n",
       "|---|---|---|\n",
       "| 3 |  7.492609 | 0.858 |\n",
       "| 5 |  8.216929 | 3.427 |\n",
       "| 8 |  9.933263 | 0.769 |\n",
       "| 9 |  9.407032 | 0.775 |\n",
       "| 10 |  7.792343 | 2.688 |\n",
       "| 12 |  9.212541 | 0.006 |\n",
       "| 13 | 10.143191 | 0.143 |\n",
       "| 14 | 10.274632 | 3.513 |\n",
       "| 15 |  7.852028 | 1.672 |\n",
       "| 16 |  6.432380 | 1.780 |\n",
       "| 17 | 10.214751 | 0.388 |\n",
       "| 18 |  6.866123 | 0.141 |\n",
       "| 19 |  6.906170 | 0.236 |\n",
       "| 20 |  7.299180 | 0.186 |\n",
       "| 21 |  8.696037 | 1.479 |\n",
       "| 22 |  9.675839 | 0.231 |\n",
       "| 23 |  9.739627 | 0.055 |\n",
       "| 24 |  8.574514 | 2.311 |\n",
       "| 25 |  8.476811 | 0.164 |\n",
       "| 26 |  8.677479 | 0.607 |\n",
       "| 28 |  7.782747 | 0.853 |\n",
       "| 29 |  8.895748 | 0.240 |\n",
       "| 30 |  9.634992 | 0.963 |\n",
       "| 33 |  8.949301 | 0.181 |\n",
       "| 34 |  7.045821 | 0.197 |\n",
       "| 35 | 10.214248 | 0.775 |\n",
       "| 37 | 10.314315 | 4.761 |\n",
       "| 38 |  9.117729 | 2.481 |\n",
       "| 39 |  8.275966 | 1.878 |\n",
       "| 40 |  7.362409 | 0.224 |\n",
       "| ⋮ | ⋮ | ⋮ |\n",
       "| 195 |  9.332890 | 1.560 |\n",
       "| 196 |  9.733490 | 2.496 |\n",
       "| 197 | 10.161994 | 0.715 |\n",
       "| 198 |  8.451362 | 3.063 |\n",
       "| 199 |  9.795761 | 4.885 |\n",
       "| 200 |  8.084006 | 0.756 |\n",
       "| 202 |  6.710706 | 0.419 |\n",
       "| 203 |  7.270212 | 0.280 |\n",
       "| 204 |  8.745047 | 1.051 |\n",
       "| 205 |  6.666281 | 5.301 |\n",
       "| 207 |  8.207281 | 0.284 |\n",
       "| 209 |  8.790075 | 0.773 |\n",
       "| 210 |  9.101615 | 0.603 |\n",
       "| 211 |  8.740585 | 0.726 |\n",
       "| 212 |  8.781149 | 2.620 |\n",
       "| 215 |  6.257336 | 0.677 |\n",
       "| 216 |  7.125697 | 0.913 |\n",
       "| 217 |  8.320860 | 0.416 |\n",
       "| 219 |  9.080405 | 0.435 |\n",
       "| 220 | 10.433238 | 1.073 |\n",
       "| 221 |  7.323638 | 0.526 |\n",
       "| 223 |  8.581952 | 3.071 |\n",
       "| 224 |  8.645608 | 0.634 |\n",
       "| 227 |  7.606757 | 2.054 |\n",
       "| 228 |  8.062162 | 1.729 |\n",
       "| 230 |  8.488849 | 1.677 |\n",
       "| 231 |  6.669180 | 2.323 |\n",
       "| 232 |  9.150497 | 1.761 |\n",
       "| 233 |  6.651585 | 0.533 |\n",
       "| 234 |  7.823732 | 1.194 |\n",
       "\n"
      ],
      "text/plain": [
       "    log_gdp   rugged\n",
       "3    7.492609 0.858 \n",
       "5    8.216929 3.427 \n",
       "8    9.933263 0.769 \n",
       "9    9.407032 0.775 \n",
       "10   7.792343 2.688 \n",
       "12   9.212541 0.006 \n",
       "13  10.143191 0.143 \n",
       "14  10.274632 3.513 \n",
       "15   7.852028 1.672 \n",
       "16   6.432380 1.780 \n",
       "17  10.214751 0.388 \n",
       "18   6.866123 0.141 \n",
       "19   6.906170 0.236 \n",
       "20   7.299180 0.186 \n",
       "21   8.696037 1.479 \n",
       "22   9.675839 0.231 \n",
       "23   9.739627 0.055 \n",
       "24   8.574514 2.311 \n",
       "25   8.476811 0.164 \n",
       "26   8.677479 0.607 \n",
       "28   7.782747 0.853 \n",
       "29   8.895748 0.240 \n",
       "30   9.634992 0.963 \n",
       "33   8.949301 0.181 \n",
       "34   7.045821 0.197 \n",
       "35  10.214248 0.775 \n",
       "37  10.314315 4.761 \n",
       "38   9.117729 2.481 \n",
       "39   8.275966 1.878 \n",
       "40   7.362409 0.224 \n",
       "⋮   ⋮         ⋮     \n",
       "195  9.332890 1.560 \n",
       "196  9.733490 2.496 \n",
       "197 10.161994 0.715 \n",
       "198  8.451362 3.063 \n",
       "199  9.795761 4.885 \n",
       "200  8.084006 0.756 \n",
       "202  6.710706 0.419 \n",
       "203  7.270212 0.280 \n",
       "204  8.745047 1.051 \n",
       "205  6.666281 5.301 \n",
       "207  8.207281 0.284 \n",
       "209  8.790075 0.773 \n",
       "210  9.101615 0.603 \n",
       "211  8.740585 0.726 \n",
       "212  8.781149 2.620 \n",
       "215  6.257336 0.677 \n",
       "216  7.125697 0.913 \n",
       "217  8.320860 0.416 \n",
       "219  9.080405 0.435 \n",
       "220 10.433238 1.073 \n",
       "221  7.323638 0.526 \n",
       "223  8.581952 3.071 \n",
       "224  8.645608 0.634 \n",
       "227  7.606757 2.054 \n",
       "228  8.062162 1.729 \n",
       "230  8.488849 1.677 \n",
       "231  6.669180 2.323 \n",
       "232  9.150497 1.761 \n",
       "233  6.651585 0.533 \n",
       "234  7.823732 1.194 "
      ]
     },
     "metadata": {},
     "output_type": "display_data"
    }
   ],
   "source": [
    "dd[,c(\"log_gdp\", \"rugged\")]"
   ]
  },
  {
   "cell_type": "code",
   "execution_count": 27,
   "metadata": {
    "vscode": {
     "languageId": "r"
    }
   },
   "outputs": [
    {
     "data": {
      "text/html": [
       "0.214960069806704"
      ],
      "text/latex": [
       "0.214960069806704"
      ],
      "text/markdown": [
       "0.214960069806704"
      ],
      "text/plain": [
       "[1] 0.2149601"
      ]
     },
     "metadata": {},
     "output_type": "display_data"
    }
   ],
   "source": [
    "mean(dd$rugged_std)"
   ]
  },
  {
   "attachments": {},
   "cell_type": "markdown",
   "metadata": {},
   "source": [
    "Each row is a country.\n",
    "\n",
    "Normally we would rescale by making each into a z-score. However, we want these values (ruggedness and gpd) to be relevant to humans. That means that we score the ruggedness from 0 (totally flat) to 1 (the most rugged country, which happens to be Losotho). The GDP is similarly scale to be a proportion of the average.\n",
    "\n",
    "Model:\n",
    "\n",
    "$$\n",
    "\\begin{align*}\n",
    "\\log (y_i) &\\sim \\text{Normal}(\\mu_i, sigma) \\\\\n",
    "\\mu_i &= \\alpha + \\beta(r_i - \\bar{r})\n",
    "\\end{align*}\n",
    "$$\n",
    "\n",
    "Now we need the priors. I don't know much a priori about the relationship betwen ruggedness and GPD. Luckily, we can lean on the data a bit.\n",
    "\n",
    "Let's look at the intercept $\\alpha$. This is the log GDP when the ruggedness is at the mean. This should be close to 1, since we scaled it that way. Let's guess at\n",
    "$$\n",
    "\\alpha \\sim \\text{Normal}(1, 1)\n",
    "$$\n",
    "\n",
    "For $\\beta$, we can start with a mean of 0 (no positive or negative bias). What about the standard deviation? Again, we'll guess at 1. Then\n",
    "$$\n",
    "\\beta \\sim \\text{Normal}(0, 1)\n",
    "$$\n",
    "\n",
    "We'll also take a broad guess at $\\sigma$:\n",
    "\n",
    "$$\n",
    "\\sigma \\sim \\text{Exponential}(1)\n",
    "$$"
   ]
  },
  {
   "cell_type": "code",
   "execution_count": 28,
   "metadata": {
    "vscode": {
     "languageId": "r"
    }
   },
   "outputs": [
    {
     "ename": "ERROR",
     "evalue": "Error in quap(alist(log_gdp_std ~ dnorm(mu, sigma), mu <- a + b * (rugged_std - : initial value in 'vmmin' is not finite\nThe start values for the parameters were invalid. This could be caused by missing values (NA) in the data or by start values outside the parameter constraints. If there are no NA values in the data, try using explicit start values.\n",
     "output_type": "error",
     "traceback": [
      "Error in quap(alist(log_gdp_std ~ dnorm(mu, sigma), mu <- a + b * (rugged_std - : initial value in 'vmmin' is not finite\nThe start values for the parameters were invalid. This could be caused by missing values (NA) in the data or by start values outside the parameter constraints. If there are no NA values in the data, try using explicit start values.\nTraceback:\n",
      "1. quap(alist(log_gdp_std ~ dnorm(mu, sigma), mu <- a + b * (rugged_std - \n .     0.215), a ~ dnorm(1, 1), b ~ dnorm(0, 1), sigma ~ dexp(1)), \n .     data = dd)",
      "2. stop(out_msg)"
     ]
    }
   ],
   "source": [
    "m8.1 <- quap(\n",
    "    alist(\n",
    "        log_gdp_std ~ dnorm(mu, sigma),\n",
    "        mu <- a + b * (rugged_std - 0.215),\n",
    "        a ~ dnorm(1, 1),\n",
    "        b ~ dnorm(0, 1),\n",
    "        sigma ~ dexp(1)\n",
    "    ),\n",
    "    data=dd\n",
    ")"
   ]
  },
  {
   "cell_type": "code",
   "execution_count": null,
   "metadata": {
    "vscode": {
     "languageId": "r"
    }
   },
   "outputs": [],
   "source": []
  }
 ],
 "metadata": {
  "kernelspec": {
   "display_name": "R",
   "language": "R",
   "name": "ir"
  },
  "language_info": {
   "codemirror_mode": "r",
   "file_extension": ".r",
   "mimetype": "text/x-r-source",
   "name": "R",
   "pygments_lexer": "r",
   "version": "4.1.2"
  },
  "orig_nbformat": 4
 },
 "nbformat": 4,
 "nbformat_minor": 2
}
